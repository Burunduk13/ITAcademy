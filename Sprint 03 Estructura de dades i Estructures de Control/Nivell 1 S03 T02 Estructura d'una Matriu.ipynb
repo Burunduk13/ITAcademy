{
 "cells": [
  {
   "cell_type": "markdown",
   "id": "2eb1392c",
   "metadata": {},
   "source": [
    "<h1>Nivell 1</h1>"
   ]
  },
  {
   "cell_type": "markdown",
   "id": "0ec2e962",
   "metadata": {},
   "source": [
    "<h2>Exercici 1</h2>\n",
    "<h3>Crea un np.array d'una dimensió, que inclogui l'almenys 8 nombres sencers, data type int64. Mostra la dimensió i la forma de la matriu. </h3>"
   ]
  },
  {
   "cell_type": "code",
   "execution_count": 36,
   "id": "9de72775",
   "metadata": {
    "scrolled": false
   },
   "outputs": [
    {
     "name": "stdout",
     "output_type": "stream",
     "text": [
      "Dimension: 1\n",
      "Shape: (9,)\n"
     ]
    }
   ],
   "source": [
    "import numpy as np\n",
    "arr = np.array([1, 2, 3, 4, 3,5,6,7,8], dtype='int64')\n",
    "\n",
    "print(\"Dimension:\", arr.ndim)\n",
    "print(\"Shape:\", arr.shape)\n"
   ]
  },
  {
   "cell_type": "markdown",
   "id": "34120eef",
   "metadata": {},
   "source": [
    "<h2>Exercici 2</h2>\n",
    "<h3>De la matriu de l'exercici 1, calcula el valor mitjà dels valors introduïts i resta la mitjana resultant de cada un dels valors de la matriu.</h3>"
   ]
  },
  {
   "cell_type": "code",
   "execution_count": 14,
   "id": "1841fe48",
   "metadata": {},
   "outputs": [
    {
     "data": {
      "text/plain": [
       "array([-3.33333333, -2.33333333, -1.33333333, -0.33333333, -1.33333333,\n",
       "        0.66666667,  1.66666667,  2.66666667,  3.66666667])"
      ]
     },
     "execution_count": 14,
     "metadata": {},
     "output_type": "execute_result"
    }
   ],
   "source": [
    "media=arr.mean()\n",
    "arr=arr-media\n",
    "arr"
   ]
  },
  {
   "cell_type": "markdown",
   "id": "29dbaa85",
   "metadata": {},
   "source": [
    "<h2>Exercici 3</h2>\n",
    "<h3>Crea una matriu bidimensional amb una forma de 5 x 5. Extreu el valor màxim de la matriu, i els valors màxims de cadascun dels seus eixos. </h3>"
   ]
  },
  {
   "cell_type": "code",
   "execution_count": 39,
   "id": "85f1081d",
   "metadata": {},
   "outputs": [
    {
     "name": "stdout",
     "output_type": "stream",
     "text": [
      "[[ 3  3  5 13  7]\n",
      " [14 10 11 10 12]\n",
      " [ 9 13 11  2  8]\n",
      " [ 8  8 10 11 12]\n",
      " [11  4  0  3  3]]\n",
      "The maximum value of the array is  14\n",
      "Maxima along the first axis is  [14 13 11 13 12]\n",
      "Maxima along the second axis is [13 14 13 12 11]\n"
     ]
    }
   ],
   "source": [
    "arr3=np.random.randint(15, size=(5, 5))\n",
    "print(arr3)\n",
    "print(\"The maximum value of the array is \",np.amax(arr3))\n",
    "print (\"Maxima along the first axis is \",np.amax(arr3,axis=0))\n",
    "print (\"Maxima along the second axis is\",np.amax(arr3,axis=1))"
   ]
  },
  {
   "cell_type": "code",
   "execution_count": null,
   "id": "5e468ec1",
   "metadata": {},
   "outputs": [],
   "source": []
  }
 ],
 "metadata": {
  "kernelspec": {
   "display_name": "Python 3",
   "language": "python",
   "name": "python3"
  },
  "language_info": {
   "codemirror_mode": {
    "name": "ipython",
    "version": 3
   },
   "file_extension": ".py",
   "mimetype": "text/x-python",
   "name": "python",
   "nbconvert_exporter": "python",
   "pygments_lexer": "ipython3",
   "version": "3.9.2"
  }
 },
 "nbformat": 4,
 "nbformat_minor": 5
}
