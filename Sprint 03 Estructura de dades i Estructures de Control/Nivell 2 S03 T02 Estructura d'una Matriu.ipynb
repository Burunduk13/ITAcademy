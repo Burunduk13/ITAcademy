{
 "cells": [
  {
   "cell_type": "markdown",
   "id": "48e48be7",
   "metadata": {},
   "source": [
    "<h1>Nivell 2</h1>"
   ]
  },
  {
   "cell_type": "markdown",
   "id": "e4e67804",
   "metadata": {},
   "source": [
    "<h2>Exercici 4</h2>\n",
    "<h3>Mostreu-me amb exemples de diferents matrius, la regla fonamental de Broadcasting que diu : \"les matrius es poden transmetre / broadcast si les seves dimensions coincideixen o si una de les matrius té una mida d'1\". </h3>"
   ]
  },
  {
   "cell_type": "code",
   "execution_count": 1,
   "id": "02ff5b83",
   "metadata": {
    "scrolled": true
   },
   "outputs": [
    {
     "name": "stdout",
     "output_type": "stream",
     "text": [
      "[[8 2 0 8]\n",
      " [3 5 2 3]\n",
      " [1 2 8 5]\n",
      " [8 6 6 5]]\n"
     ]
    }
   ],
   "source": [
    "import numpy as np\n",
    "arr4=np.random.randint(9, size=(4, 4))\n",
    "print(arr4)"
   ]
  },
  {
   "cell_type": "markdown",
   "id": "bffa8c56",
   "metadata": {},
   "source": [
    "Array 2*8"
   ]
  },
  {
   "cell_type": "code",
   "execution_count": 2,
   "id": "2ddd1cfb",
   "metadata": {},
   "outputs": [
    {
     "data": {
      "text/plain": [
       "array([[8, 2, 0, 8, 3, 5, 2, 3],\n",
       "       [1, 2, 8, 5, 8, 6, 6, 5]])"
      ]
     },
     "execution_count": 2,
     "metadata": {},
     "output_type": "execute_result"
    }
   ],
   "source": [
    "arr4.reshape(2,8)"
   ]
  },
  {
   "cell_type": "markdown",
   "id": "9537ea3a",
   "metadata": {},
   "source": [
    "**Array 2 * 2 * 4**"
   ]
  },
  {
   "cell_type": "code",
   "execution_count": 3,
   "id": "08cc519c",
   "metadata": {},
   "outputs": [
    {
     "data": {
      "text/plain": [
       "array([[[8, 2, 0, 8],\n",
       "        [3, 5, 2, 3]],\n",
       "\n",
       "       [[1, 2, 8, 5],\n",
       "        [8, 6, 6, 5]]])"
      ]
     },
     "execution_count": 3,
     "metadata": {},
     "output_type": "execute_result"
    }
   ],
   "source": [
    "arr4.reshape(2,2,4)"
   ]
  },
  {
   "cell_type": "markdown",
   "id": "ad4d70aa",
   "metadata": {},
   "source": [
    "**Array 4 * 4 * 1**"
   ]
  },
  {
   "cell_type": "code",
   "execution_count": 4,
   "id": "58bcf948",
   "metadata": {},
   "outputs": [
    {
     "data": {
      "text/plain": [
       "array([[[8],\n",
       "        [2],\n",
       "        [0],\n",
       "        [8]],\n",
       "\n",
       "       [[3],\n",
       "        [5],\n",
       "        [2],\n",
       "        [3]],\n",
       "\n",
       "       [[1],\n",
       "        [2],\n",
       "        [8],\n",
       "        [5]],\n",
       "\n",
       "       [[8],\n",
       "        [6],\n",
       "        [6],\n",
       "        [5]]])"
      ]
     },
     "execution_count": 4,
     "metadata": {},
     "output_type": "execute_result"
    }
   ],
   "source": [
    "arr4.reshape(4,4,1)"
   ]
  },
  {
   "cell_type": "code",
   "execution_count": 5,
   "id": "b3e3a0a5",
   "metadata": {},
   "outputs": [
    {
     "data": {
      "text/plain": [
       "array([[[8, 2, 0, 8, 3, 5, 2, 3],\n",
       "        [1, 2, 8, 5, 8, 6, 6, 5]]])"
      ]
     },
     "execution_count": 5,
     "metadata": {},
     "output_type": "execute_result"
    }
   ],
   "source": [
    "#one \"unknown\" dimension\n",
    "arr4.reshape(1,2,-1)"
   ]
  },
  {
   "cell_type": "markdown",
   "id": "107db655",
   "metadata": {},
   "source": [
    "<h2>Exercici 5</h2>\n",
    "<h3>Utilitza la Indexació per extreure els valors d'una columna i una fila de la matriu. I suma els seus valors. </h3>"
   ]
  },
  {
   "cell_type": "code",
   "execution_count": 6,
   "id": "53fa640e",
   "metadata": {},
   "outputs": [
    {
     "name": "stdout",
     "output_type": "stream",
     "text": [
      "[[3 9 0 7]\n",
      " [9 7 9 8]\n",
      " [5 8 9 3]\n",
      " [1 9 0 4]]\n"
     ]
    }
   ],
   "source": [
    "arr5=np.random.randint(10, size=(4, 4))\n",
    "print(arr5)"
   ]
  },
  {
   "cell_type": "code",
   "execution_count": 7,
   "id": "7f463de5",
   "metadata": {},
   "outputs": [
    {
     "name": "stdout",
     "output_type": "stream",
     "text": [
      "row     3  -  [1 9 0 4]   Sum -  14\n",
      "column  3  -  [7 8 3 4]   Sum -  22\n"
     ]
    }
   ],
   "source": [
    "num=np.random.randint(4)\n",
    "row=arr5[num]\n",
    "print (\"row    \",num, \" - \",row, \"  Sum - \",row.sum())\n",
    "col=arr5[:,num]\n",
    "print (\"column \",num, \" - \",col, \"  Sum - \",col.sum())"
   ]
  },
  {
   "cell_type": "markdown",
   "id": "fbb1c112",
   "metadata": {},
   "source": [
    "<h2>Exercici 6</h2>\n",
    "<h3>Mask la matriu anterior, realitzeu un càlcul booleà vectoritzat, agafant cada element i comprovant si es divideix uniformement per quatre. Això retorna una matriu de mask de la mateixa forma amb els resultats elementals del càlcul. </h3>"
   ]
  },
  {
   "cell_type": "code",
   "execution_count": 8,
   "id": "c85ee2d9",
   "metadata": {},
   "outputs": [
    {
     "data": {
      "text/plain": [
       "masked_array(\n",
       "  data=[[--, --, 0, --],\n",
       "        [--, --, --, 8],\n",
       "        [--, 8, --, --],\n",
       "        [--, --, 0, 4]],\n",
       "  mask=[[ True,  True, False,  True],\n",
       "        [ True,  True,  True, False],\n",
       "        [ True, False,  True,  True],\n",
       "        [ True,  True, False, False]],\n",
       "  fill_value=999999)"
      ]
     },
     "execution_count": 8,
     "metadata": {},
     "output_type": "execute_result"
    }
   ],
   "source": [
    "import numpy.ma as ma\n",
    "maska=arr5%4\n",
    "MatMask=ma.masked_array(arr5, maska)\n",
    "MatMask"
   ]
  },
  {
   "cell_type": "markdown",
   "id": "3b3bc872",
   "metadata": {},
   "source": [
    "<h2>Exercici 7</h2>\n",
    "<h3>A continuació, utilitzeu aquesta màscara per indexar a la matriu de números original. Això fa que la matriu perdi la seva forma original, reduint-la a una dimensió, però encara obteniu les dades que esteu cercant. </h3>"
   ]
  },
  {
   "cell_type": "code",
   "execution_count": 9,
   "id": "bfcfc0ff",
   "metadata": {},
   "outputs": [
    {
     "data": {
      "text/plain": [
       "masked_array(data=[0, 8, 8, 0, 4],\n",
       "             mask=[False, False, False, False, False],\n",
       "       fill_value=999999)"
      ]
     },
     "execution_count": 9,
     "metadata": {},
     "output_type": "execute_result"
    }
   ],
   "source": [
    "MatMask[~MatMask.mask]"
   ]
  },
  {
   "cell_type": "code",
   "execution_count": null,
   "id": "edb5aabb",
   "metadata": {},
   "outputs": [],
   "source": []
  }
 ],
 "metadata": {
  "kernelspec": {
   "display_name": "Python 3",
   "language": "python",
   "name": "python3"
  },
  "language_info": {
   "codemirror_mode": {
    "name": "ipython",
    "version": 3
   },
   "file_extension": ".py",
   "mimetype": "text/x-python",
   "name": "python",
   "nbconvert_exporter": "python",
   "pygments_lexer": "ipython3",
   "version": "3.9.2"
  }
 },
 "nbformat": 4,
 "nbformat_minor": 5
}
