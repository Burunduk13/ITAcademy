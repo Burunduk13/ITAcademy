{
 "cells": [
  {
   "cell_type": "markdown",
   "id": "2eb1392c",
   "metadata": {},
   "source": [
    "<h1>Nivell 1</h1>"
   ]
  },
  {
   "cell_type": "markdown",
   "id": "0ec2e962",
   "metadata": {},
   "source": [
    "<h2>Exercici 1</h2>\n",
    "<h3>L'exercici consisteix a crear un programa que et classifiqui una variable numèrica en funció de l’escala Suspès/Aprovat/Notable/Excel·lent.  </h3>"
   ]
  },
  {
   "cell_type": "code",
   "execution_count": 1,
   "id": "3fe369c6",
   "metadata": {},
   "outputs": [
    {
     "data": {
      "text/plain": [
       "'Suspès'"
      ]
     },
     "execution_count": 1,
     "metadata": {},
     "output_type": "execute_result"
    }
   ],
   "source": [
    "def qualification(score):\n",
    "    nota=\"no qualificated\"\n",
    "    notas={40:\"Suspès\",60:\"Aprovat\",80:\"Notable\",100:\"Excel·lent\" }\n",
    "    for key in notas:\n",
    "        if score>key:\n",
    "            nota=notas[key]\n",
    "    return nota    \n",
    "qualification(57)"
   ]
  },
  {
   "cell_type": "code",
   "execution_count": null,
   "id": "e35708e2",
   "metadata": {},
   "outputs": [],
   "source": []
  },
  {
   "cell_type": "markdown",
   "id": "c14f9c47",
   "metadata": {},
   "source": [
    "<h2>Exercici 2</h2>\n",
    "<h3>Utilitzant el següent tutorial Programiz: Python Input, Output and Import crea un programa que et pregunti dos números. T’ha de mostrar un missatge dient si el primer és més gran, el segon és més gran o són iguals. </h3>"
   ]
  },
  {
   "cell_type": "code",
   "execution_count": 2,
   "id": "111a3e68",
   "metadata": {},
   "outputs": [
    {
     "name": "stdout",
     "output_type": "stream",
     "text": [
      "Enter number 1: 5\n",
      "Enter number 2: 55\n",
      "El segon és més gran\n"
     ]
    }
   ],
   "source": [
    "number1=int(input(\"Enter number 1: \"))\n",
    "number2=int(input(\"Enter number 2: \"))\n",
    "\n",
    "if number1>number2:\n",
    "    mess=\"El primer és més gran\"\n",
    "elif number1<number2:\n",
    "    mess=\"El segon és més gran\"\n",
    "else:\n",
    "    mess=\"Són iguals\"\n",
    "print(mess)"
   ]
  },
  {
   "cell_type": "markdown",
   "id": "0410f70f",
   "metadata": {},
   "source": [
    "<h2>Exercici 3</h2>\n",
    "<h3>Crea un programa que et pregunti el teu nom, i et demani un número. Si el número és 0, hauria de mostrar un missatge d’error. En cas contrari, hauria de mostrar el nom repetit tants cops com indiqui el número. Per exemple, “Joan Joan Joan”.</h3>"
   ]
  },
  {
   "cell_type": "code",
   "execution_count": 3,
   "id": "59a4f9ff",
   "metadata": {},
   "outputs": [
    {
     "name": "stdout",
     "output_type": "stream",
     "text": [
      "Enter your name: Joan\n",
      "Enter number: 5\n",
      "Joan Joan Joan Joan Joan \n"
     ]
    }
   ],
   "source": [
    "name=input(\"Enter your name: \")\n",
    "number=int(input(\"Enter number: \"))\n",
    "if number==0:\n",
    "    print(\"missatge d’error\")\n",
    "else:    \n",
    "    name=(name+\" \")*number\n",
    "    print(name)\n"
   ]
  },
  {
   "cell_type": "markdown",
   "id": "eff9c382",
   "metadata": {},
   "source": [
    "<h2>Exercici 4</h2>\n",
    "<h3>Crea un programa que donada una llista qualsevol, et digui si es simètrica o no. Si ho és, que et digui quants elements té.</h3>"
   ]
  },
  {
   "cell_type": "code",
   "execution_count": 4,
   "id": "3b8d08df",
   "metadata": {},
   "outputs": [
    {
     "name": "stdout",
     "output_type": "stream",
     "text": [
      "Enter numbers: 2 3 4 5 6 7 8 9\n",
      "Llista no és simètrica\n"
     ]
    }
   ],
   "source": [
    "l = [int(s) for s in input(\"Enter numbers: \").split()]\n",
    "s=\"Llista és simètrica\"\n",
    "for i in range (0, len(l)//2):\n",
    "    if l[i]!=l[-i-1]:\n",
    "       s=\"Llista no és simètrica\"\n",
    "       break\n",
    "print(s)"
   ]
  },
  {
   "cell_type": "markdown",
   "id": "c59fdb2d",
   "metadata": {},
   "source": [
    "<h2>Exercici 5</h2>\n",
    "<h3>Crea un programa que donada una llista, et digui quants números coincideixen amb la seva posició. Per exemple [3,4,2,0,2,3,6] el 2 i el 6 coincideixen.</h3>"
   ]
  },
  {
   "cell_type": "code",
   "execution_count": 6,
   "id": "2c6c44e3",
   "metadata": {},
   "outputs": [
    {
     "name": "stdout",
     "output_type": "stream",
     "text": [
      "Enter numbers: 1 1 2 2 3 4 5 6 5\n",
      "2 números coincideixen amb la seva posició\n"
     ]
    }
   ],
   "source": [
    "l = [int(s) for s in input(\"Enter numbers: \").split()]\n",
    "k=0\n",
    "for i in range(0,len(l)):\n",
    "    if i==l[i]:\n",
    "        k+=1\n",
    "print(k,\"números coincideixen amb la seva posició\")"
   ]
  },
  {
   "cell_type": "code",
   "execution_count": null,
   "id": "ce779437",
   "metadata": {},
   "outputs": [],
   "source": []
  }
 ],
 "metadata": {
  "kernelspec": {
   "display_name": "Python 3",
   "language": "python",
   "name": "python3"
  },
  "language_info": {
   "codemirror_mode": {
    "name": "ipython",
    "version": 3
   },
   "file_extension": ".py",
   "mimetype": "text/x-python",
   "name": "python",
   "nbconvert_exporter": "python",
   "pygments_lexer": "ipython3",
   "version": "3.9.2"
  }
 },
 "nbformat": 4,
 "nbformat_minor": 5
}
