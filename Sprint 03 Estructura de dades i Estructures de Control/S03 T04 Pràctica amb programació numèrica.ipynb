{
 "cells": [
  {
   "cell_type": "markdown",
   "id": "41911979",
   "metadata": {},
   "source": [
    "<h1>Nivell 1</h1>"
   ]
  },
  {
   "cell_type": "markdown",
   "id": "9203734f",
   "metadata": {},
   "source": [
    "<h2>Exercici 1</h2>\n",
    "<h3>Crea una funció que donat un Array d’una dimensió, et faci un resum estadístic bàsic de les dades. Si detecta que l’array té més d’una dimensió, ha de mostrar un missatge d’error.</h3>"
   ]
  },
  {
   "cell_type": "code",
   "execution_count": 120,
   "id": "30d9bddd",
   "metadata": {},
   "outputs": [
    {
     "name": "stdout",
     "output_type": "stream",
     "text": [
      "The array is  [ 7 73 83  6 13 90 89 28 42 53 76 81  4 29 39 67  1 87  2  1 48  0]\n",
      "Minimum is 0\n",
      "Maximum is 90\n",
      "Media 41.77272727272727\n",
      "Median 40.5\n",
      "Standard deviatio 33.4010503620658\n",
      "Percentile 40.5\n"
     ]
    }
   ],
   "source": [
    "import numpy as np\n",
    "\n",
    "def statistica(a):\n",
    "    if a.ndim==1:\n",
    "        print(\"The array is \",a)\n",
    "        print (\"Minimum is\", np.amin(a))\n",
    "        print (\"Maximum is\", np.amax(a))\n",
    "        print (\"Media\", a.mean())\n",
    "        print(\"Median\",np.median(a))        \n",
    "        print (\"Standard deviatio\", np.std(a))\n",
    "        print (\"Percentile\",np.percentile(a, 50))\n",
    "    else:\n",
    "        print(\"Error! \")\n",
    "a=np.random.randint(100, size=(22))\n",
    "statistica (a)"
   ]
  },
  {
   "cell_type": "markdown",
   "id": "b76c45e4",
   "metadata": {},
   "source": [
    "<h2>Exercici 2</h2>\n",
    "<h3>Crea una funció que et generi un quadrat NxN de nombres aleatoris entre el 0 i el 100.</h3>"
   ]
  },
  {
   "cell_type": "code",
   "execution_count": 55,
   "id": "81e6a057",
   "metadata": {},
   "outputs": [
    {
     "name": "stdout",
     "output_type": "stream",
     "text": [
      "[[46 36 34 28 91 60 80 45 91 64  6 26]\n",
      " [37 77  0 88 64 52 15  3  2  2 72 90]\n",
      " [47 30 26 47 82  7  0 66 55 86  8 91]\n",
      " [76 22 84 31 70 88  9 89 66 67 99 13]\n",
      " [77 93 42 30 20  4  0 32  7 60  5 42]\n",
      " [66 89 51 59 28 62 26 74 59 72 10 75]\n",
      " [17 63 60 24 75 31 19 53  9 64 89 67]\n",
      " [89 90 85  2 95 37 16 12 93  1 47 52]\n",
      " [29 84 22 92 30 50 80 60 96 16 18 53]\n",
      " [28 98 26 97 38 53 60 13 92 62  3 18]\n",
      " [83  5 18  6 88 37 50 27 25  3 19 18]\n",
      " [63 68 33 51 92 73 36 18 23 89 71  4]]\n"
     ]
    }
   ],
   "source": [
    "import numpy as np\n",
    "def CreateQuadrat(n):\n",
    "    arr=np.random.randint(101, size=(n, n))\n",
    "    return arr\n",
    "print(CreateQuadrat(12))"
   ]
  },
  {
   "cell_type": "markdown",
   "id": "626564a8",
   "metadata": {},
   "source": [
    "<h2>Exercici 3</h2>\n",
    "<h3>Crea una funció que donada una taula de dues dimensions, et calculi els totals per fila i els totals per columna.</h3>"
   ]
  },
  {
   "cell_type": "code",
   "execution_count": 68,
   "id": "ce1cd993",
   "metadata": {},
   "outputs": [
    {
     "name": "stdout",
     "output_type": "stream",
     "text": [
      "Array -\n",
      "[[4 7 3]\n",
      " [7 6 6]\n",
      " [0 9 0]\n",
      " [1 4 9]\n",
      " [5 7 8]]\n",
      "Sum of rows -  [14 19  9 14 20] . Sum of columns -  [17 33 26]\n"
     ]
    }
   ],
   "source": [
    "def sumArray(arr):\n",
    "    sumRow=np.sum(arr,axis=1)\n",
    "    sumCol=np.sum(arr,axis=0)\n",
    "    return sumRow,sumCol\n",
    "arr2=np.random.randint(10, size=(5,3))\n",
    "print (\"Array -\")\n",
    "print(arr2)\n",
    "r,c=sumArray(arr2)\n",
    "print(\"Sum of rows - \",r,\". Sum of columns - \",c)"
   ]
  },
  {
   "cell_type": "markdown",
   "id": "150fb438",
   "metadata": {},
   "source": [
    "<h2>Exercici 4</h2>\n",
    "<h3>Implementa manualment una funció que calculi el coeficient de correlació. Informa’t-en sobre els seus usos i interpretació.</h3>"
   ]
  },
  {
   "cell_type": "code",
   "execution_count": 116,
   "id": "eceb6da5",
   "metadata": {},
   "outputs": [
    {
     "name": "stdout",
     "output_type": "stream",
     "text": [
      "Example 1\n",
      "[ 7 12 12  6  7  1  5  4  0 11  8 12 14  3  0  4  7  0 13  3]\n",
      "[ 1  8  3 14 13  2 12  1  8 11 14  3  7  9 11  7  4  1  9  0]\n",
      "Pearson correlation coefficient - 0.13667739221964714\n",
      "Applying corrcoef() function for control - 0.13667739221964714\n",
      " \n",
      "Example 2\n",
      "[ 7 12 12  6  7  1  5  4  0 11  8 12 14  3  0  4  7  0 13  3]\n",
      "[21 36 36  6 21  2  5  4  0 11  8 36 14  3  0  4 14  0 26  3]\n",
      "Pearson correlation coefficient - 0.8175455549803932\n",
      "Applying corrcoef() function for control - 0.8175455549803933\n"
     ]
    }
   ],
   "source": [
    "import math\n",
    "import random\n",
    "def CoefCorr(x,y):\n",
    "    SumX=x.sum()\n",
    "    SumY=y.sum()\n",
    "    SumXY,SumXX,SumYY=0,0,0\n",
    "    for i in range(0,20):\n",
    "        SumXY+=x[i]*y[i]\n",
    "        SumXX+=x[i]*x[i]\n",
    "        SumYY+=y[i]*y[i]\n",
    "    R=(20*SumXY-SumX*SumY)/(math.sqrt((20*SumXX-SumX*SumX)*(20*SumYY-SumY*SumY)))\n",
    "    return R\n",
    "\n",
    "x=np.random.randint(15, size=(20))\n",
    "y=np.random.randint(15, size=(20))\n",
    "y1=np.array([k*random.randint(1,3) for k in x])\n",
    "print (\"Example 1\")\n",
    "print(x)\n",
    "print(y)\n",
    "print (\"Pearson correlation coefficient -\", CoefCorr(x,y))\n",
    "cc = np.corrcoef(x,y)\n",
    "print(\"Applying corrcoef() function for control -\", cc[0][1])\n",
    "\n",
    "print (\" \\nExample 2\")\n",
    "print(x)\n",
    "print(y1)\n",
    "print (\"Pearson correlation coefficient -\", CoefCorr(x,y1))\n",
    "cc = np.corrcoef(x,y1)\n",
    "print(\"Applying corrcoef() function for control -\", cc[0][1])"
   ]
  },
  {
   "cell_type": "code",
   "execution_count": null,
   "id": "2be7a99e",
   "metadata": {},
   "outputs": [],
   "source": []
  }
 ],
 "metadata": {
  "kernelspec": {
   "display_name": "Python 3",
   "language": "python",
   "name": "python3"
  },
  "language_info": {
   "codemirror_mode": {
    "name": "ipython",
    "version": 3
   },
   "file_extension": ".py",
   "mimetype": "text/x-python",
   "name": "python",
   "nbconvert_exporter": "python",
   "pygments_lexer": "ipython3",
   "version": "3.9.2"
  }
 },
 "nbformat": 4,
 "nbformat_minor": 5
}
