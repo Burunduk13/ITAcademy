{
 "cells": [
  {
   "cell_type": "code",
   "execution_count": 1,
   "id": "84ef0a12",
   "metadata": {},
   "outputs": [
    {
     "data": {
      "text/html": [
       "<div>\n",
       "<style scoped>\n",
       "    .dataframe tbody tr th:only-of-type {\n",
       "        vertical-align: middle;\n",
       "    }\n",
       "\n",
       "    .dataframe tbody tr th {\n",
       "        vertical-align: top;\n",
       "    }\n",
       "\n",
       "    .dataframe thead th {\n",
       "        text-align: right;\n",
       "    }\n",
       "</style>\n",
       "<table border=\"1\" class=\"dataframe\">\n",
       "  <thead>\n",
       "    <tr style=\"text-align: right;\">\n",
       "      <th></th>\n",
       "      <th>ID</th>\n",
       "      <th>Name</th>\n",
       "      <th>Sex</th>\n",
       "      <th>Age</th>\n",
       "      <th>Height</th>\n",
       "      <th>Weight</th>\n",
       "      <th>Team</th>\n",
       "      <th>NOC</th>\n",
       "      <th>Games</th>\n",
       "      <th>Year</th>\n",
       "      <th>Season</th>\n",
       "      <th>City</th>\n",
       "      <th>Sport</th>\n",
       "      <th>Event</th>\n",
       "      <th>Medal</th>\n",
       "    </tr>\n",
       "  </thead>\n",
       "  <tbody>\n",
       "    <tr>\n",
       "      <th>0</th>\n",
       "      <td>1</td>\n",
       "      <td>A Dijiang</td>\n",
       "      <td>M</td>\n",
       "      <td>24.0</td>\n",
       "      <td>180.0</td>\n",
       "      <td>80.0</td>\n",
       "      <td>China</td>\n",
       "      <td>CHN</td>\n",
       "      <td>1992 Summer</td>\n",
       "      <td>1992</td>\n",
       "      <td>Summer</td>\n",
       "      <td>Barcelona</td>\n",
       "      <td>Basketball</td>\n",
       "      <td>Basketball Men's Basketball</td>\n",
       "      <td>0</td>\n",
       "    </tr>\n",
       "    <tr>\n",
       "      <th>1</th>\n",
       "      <td>2</td>\n",
       "      <td>A Lamusi</td>\n",
       "      <td>M</td>\n",
       "      <td>23.0</td>\n",
       "      <td>170.0</td>\n",
       "      <td>60.0</td>\n",
       "      <td>China</td>\n",
       "      <td>CHN</td>\n",
       "      <td>2012 Summer</td>\n",
       "      <td>2012</td>\n",
       "      <td>Summer</td>\n",
       "      <td>London</td>\n",
       "      <td>Judo</td>\n",
       "      <td>Judo Men's Extra-Lightweight</td>\n",
       "      <td>0</td>\n",
       "    </tr>\n",
       "    <tr>\n",
       "      <th>4</th>\n",
       "      <td>5</td>\n",
       "      <td>Christine Jacoba Aaftink</td>\n",
       "      <td>F</td>\n",
       "      <td>21.0</td>\n",
       "      <td>185.0</td>\n",
       "      <td>82.0</td>\n",
       "      <td>Netherlands</td>\n",
       "      <td>NED</td>\n",
       "      <td>1988 Winter</td>\n",
       "      <td>1988</td>\n",
       "      <td>Winter</td>\n",
       "      <td>Calgary</td>\n",
       "      <td>Speed Skating</td>\n",
       "      <td>Speed Skating Women's 500 metres</td>\n",
       "      <td>0</td>\n",
       "    </tr>\n",
       "    <tr>\n",
       "      <th>5</th>\n",
       "      <td>5</td>\n",
       "      <td>Christine Jacoba Aaftink</td>\n",
       "      <td>F</td>\n",
       "      <td>21.0</td>\n",
       "      <td>185.0</td>\n",
       "      <td>82.0</td>\n",
       "      <td>Netherlands</td>\n",
       "      <td>NED</td>\n",
       "      <td>1988 Winter</td>\n",
       "      <td>1988</td>\n",
       "      <td>Winter</td>\n",
       "      <td>Calgary</td>\n",
       "      <td>Speed Skating</td>\n",
       "      <td>Speed Skating Women's 1,000 metres</td>\n",
       "      <td>0</td>\n",
       "    </tr>\n",
       "    <tr>\n",
       "      <th>6</th>\n",
       "      <td>5</td>\n",
       "      <td>Christine Jacoba Aaftink</td>\n",
       "      <td>F</td>\n",
       "      <td>25.0</td>\n",
       "      <td>185.0</td>\n",
       "      <td>82.0</td>\n",
       "      <td>Netherlands</td>\n",
       "      <td>NED</td>\n",
       "      <td>1992 Winter</td>\n",
       "      <td>1992</td>\n",
       "      <td>Winter</td>\n",
       "      <td>Albertville</td>\n",
       "      <td>Speed Skating</td>\n",
       "      <td>Speed Skating Women's 500 metres</td>\n",
       "      <td>0</td>\n",
       "    </tr>\n",
       "  </tbody>\n",
       "</table>\n",
       "</div>"
      ],
      "text/plain": [
       "   ID                      Name Sex   Age  Height  Weight         Team  NOC  \\\n",
       "0   1                 A Dijiang   M  24.0   180.0    80.0        China  CHN   \n",
       "1   2                  A Lamusi   M  23.0   170.0    60.0        China  CHN   \n",
       "4   5  Christine Jacoba Aaftink   F  21.0   185.0    82.0  Netherlands  NED   \n",
       "5   5  Christine Jacoba Aaftink   F  21.0   185.0    82.0  Netherlands  NED   \n",
       "6   5  Christine Jacoba Aaftink   F  25.0   185.0    82.0  Netherlands  NED   \n",
       "\n",
       "         Games  Year  Season         City          Sport  \\\n",
       "0  1992 Summer  1992  Summer    Barcelona     Basketball   \n",
       "1  2012 Summer  2012  Summer       London           Judo   \n",
       "4  1988 Winter  1988  Winter      Calgary  Speed Skating   \n",
       "5  1988 Winter  1988  Winter      Calgary  Speed Skating   \n",
       "6  1992 Winter  1992  Winter  Albertville  Speed Skating   \n",
       "\n",
       "                                Event  Medal  \n",
       "0         Basketball Men's Basketball      0  \n",
       "1        Judo Men's Extra-Lightweight      0  \n",
       "4    Speed Skating Women's 500 metres      0  \n",
       "5  Speed Skating Women's 1,000 metres      0  \n",
       "6    Speed Skating Women's 500 metres      0  "
      ]
     },
     "execution_count": 1,
     "metadata": {},
     "output_type": "execute_result"
    }
   ],
   "source": [
    "import pandas as pd\n",
    "import numpy as np\n",
    "import random\n",
    "df=pd.read_csv (\"data/athlets.csv\")\n",
    "df[\"Medal\"]=df[\"Medal\"].apply(lambda x: 1 if str(x) != \"nan\" else 0)\n",
    "df.dropna(inplace=True)\n",
    "df.reset_index(drop=True)\n",
    "df.head()"
   ]
  },
  {
   "cell_type": "code",
   "execution_count": 2,
   "id": "b6c18c29",
   "metadata": {},
   "outputs": [
    {
     "data": {
      "text/html": [
       "<div>\n",
       "<style scoped>\n",
       "    .dataframe tbody tr th:only-of-type {\n",
       "        vertical-align: middle;\n",
       "    }\n",
       "\n",
       "    .dataframe tbody tr th {\n",
       "        vertical-align: top;\n",
       "    }\n",
       "\n",
       "    .dataframe thead th {\n",
       "        text-align: right;\n",
       "    }\n",
       "</style>\n",
       "<table border=\"1\" class=\"dataframe\">\n",
       "  <thead>\n",
       "    <tr style=\"text-align: right;\">\n",
       "      <th></th>\n",
       "      <th>ID</th>\n",
       "      <th>Age</th>\n",
       "      <th>Height</th>\n",
       "      <th>Weight</th>\n",
       "      <th>Year</th>\n",
       "      <th>Medal</th>\n",
       "    </tr>\n",
       "  </thead>\n",
       "  <tbody>\n",
       "    <tr>\n",
       "      <th>count</th>\n",
       "      <td>206165.000000</td>\n",
       "      <td>206165.000000</td>\n",
       "      <td>206165.000000</td>\n",
       "      <td>206165.000000</td>\n",
       "      <td>206165.000000</td>\n",
       "      <td>206165.000000</td>\n",
       "    </tr>\n",
       "    <tr>\n",
       "      <th>mean</th>\n",
       "      <td>68616.017675</td>\n",
       "      <td>25.055509</td>\n",
       "      <td>175.371950</td>\n",
       "      <td>70.688337</td>\n",
       "      <td>1989.674678</td>\n",
       "      <td>0.146392</td>\n",
       "    </tr>\n",
       "    <tr>\n",
       "      <th>std</th>\n",
       "      <td>38996.514355</td>\n",
       "      <td>5.483096</td>\n",
       "      <td>10.546088</td>\n",
       "      <td>14.340338</td>\n",
       "      <td>20.130865</td>\n",
       "      <td>0.353500</td>\n",
       "    </tr>\n",
       "    <tr>\n",
       "      <th>min</th>\n",
       "      <td>1.000000</td>\n",
       "      <td>11.000000</td>\n",
       "      <td>127.000000</td>\n",
       "      <td>25.000000</td>\n",
       "      <td>1896.000000</td>\n",
       "      <td>0.000000</td>\n",
       "    </tr>\n",
       "    <tr>\n",
       "      <th>25%</th>\n",
       "      <td>35194.000000</td>\n",
       "      <td>21.000000</td>\n",
       "      <td>168.000000</td>\n",
       "      <td>60.000000</td>\n",
       "      <td>1976.000000</td>\n",
       "      <td>0.000000</td>\n",
       "    </tr>\n",
       "    <tr>\n",
       "      <th>50%</th>\n",
       "      <td>68629.000000</td>\n",
       "      <td>24.000000</td>\n",
       "      <td>175.000000</td>\n",
       "      <td>70.000000</td>\n",
       "      <td>1992.000000</td>\n",
       "      <td>0.000000</td>\n",
       "    </tr>\n",
       "    <tr>\n",
       "      <th>75%</th>\n",
       "      <td>102313.000000</td>\n",
       "      <td>28.000000</td>\n",
       "      <td>183.000000</td>\n",
       "      <td>79.000000</td>\n",
       "      <td>2006.000000</td>\n",
       "      <td>0.000000</td>\n",
       "    </tr>\n",
       "    <tr>\n",
       "      <th>max</th>\n",
       "      <td>135571.000000</td>\n",
       "      <td>71.000000</td>\n",
       "      <td>226.000000</td>\n",
       "      <td>214.000000</td>\n",
       "      <td>2016.000000</td>\n",
       "      <td>1.000000</td>\n",
       "    </tr>\n",
       "  </tbody>\n",
       "</table>\n",
       "</div>"
      ],
      "text/plain": [
       "                  ID            Age         Height         Weight  \\\n",
       "count  206165.000000  206165.000000  206165.000000  206165.000000   \n",
       "mean    68616.017675      25.055509     175.371950      70.688337   \n",
       "std     38996.514355       5.483096      10.546088      14.340338   \n",
       "min         1.000000      11.000000     127.000000      25.000000   \n",
       "25%     35194.000000      21.000000     168.000000      60.000000   \n",
       "50%     68629.000000      24.000000     175.000000      70.000000   \n",
       "75%    102313.000000      28.000000     183.000000      79.000000   \n",
       "max    135571.000000      71.000000     226.000000     214.000000   \n",
       "\n",
       "                Year          Medal  \n",
       "count  206165.000000  206165.000000  \n",
       "mean     1989.674678       0.146392  \n",
       "std        20.130865       0.353500  \n",
       "min      1896.000000       0.000000  \n",
       "25%      1976.000000       0.000000  \n",
       "50%      1992.000000       0.000000  \n",
       "75%      2006.000000       0.000000  \n",
       "max      2016.000000       1.000000  "
      ]
     },
     "execution_count": 2,
     "metadata": {},
     "output_type": "execute_result"
    }
   ],
   "source": [
    "df.describe()"
   ]
  },
  {
   "cell_type": "code",
   "execution_count": 3,
   "id": "4f0104d5",
   "metadata": {},
   "outputs": [
    {
     "name": "stdout",
     "output_type": "stream",
     "text": [
      "The mode of Age column is [23.]\n",
      "The median of Age column is 24.0\n",
      "The standard deviation of Age column is 5.4830959133789\n",
      "The mean of  Age column is  25.055508937016466 \n",
      "\n",
      "The mode of Height column is [180.]\n",
      "The median of Height column is 175.0\n",
      "The standard deviation of Height column is 10.546088104874467\n",
      "The mean of  Height column is  175.3719496519778 \n",
      "\n",
      "The mode of Weight column is [70.]\n",
      "The median of Weight column is 70.0\n",
      "The standard deviation of Weight column is 14.340337919424229\n",
      "The mean of  Weight column is  70.68833701161691 \n",
      "\n"
     ]
    }
   ],
   "source": [
    "def statistic(df,col):\n",
    "    print( 'The mode of ' + col + ' column is', df[col].mode().values)\n",
    "    print('The median of ' + col + ' column is', df[col].median())\n",
    "    print('The standard deviation of ' + col + ' column is',df[col].std())\n",
    "    print('The mean of  ' + col + ' column is ',df[col].mean(),'\\n')\n",
    "statistic(df,\"Age\")  \n",
    "statistic(df,\"Height\")  \n",
    "statistic(df,\"Weight\")  "
   ]
  },
  {
   "cell_type": "markdown",
   "id": "0b8f0432",
   "metadata": {},
   "source": [
    "# Exercici 2"
   ]
  },
  {
   "cell_type": "code",
   "execution_count": 11,
   "id": "97330e31",
   "metadata": {},
   "outputs": [
    {
     "data": {
      "text/html": [
       "<div>\n",
       "<style scoped>\n",
       "    .dataframe tbody tr th:only-of-type {\n",
       "        vertical-align: middle;\n",
       "    }\n",
       "\n",
       "    .dataframe tbody tr th {\n",
       "        vertical-align: top;\n",
       "    }\n",
       "\n",
       "    .dataframe thead th {\n",
       "        text-align: right;\n",
       "    }\n",
       "</style>\n",
       "<table border=\"1\" class=\"dataframe\">\n",
       "  <thead>\n",
       "    <tr style=\"text-align: right;\">\n",
       "      <th></th>\n",
       "      <th>Height</th>\n",
       "      <th>Weight</th>\n",
       "      <th>Age</th>\n",
       "      <th>Medal</th>\n",
       "    </tr>\n",
       "  </thead>\n",
       "  <tbody>\n",
       "    <tr>\n",
       "      <th>Height</th>\n",
       "      <td>1.000</td>\n",
       "      <td>0.797</td>\n",
       "      <td>0.142</td>\n",
       "      <td>0.089</td>\n",
       "    </tr>\n",
       "    <tr>\n",
       "      <th>Weight</th>\n",
       "      <td>0.797</td>\n",
       "      <td>1.000</td>\n",
       "      <td>0.212</td>\n",
       "      <td>0.089</td>\n",
       "    </tr>\n",
       "    <tr>\n",
       "      <th>Age</th>\n",
       "      <td>0.142</td>\n",
       "      <td>0.212</td>\n",
       "      <td>1.000</td>\n",
       "      <td>0.028</td>\n",
       "    </tr>\n",
       "    <tr>\n",
       "      <th>Medal</th>\n",
       "      <td>0.089</td>\n",
       "      <td>0.089</td>\n",
       "      <td>0.028</td>\n",
       "      <td>1.000</td>\n",
       "    </tr>\n",
       "  </tbody>\n",
       "</table>\n",
       "</div>"
      ],
      "text/plain": [
       "        Height  Weight    Age  Medal\n",
       "Height   1.000   0.797  0.142  0.089\n",
       "Weight   0.797   1.000  0.212  0.089\n",
       "Age      0.142   0.212  1.000  0.028\n",
       "Medal    0.089   0.089  0.028  1.000"
      ]
     },
     "execution_count": 11,
     "metadata": {},
     "output_type": "execute_result"
    }
   ],
   "source": [
    "#Compute pairwise correlation of columns\n",
    "corr_matrix=df[['Height','Weight','Age','Medal']].corr().round(decimals=3)\n",
    "corr_matrix"
   ]
  },
  {
   "cell_type": "markdown",
   "id": "56e597c7",
   "metadata": {},
   "source": [
    "There are only two attributes with correlation: Weight and Height"
   ]
  },
  {
   "cell_type": "code",
   "execution_count": 7,
   "id": "31337cfc",
   "metadata": {},
   "outputs": [
    {
     "data": {
      "image/png": "[encoded data removed]",
      "text/plain": [
       "<Figure size 360x360 with 1 Axes>"
      ]
     },
     "metadata": {
      "needs_background": "light"
     },
     "output_type": "display_data"
    }
   ],
   "source": [
    "import matplotlib.pyplot as plt\n",
    "import seaborn as sns\n",
    "sns.lmplot(x=\"Height\", y=\"Weight\", data=df,\n",
    "           line_kws={'color': 'red'},ci=None)\n",
    "\n",
    "plt.title('Height and Weight correlation')\n",
    "\n",
    "plt.show()"
   ]
  },
  {
   "cell_type": "markdown",
   "id": "97c23598",
   "metadata": {},
   "source": [
    "\n",
    "# Exercici 3"
   ]
  },
  {
   "cell_type": "code",
   "execution_count": 19,
   "id": "dead5a7e",
   "metadata": {},
   "outputs": [
    {
     "data": {
      "image/png": "[encoded data removed]",
      "text/plain": [
       "<Figure size 720x432 with 2 Axes>"
      ]
     },
     "metadata": {
      "needs_background": "light"
     },
     "output_type": "display_data"
    }
   ],
   "source": [
    "# Matrix correlation\n",
    "plt.figure(figsize=(10,6))\n",
    "sns.heatmap(corr_matrix, annot=True)\n",
    "plt.title('Correlation of all attributes')\n",
    "plt.show()"
   ]
  },
  {
   "cell_type": "markdown",
   "id": "499dca39",
   "metadata": {},
   "source": [
    "# Exercici 4"
   ]
  },
  {
   "cell_type": "code",
   "execution_count": 27,
   "id": "452bebd8",
   "metadata": {},
   "outputs": [
    {
     "name": "stdout",
     "output_type": "stream",
     "text": [
      "Geometric mean of Age is 24.5\n",
      "Harmonic mean of Age is 23.98 \n",
      "\n",
      "Geometric mean of Height is 175.05\n",
      "Harmonic mean of Height is 174.73 \n",
      "\n",
      "Geometric mean of Weight is 69.29\n",
      "Harmonic mean of Weight is 67.92 \n",
      "\n"
     ]
    }
   ],
   "source": [
    "from scipy.stats import gmean\n",
    "from scipy.stats import hmean\n",
    "\n",
    "def _mean(df,col):\n",
    "    print (\"Geometric mean of \" + col + \" is\", gmean(df[col]).round(2))\n",
    "    print (\"Harmonic mean of \" + col + \" is\", hmean(df[col]).round(2),'\\n')\n",
    "_mean(df,\"Age\")\n",
    "_mean(df,\"Height\")\n",
    "_mean(df,\"Weight\")"
   ]
  },
  {
   "cell_type": "code",
   "execution_count": null,
   "id": "8e317156",
   "metadata": {},
   "outputs": [],
   "source": []
  }
 ],
 "metadata": {
  "kernelspec": {
   "display_name": "Python 3 (ipykernel)",
   "language": "python",
   "name": "python3"
  },
  "language_info": {
   "codemirror_mode": {
    "name": "ipython",
    "version": 3
   },
   "file_extension": ".py",
   "mimetype": "text/x-python",
   "name": "python",
   "nbconvert_exporter": "python",
   "pygments_lexer": "ipython3",
   "version": "3.9.6"
  }
 },
 "nbformat": 4,
 "nbformat_minor": 5
}
