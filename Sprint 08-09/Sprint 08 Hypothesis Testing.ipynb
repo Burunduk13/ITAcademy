{
 "cells": [
  {
   "cell_type": "code",
   "execution_count": 2,
   "id": "60400638",
   "metadata": {},
   "outputs": [
    {
     "data": {
      "text/html": [
       "<div>\n",
       "<style scoped>\n",
       "    .dataframe tbody tr th:only-of-type {\n",
       "        vertical-align: middle;\n",
       "    }\n",
       "\n",
       "    .dataframe tbody tr th {\n",
       "        vertical-align: top;\n",
       "    }\n",
       "\n",
       "    .dataframe thead th {\n",
       "        text-align: right;\n",
       "    }\n",
       "</style>\n",
       "<table border=\"1\" class=\"dataframe\">\n",
       "  <thead>\n",
       "    <tr style=\"text-align: right;\">\n",
       "      <th></th>\n",
       "      <th>ID</th>\n",
       "      <th>Name</th>\n",
       "      <th>Sex</th>\n",
       "      <th>Age</th>\n",
       "      <th>Height</th>\n",
       "      <th>Weight</th>\n",
       "      <th>Team</th>\n",
       "      <th>NOC</th>\n",
       "      <th>Games</th>\n",
       "      <th>Year</th>\n",
       "      <th>Season</th>\n",
       "      <th>City</th>\n",
       "      <th>Sport</th>\n",
       "      <th>Event</th>\n",
       "      <th>Medal</th>\n",
       "    </tr>\n",
       "  </thead>\n",
       "  <tbody>\n",
       "    <tr>\n",
       "      <th>0</th>\n",
       "      <td>1</td>\n",
       "      <td>A Dijiang</td>\n",
       "      <td>M</td>\n",
       "      <td>24.0</td>\n",
       "      <td>180.0</td>\n",
       "      <td>80.0</td>\n",
       "      <td>China</td>\n",
       "      <td>CHN</td>\n",
       "      <td>1992 Summer</td>\n",
       "      <td>1992</td>\n",
       "      <td>Summer</td>\n",
       "      <td>Barcelona</td>\n",
       "      <td>Basketball</td>\n",
       "      <td>Basketball Men's Basketball</td>\n",
       "      <td>0</td>\n",
       "    </tr>\n",
       "    <tr>\n",
       "      <th>1</th>\n",
       "      <td>2</td>\n",
       "      <td>A Lamusi</td>\n",
       "      <td>M</td>\n",
       "      <td>23.0</td>\n",
       "      <td>170.0</td>\n",
       "      <td>60.0</td>\n",
       "      <td>China</td>\n",
       "      <td>CHN</td>\n",
       "      <td>2012 Summer</td>\n",
       "      <td>2012</td>\n",
       "      <td>Summer</td>\n",
       "      <td>London</td>\n",
       "      <td>Judo</td>\n",
       "      <td>Judo Men's Extra-Lightweight</td>\n",
       "      <td>0</td>\n",
       "    </tr>\n",
       "    <tr>\n",
       "      <th>4</th>\n",
       "      <td>5</td>\n",
       "      <td>Christine Jacoba Aaftink</td>\n",
       "      <td>F</td>\n",
       "      <td>21.0</td>\n",
       "      <td>185.0</td>\n",
       "      <td>82.0</td>\n",
       "      <td>Netherlands</td>\n",
       "      <td>NED</td>\n",
       "      <td>1988 Winter</td>\n",
       "      <td>1988</td>\n",
       "      <td>Winter</td>\n",
       "      <td>Calgary</td>\n",
       "      <td>Speed Skating</td>\n",
       "      <td>Speed Skating Women's 500 metres</td>\n",
       "      <td>0</td>\n",
       "    </tr>\n",
       "    <tr>\n",
       "      <th>5</th>\n",
       "      <td>5</td>\n",
       "      <td>Christine Jacoba Aaftink</td>\n",
       "      <td>F</td>\n",
       "      <td>21.0</td>\n",
       "      <td>185.0</td>\n",
       "      <td>82.0</td>\n",
       "      <td>Netherlands</td>\n",
       "      <td>NED</td>\n",
       "      <td>1988 Winter</td>\n",
       "      <td>1988</td>\n",
       "      <td>Winter</td>\n",
       "      <td>Calgary</td>\n",
       "      <td>Speed Skating</td>\n",
       "      <td>Speed Skating Women's 1,000 metres</td>\n",
       "      <td>0</td>\n",
       "    </tr>\n",
       "    <tr>\n",
       "      <th>6</th>\n",
       "      <td>5</td>\n",
       "      <td>Christine Jacoba Aaftink</td>\n",
       "      <td>F</td>\n",
       "      <td>25.0</td>\n",
       "      <td>185.0</td>\n",
       "      <td>82.0</td>\n",
       "      <td>Netherlands</td>\n",
       "      <td>NED</td>\n",
       "      <td>1992 Winter</td>\n",
       "      <td>1992</td>\n",
       "      <td>Winter</td>\n",
       "      <td>Albertville</td>\n",
       "      <td>Speed Skating</td>\n",
       "      <td>Speed Skating Women's 500 metres</td>\n",
       "      <td>0</td>\n",
       "    </tr>\n",
       "  </tbody>\n",
       "</table>\n",
       "</div>"
      ],
      "text/plain": [
       "   ID                      Name Sex   Age  Height  Weight         Team  NOC  \\\n",
       "0   1                 A Dijiang   M  24.0   180.0    80.0        China  CHN   \n",
       "1   2                  A Lamusi   M  23.0   170.0    60.0        China  CHN   \n",
       "4   5  Christine Jacoba Aaftink   F  21.0   185.0    82.0  Netherlands  NED   \n",
       "5   5  Christine Jacoba Aaftink   F  21.0   185.0    82.0  Netherlands  NED   \n",
       "6   5  Christine Jacoba Aaftink   F  25.0   185.0    82.0  Netherlands  NED   \n",
       "\n",
       "         Games  Year  Season         City          Sport  \\\n",
       "0  1992 Summer  1992  Summer    Barcelona     Basketball   \n",
       "1  2012 Summer  2012  Summer       London           Judo   \n",
       "4  1988 Winter  1988  Winter      Calgary  Speed Skating   \n",
       "5  1988 Winter  1988  Winter      Calgary  Speed Skating   \n",
       "6  1992 Winter  1992  Winter  Albertville  Speed Skating   \n",
       "\n",
       "                                Event  Medal  \n",
       "0         Basketball Men's Basketball      0  \n",
       "1        Judo Men's Extra-Lightweight      0  \n",
       "4    Speed Skating Women's 500 metres      0  \n",
       "5  Speed Skating Women's 1,000 metres      0  \n",
       "6    Speed Skating Women's 500 metres      0  "
      ]
     },
     "execution_count": 2,
     "metadata": {},
     "output_type": "execute_result"
    }
   ],
   "source": [
    "import pandas as pd\n",
    "import numpy as np\n",
    "import random\n",
    "import matplotlib.pyplot as plt\n",
    "import seaborn as sns\n",
    "\n",
    "df=pd.read_csv (\"data/athlets.csv\")\n",
    "df[\"Medal\"]=df[\"Medal\"].apply(lambda x: 1 if str(x) != \"nan\" else 0)\n",
    "df.dropna(inplace=True)\n",
    "df.reset_index(drop=True)\n",
    "df.head()"
   ]
  },
  {
   "cell_type": "code",
   "execution_count": 3,
   "id": "45d79715",
   "metadata": {},
   "outputs": [
    {
     "data": {
      "text/html": [
       "<div>\n",
       "<style scoped>\n",
       "    .dataframe tbody tr th:only-of-type {\n",
       "        vertical-align: middle;\n",
       "    }\n",
       "\n",
       "    .dataframe tbody tr th {\n",
       "        vertical-align: top;\n",
       "    }\n",
       "\n",
       "    .dataframe thead th {\n",
       "        text-align: right;\n",
       "    }\n",
       "</style>\n",
       "<table border=\"1\" class=\"dataframe\">\n",
       "  <thead>\n",
       "    <tr style=\"text-align: right;\">\n",
       "      <th></th>\n",
       "      <th>ID</th>\n",
       "      <th>Age</th>\n",
       "      <th>Height</th>\n",
       "      <th>Weight</th>\n",
       "      <th>Year</th>\n",
       "      <th>Medal</th>\n",
       "    </tr>\n",
       "  </thead>\n",
       "  <tbody>\n",
       "    <tr>\n",
       "      <th>count</th>\n",
       "      <td>206165.000000</td>\n",
       "      <td>206165.000000</td>\n",
       "      <td>206165.000000</td>\n",
       "      <td>206165.000000</td>\n",
       "      <td>206165.000000</td>\n",
       "      <td>206165.000000</td>\n",
       "    </tr>\n",
       "    <tr>\n",
       "      <th>mean</th>\n",
       "      <td>68616.017675</td>\n",
       "      <td>25.055509</td>\n",
       "      <td>175.371950</td>\n",
       "      <td>70.688337</td>\n",
       "      <td>1989.674678</td>\n",
       "      <td>0.146392</td>\n",
       "    </tr>\n",
       "    <tr>\n",
       "      <th>std</th>\n",
       "      <td>38996.514355</td>\n",
       "      <td>5.483096</td>\n",
       "      <td>10.546088</td>\n",
       "      <td>14.340338</td>\n",
       "      <td>20.130865</td>\n",
       "      <td>0.353500</td>\n",
       "    </tr>\n",
       "    <tr>\n",
       "      <th>min</th>\n",
       "      <td>1.000000</td>\n",
       "      <td>11.000000</td>\n",
       "      <td>127.000000</td>\n",
       "      <td>25.000000</td>\n",
       "      <td>1896.000000</td>\n",
       "      <td>0.000000</td>\n",
       "    </tr>\n",
       "    <tr>\n",
       "      <th>25%</th>\n",
       "      <td>35194.000000</td>\n",
       "      <td>21.000000</td>\n",
       "      <td>168.000000</td>\n",
       "      <td>60.000000</td>\n",
       "      <td>1976.000000</td>\n",
       "      <td>0.000000</td>\n",
       "    </tr>\n",
       "    <tr>\n",
       "      <th>50%</th>\n",
       "      <td>68629.000000</td>\n",
       "      <td>24.000000</td>\n",
       "      <td>175.000000</td>\n",
       "      <td>70.000000</td>\n",
       "      <td>1992.000000</td>\n",
       "      <td>0.000000</td>\n",
       "    </tr>\n",
       "    <tr>\n",
       "      <th>75%</th>\n",
       "      <td>102313.000000</td>\n",
       "      <td>28.000000</td>\n",
       "      <td>183.000000</td>\n",
       "      <td>79.000000</td>\n",
       "      <td>2006.000000</td>\n",
       "      <td>0.000000</td>\n",
       "    </tr>\n",
       "    <tr>\n",
       "      <th>max</th>\n",
       "      <td>135571.000000</td>\n",
       "      <td>71.000000</td>\n",
       "      <td>226.000000</td>\n",
       "      <td>214.000000</td>\n",
       "      <td>2016.000000</td>\n",
       "      <td>1.000000</td>\n",
       "    </tr>\n",
       "  </tbody>\n",
       "</table>\n",
       "</div>"
      ],
      "text/plain": [
       "                  ID            Age         Height         Weight  \\\n",
       "count  206165.000000  206165.000000  206165.000000  206165.000000   \n",
       "mean    68616.017675      25.055509     175.371950      70.688337   \n",
       "std     38996.514355       5.483096      10.546088      14.340338   \n",
       "min         1.000000      11.000000     127.000000      25.000000   \n",
       "25%     35194.000000      21.000000     168.000000      60.000000   \n",
       "50%     68629.000000      24.000000     175.000000      70.000000   \n",
       "75%    102313.000000      28.000000     183.000000      79.000000   \n",
       "max    135571.000000      71.000000     226.000000     214.000000   \n",
       "\n",
       "                Year          Medal  \n",
       "count  206165.000000  206165.000000  \n",
       "mean     1989.674678       0.146392  \n",
       "std        20.130865       0.353500  \n",
       "min      1896.000000       0.000000  \n",
       "25%      1976.000000       0.000000  \n",
       "50%      1992.000000       0.000000  \n",
       "75%      2006.000000       0.000000  \n",
       "max      2016.000000       1.000000  "
      ]
     },
     "execution_count": 3,
     "metadata": {},
     "output_type": "execute_result"
    }
   ],
   "source": [
    "df.describe()"
   ]
  },
  {
   "cell_type": "code",
   "execution_count": 12,
   "id": "eae4c86e",
   "metadata": {},
   "outputs": [
    {
     "data": {
      "image/png": "[encoded data removed]",
      "text/plain": [
       "<Figure size 1080x288 with 1 Axes>"
      ]
     },
     "metadata": {
      "needs_background": "light"
     },
     "output_type": "display_data"
    }
   ],
   "source": [
    "fig, ax = plt.subplots(figsize=(15, 4))\n",
    "\n",
    "\n",
    "sns.histplot(data=df, x=\"Age\", kde=True, stat=\"frequency\", color=\"green\", bins=60)\n",
    "\n",
    "fig.suptitle('Average age of Athletes- Histogram', fontsize=16)\n",
    "\n",
    "#plt.tight_layout()\n",
    "\n",
    "plt.show()"
   ]
  },
  {
   "cell_type": "markdown",
   "id": "9c197694",
   "metadata": {},
   "source": [
    "# Age attribute was selected"
   ]
  },
  {
   "cell_type": "markdown",
   "id": "e8bbc259",
   "metadata": {},
   "source": [
    "H0: The average age of atleths in Olympic Games is 25.06.\n",
    "\n",
    "H1: The average age of atleths in Olympic Games is bigger than 25.06."
   ]
  },
  {
   "cell_type": "code",
   "execution_count": 14,
   "id": "8363fcf7",
   "metadata": {},
   "outputs": [
    {
     "data": {
      "text/html": [
       "<div>\n",
       "<style scoped>\n",
       "    .dataframe tbody tr th:only-of-type {\n",
       "        vertical-align: middle;\n",
       "    }\n",
       "\n",
       "    .dataframe tbody tr th {\n",
       "        vertical-align: top;\n",
       "    }\n",
       "\n",
       "    .dataframe thead th {\n",
       "        text-align: right;\n",
       "    }\n",
       "</style>\n",
       "<table border=\"1\" class=\"dataframe\">\n",
       "  <thead>\n",
       "    <tr style=\"text-align: right;\">\n",
       "      <th></th>\n",
       "      <th>ID</th>\n",
       "      <th>Name</th>\n",
       "      <th>Sex</th>\n",
       "      <th>Age</th>\n",
       "      <th>Height</th>\n",
       "      <th>Weight</th>\n",
       "      <th>Team</th>\n",
       "      <th>NOC</th>\n",
       "      <th>Games</th>\n",
       "      <th>Year</th>\n",
       "      <th>Season</th>\n",
       "      <th>City</th>\n",
       "      <th>Sport</th>\n",
       "      <th>Event</th>\n",
       "      <th>Medal</th>\n",
       "    </tr>\n",
       "  </thead>\n",
       "  <tbody>\n",
       "    <tr>\n",
       "      <th>0</th>\n",
       "      <td>15488</td>\n",
       "      <td>Christopher Deon \"Chris\" Brown</td>\n",
       "      <td>M</td>\n",
       "      <td>37.0</td>\n",
       "      <td>178.0</td>\n",
       "      <td>75.0</td>\n",
       "      <td>Bahamas</td>\n",
       "      <td>BAH</td>\n",
       "      <td>2016 Summer</td>\n",
       "      <td>2016</td>\n",
       "      <td>Summer</td>\n",
       "      <td>Rio de Janeiro</td>\n",
       "      <td>Athletics</td>\n",
       "      <td>Athletics Men's 400 metres</td>\n",
       "      <td>0</td>\n",
       "    </tr>\n",
       "    <tr>\n",
       "      <th>1</th>\n",
       "      <td>85553</td>\n",
       "      <td>Robert Frederick Newbery</td>\n",
       "      <td>M</td>\n",
       "      <td>25.0</td>\n",
       "      <td>174.0</td>\n",
       "      <td>70.0</td>\n",
       "      <td>Australia</td>\n",
       "      <td>AUS</td>\n",
       "      <td>2004 Summer</td>\n",
       "      <td>2004</td>\n",
       "      <td>Summer</td>\n",
       "      <td>Athina</td>\n",
       "      <td>Diving</td>\n",
       "      <td>Diving Men's Synchronized Platform</td>\n",
       "      <td>1</td>\n",
       "    </tr>\n",
       "    <tr>\n",
       "      <th>2</th>\n",
       "      <td>36017</td>\n",
       "      <td>Hlia \"Fofo\" Rogrio de Souza Pinto</td>\n",
       "      <td>F</td>\n",
       "      <td>38.0</td>\n",
       "      <td>173.0</td>\n",
       "      <td>63.0</td>\n",
       "      <td>Brazil</td>\n",
       "      <td>BRA</td>\n",
       "      <td>2008 Summer</td>\n",
       "      <td>2008</td>\n",
       "      <td>Summer</td>\n",
       "      <td>Beijing</td>\n",
       "      <td>Volleyball</td>\n",
       "      <td>Volleyball Women's Volleyball</td>\n",
       "      <td>1</td>\n",
       "    </tr>\n",
       "    <tr>\n",
       "      <th>3</th>\n",
       "      <td>47301</td>\n",
       "      <td>Lothar Heinrich</td>\n",
       "      <td>M</td>\n",
       "      <td>43.0</td>\n",
       "      <td>176.0</td>\n",
       "      <td>75.0</td>\n",
       "      <td>Austria</td>\n",
       "      <td>AUT</td>\n",
       "      <td>1984 Summer</td>\n",
       "      <td>1984</td>\n",
       "      <td>Summer</td>\n",
       "      <td>Los Angeles</td>\n",
       "      <td>Shooting</td>\n",
       "      <td>Shooting Men's Small-Bore Rifle, Three Positio...</td>\n",
       "      <td>0</td>\n",
       "    </tr>\n",
       "    <tr>\n",
       "      <th>4</th>\n",
       "      <td>104606</td>\n",
       "      <td>Yuliana Bulatovna Salakhova</td>\n",
       "      <td>F</td>\n",
       "      <td>23.0</td>\n",
       "      <td>179.0</td>\n",
       "      <td>71.0</td>\n",
       "      <td>Russia</td>\n",
       "      <td>RUS</td>\n",
       "      <td>2008 Summer</td>\n",
       "      <td>2008</td>\n",
       "      <td>Summer</td>\n",
       "      <td>Beijing</td>\n",
       "      <td>Canoeing</td>\n",
       "      <td>Canoeing Women's Kayak Singles, 500 metres</td>\n",
       "      <td>0</td>\n",
       "    </tr>\n",
       "  </tbody>\n",
       "</table>\n",
       "</div>"
      ],
      "text/plain": [
       "       ID                               Name Sex   Age  Height  Weight  \\\n",
       "0   15488     Christopher Deon \"Chris\" Brown   M  37.0   178.0    75.0   \n",
       "1   85553           Robert Frederick Newbery   M  25.0   174.0    70.0   \n",
       "2   36017  Hlia \"Fofo\" Rogrio de Souza Pinto   F  38.0   173.0    63.0   \n",
       "3   47301                    Lothar Heinrich   M  43.0   176.0    75.0   \n",
       "4  104606        Yuliana Bulatovna Salakhova   F  23.0   179.0    71.0   \n",
       "\n",
       "        Team  NOC        Games  Year  Season            City       Sport  \\\n",
       "0    Bahamas  BAH  2016 Summer  2016  Summer  Rio de Janeiro   Athletics   \n",
       "1  Australia  AUS  2004 Summer  2004  Summer          Athina      Diving   \n",
       "2     Brazil  BRA  2008 Summer  2008  Summer         Beijing  Volleyball   \n",
       "3    Austria  AUT  1984 Summer  1984  Summer     Los Angeles    Shooting   \n",
       "4     Russia  RUS  2008 Summer  2008  Summer         Beijing    Canoeing   \n",
       "\n",
       "                                               Event  Medal  \n",
       "0                         Athletics Men's 400 metres      0  \n",
       "1                 Diving Men's Synchronized Platform      1  \n",
       "2                      Volleyball Women's Volleyball      1  \n",
       "3  Shooting Men's Small-Bore Rifle, Three Positio...      0  \n",
       "4         Canoeing Women's Kayak Singles, 500 metres      0  "
      ]
     },
     "execution_count": 14,
     "metadata": {},
     "output_type": "execute_result"
    }
   ],
   "source": [
    "k = 500\n",
    "sampleAge = df.sample(k).reset_index(drop=True)\n",
    "sampleAge.head()"
   ]
  },
  {
   "cell_type": "code",
   "execution_count": 15,
   "id": "48a1283e",
   "metadata": {},
   "outputs": [
    {
     "data": {
      "text/html": [
       "<div>\n",
       "<style scoped>\n",
       "    .dataframe tbody tr th:only-of-type {\n",
       "        vertical-align: middle;\n",
       "    }\n",
       "\n",
       "    .dataframe tbody tr th {\n",
       "        vertical-align: top;\n",
       "    }\n",
       "\n",
       "    .dataframe thead th {\n",
       "        text-align: right;\n",
       "    }\n",
       "</style>\n",
       "<table border=\"1\" class=\"dataframe\">\n",
       "  <thead>\n",
       "    <tr style=\"text-align: right;\">\n",
       "      <th></th>\n",
       "      <th>ID</th>\n",
       "      <th>Age</th>\n",
       "      <th>Height</th>\n",
       "      <th>Weight</th>\n",
       "      <th>Year</th>\n",
       "      <th>Medal</th>\n",
       "    </tr>\n",
       "  </thead>\n",
       "  <tbody>\n",
       "    <tr>\n",
       "      <th>count</th>\n",
       "      <td>500.000000</td>\n",
       "      <td>500.000000</td>\n",
       "      <td>500.0000</td>\n",
       "      <td>500.000000</td>\n",
       "      <td>500.000000</td>\n",
       "      <td>500.000000</td>\n",
       "    </tr>\n",
       "    <tr>\n",
       "      <th>mean</th>\n",
       "      <td>70251.168000</td>\n",
       "      <td>25.474000</td>\n",
       "      <td>175.3000</td>\n",
       "      <td>70.187000</td>\n",
       "      <td>1989.588000</td>\n",
       "      <td>0.168000</td>\n",
       "    </tr>\n",
       "    <tr>\n",
       "      <th>std</th>\n",
       "      <td>38547.681486</td>\n",
       "      <td>5.565183</td>\n",
       "      <td>10.5831</td>\n",
       "      <td>14.593336</td>\n",
       "      <td>19.964253</td>\n",
       "      <td>0.374241</td>\n",
       "    </tr>\n",
       "    <tr>\n",
       "      <th>min</th>\n",
       "      <td>47.000000</td>\n",
       "      <td>14.000000</td>\n",
       "      <td>143.0000</td>\n",
       "      <td>34.000000</td>\n",
       "      <td>1908.000000</td>\n",
       "      <td>0.000000</td>\n",
       "    </tr>\n",
       "    <tr>\n",
       "      <th>25%</th>\n",
       "      <td>37678.500000</td>\n",
       "      <td>21.000000</td>\n",
       "      <td>168.0000</td>\n",
       "      <td>60.000000</td>\n",
       "      <td>1976.000000</td>\n",
       "      <td>0.000000</td>\n",
       "    </tr>\n",
       "    <tr>\n",
       "      <th>50%</th>\n",
       "      <td>71856.000000</td>\n",
       "      <td>25.000000</td>\n",
       "      <td>175.0000</td>\n",
       "      <td>69.000000</td>\n",
       "      <td>1994.000000</td>\n",
       "      <td>0.000000</td>\n",
       "    </tr>\n",
       "    <tr>\n",
       "      <th>75%</th>\n",
       "      <td>102957.250000</td>\n",
       "      <td>29.000000</td>\n",
       "      <td>182.2500</td>\n",
       "      <td>78.000000</td>\n",
       "      <td>2006.000000</td>\n",
       "      <td>0.000000</td>\n",
       "    </tr>\n",
       "    <tr>\n",
       "      <th>max</th>\n",
       "      <td>135546.000000</td>\n",
       "      <td>50.000000</td>\n",
       "      <td>208.0000</td>\n",
       "      <td>161.000000</td>\n",
       "      <td>2016.000000</td>\n",
       "      <td>1.000000</td>\n",
       "    </tr>\n",
       "  </tbody>\n",
       "</table>\n",
       "</div>"
      ],
      "text/plain": [
       "                  ID         Age    Height      Weight         Year  \\\n",
       "count     500.000000  500.000000  500.0000  500.000000   500.000000   \n",
       "mean    70251.168000   25.474000  175.3000   70.187000  1989.588000   \n",
       "std     38547.681486    5.565183   10.5831   14.593336    19.964253   \n",
       "min        47.000000   14.000000  143.0000   34.000000  1908.000000   \n",
       "25%     37678.500000   21.000000  168.0000   60.000000  1976.000000   \n",
       "50%     71856.000000   25.000000  175.0000   69.000000  1994.000000   \n",
       "75%    102957.250000   29.000000  182.2500   78.000000  2006.000000   \n",
       "max    135546.000000   50.000000  208.0000  161.000000  2016.000000   \n",
       "\n",
       "            Medal  \n",
       "count  500.000000  \n",
       "mean     0.168000  \n",
       "std      0.374241  \n",
       "min      0.000000  \n",
       "25%      0.000000  \n",
       "50%      0.000000  \n",
       "75%      0.000000  \n",
       "max      1.000000  "
      ]
     },
     "execution_count": 15,
     "metadata": {},
     "output_type": "execute_result"
    }
   ],
   "source": [
    "sampleAge.describe()"
   ]
  },
  {
   "cell_type": "markdown",
   "id": "a84dbbc6",
   "metadata": {},
   "source": [
    "**INDEPDENT T-TEST USING RESEARCHPY**"
   ]
  },
  {
   "cell_type": "code",
   "execution_count": 19,
   "id": "91b79652",
   "metadata": {},
   "outputs": [
    {
     "name": "stdout",
     "output_type": "stream",
     "text": [
      "   Variable         N       Mean        SD        SE  95% Conf.   Interval\n",
      "0      Main  206165.0  25.055509  5.483096  0.012076  25.031841  25.079177\n",
      "1    Sample     500.0  25.474000  5.565183  0.248883  24.985013  25.962987\n",
      "2  combined  206665.0  25.056521  5.483321  0.012062  25.032881  25.080162\n"
     ]
    }
   ],
   "source": [
    "import researchpy as rp\n",
    "import scipy.stats as stats\n",
    "summary, results = rp.ttest(group1= df[\"Age\"], group1_name= \"Main\",\n",
    "                            group2= sampleAge[\"Age\"], group2_name= \"Sample\")\n",
    "print(summary)"
   ]
  },
  {
   "cell_type": "code",
   "execution_count": 20,
   "id": "10a1fd51",
   "metadata": {},
   "outputs": [
    {
     "name": "stdout",
     "output_type": "stream",
     "text": [
      "              Independent t-test      results\n",
      "0  Difference (Main - Sample) =       -0.4185\n",
      "1          Degrees of freedom =   206663.0000\n",
      "2                           t =       -1.7045\n",
      "3       Two side test p value =        0.0883\n",
      "4      Difference < 0 p value =        0.0441\n",
      "5      Difference > 0 p value =        0.9559\n",
      "6                   Cohen's d =       -0.0763\n",
      "7                   Hedge's g =       -0.0763\n",
      "8               Glass's delta =       -0.0763\n",
      "9                 Pearson's r =        0.0037\n"
     ]
    }
   ],
   "source": [
    "print(results)"
   ]
  },
  {
   "cell_type": "markdown",
   "id": "ab3abbf7",
   "metadata": {},
   "source": [
    "**INDEPDENT T-TEST USING SCIPY.STATS**"
   ]
  },
  {
   "cell_type": "code",
   "execution_count": 21,
   "id": "ca742d94",
   "metadata": {},
   "outputs": [
    {
     "data": {
      "text/plain": [
       "Ttest_indResult(statistic=-1.7045256235651505, pvalue=0.08828443629155797)"
      ]
     },
     "execution_count": 21,
     "metadata": {},
     "output_type": "execute_result"
    }
   ],
   "source": [
    "stats.ttest_ind(df[\"Age\"],sampleAge[\"Age\"])"
   ]
  },
  {
   "cell_type": "markdown",
   "id": "9c9c284b",
   "metadata": {},
   "source": [
    "**Pvalue** is bigger than alfa(5%). The difference is not statistically significant. We can not reject the null hypothesis."
   ]
  },
  {
   "cell_type": "code",
   "execution_count": null,
   "id": "8b265b4e",
   "metadata": {},
   "outputs": [],
   "source": []
  },
  {
   "cell_type": "markdown",
   "id": "2c3463e6",
   "metadata": {},
   "source": [
    "# Exercici 2"
   ]
  },
  {
   "cell_type": "markdown",
   "id": "b246e4d1",
   "metadata": {},
   "source": [
    "Continua amb el conjunt de dades de tema esportiu que t'agradi i selecciona dos altres atributs del conjunt de dades. Calcula els p-valors i digues si rebutgen la hipòtesi nul·la agafant un alfa de 5%."
   ]
  },
  {
   "cell_type": "code",
   "execution_count": 22,
   "id": "be4f35d9",
   "metadata": {},
   "outputs": [
    {
     "data": {
      "text/html": [
       "<div>\n",
       "<style scoped>\n",
       "    .dataframe tbody tr th:only-of-type {\n",
       "        vertical-align: middle;\n",
       "    }\n",
       "\n",
       "    .dataframe tbody tr th {\n",
       "        vertical-align: top;\n",
       "    }\n",
       "\n",
       "    .dataframe thead th {\n",
       "        text-align: right;\n",
       "    }\n",
       "</style>\n",
       "<table border=\"1\" class=\"dataframe\">\n",
       "  <thead>\n",
       "    <tr style=\"text-align: right;\">\n",
       "      <th></th>\n",
       "      <th>ID</th>\n",
       "      <th>Age</th>\n",
       "      <th>Height</th>\n",
       "      <th>Weight</th>\n",
       "      <th>Year</th>\n",
       "      <th>Medal</th>\n",
       "    </tr>\n",
       "  </thead>\n",
       "  <tbody>\n",
       "    <tr>\n",
       "      <th>count</th>\n",
       "      <td>30181.000000</td>\n",
       "      <td>30181.000000</td>\n",
       "      <td>30181.000000</td>\n",
       "      <td>30181.000000</td>\n",
       "      <td>30181.000000</td>\n",
       "      <td>30181.0</td>\n",
       "    </tr>\n",
       "    <tr>\n",
       "      <th>mean</th>\n",
       "      <td>70225.949604</td>\n",
       "      <td>25.429012</td>\n",
       "      <td>177.642358</td>\n",
       "      <td>73.753554</td>\n",
       "      <td>1988.005964</td>\n",
       "      <td>1.0</td>\n",
       "    </tr>\n",
       "    <tr>\n",
       "      <th>std</th>\n",
       "      <td>38839.720551</td>\n",
       "      <td>5.049684</td>\n",
       "      <td>10.924188</td>\n",
       "      <td>15.004992</td>\n",
       "      <td>22.718451</td>\n",
       "      <td>0.0</td>\n",
       "    </tr>\n",
       "    <tr>\n",
       "      <th>min</th>\n",
       "      <td>16.000000</td>\n",
       "      <td>13.000000</td>\n",
       "      <td>136.000000</td>\n",
       "      <td>28.000000</td>\n",
       "      <td>1896.000000</td>\n",
       "      <td>1.0</td>\n",
       "    </tr>\n",
       "    <tr>\n",
       "      <th>25%</th>\n",
       "      <td>37494.000000</td>\n",
       "      <td>22.000000</td>\n",
       "      <td>170.000000</td>\n",
       "      <td>63.000000</td>\n",
       "      <td>1976.000000</td>\n",
       "      <td>1.0</td>\n",
       "    </tr>\n",
       "    <tr>\n",
       "      <th>50%</th>\n",
       "      <td>69771.000000</td>\n",
       "      <td>25.000000</td>\n",
       "      <td>178.000000</td>\n",
       "      <td>73.000000</td>\n",
       "      <td>1992.000000</td>\n",
       "      <td>1.0</td>\n",
       "    </tr>\n",
       "    <tr>\n",
       "      <th>75%</th>\n",
       "      <td>104111.000000</td>\n",
       "      <td>28.000000</td>\n",
       "      <td>185.000000</td>\n",
       "      <td>83.000000</td>\n",
       "      <td>2006.000000</td>\n",
       "      <td>1.0</td>\n",
       "    </tr>\n",
       "    <tr>\n",
       "      <th>max</th>\n",
       "      <td>135563.000000</td>\n",
       "      <td>66.000000</td>\n",
       "      <td>223.000000</td>\n",
       "      <td>182.000000</td>\n",
       "      <td>2016.000000</td>\n",
       "      <td>1.0</td>\n",
       "    </tr>\n",
       "  </tbody>\n",
       "</table>\n",
       "</div>"
      ],
      "text/plain": [
       "                  ID           Age        Height        Weight          Year  \\\n",
       "count   30181.000000  30181.000000  30181.000000  30181.000000  30181.000000   \n",
       "mean    70225.949604     25.429012    177.642358     73.753554   1988.005964   \n",
       "std     38839.720551      5.049684     10.924188     15.004992     22.718451   \n",
       "min        16.000000     13.000000    136.000000     28.000000   1896.000000   \n",
       "25%     37494.000000     22.000000    170.000000     63.000000   1976.000000   \n",
       "50%     69771.000000     25.000000    178.000000     73.000000   1992.000000   \n",
       "75%    104111.000000     28.000000    185.000000     83.000000   2006.000000   \n",
       "max    135563.000000     66.000000    223.000000    182.000000   2016.000000   \n",
       "\n",
       "         Medal  \n",
       "count  30181.0  \n",
       "mean       1.0  \n",
       "std        0.0  \n",
       "min        1.0  \n",
       "25%        1.0  \n",
       "50%        1.0  \n",
       "75%        1.0  \n",
       "max        1.0  "
      ]
     },
     "execution_count": 22,
     "metadata": {},
     "output_type": "execute_result"
    }
   ],
   "source": [
    "medal=df[df[\"Medal\"]==1]\n",
    "medal.describe()"
   ]
  },
  {
   "cell_type": "code",
   "execution_count": 24,
   "id": "6f5d4791",
   "metadata": {},
   "outputs": [
    {
     "data": {
      "image/png": "[encoded data removed]",
      "text/plain": [
       "<Figure size 1080x288 with 1 Axes>"
      ]
     },
     "metadata": {
      "needs_background": "light"
     },
     "output_type": "display_data"
    }
   ],
   "source": [
    "fig, ax = plt.subplots(figsize=(15, 4))\n",
    "\n",
    "\n",
    "sns.histplot(data=medal, x=\"Age\", kde=True, stat=\"frequency\", color=\"blue\", bins=60)\n",
    "\n",
    "fig.suptitle('Average age of Athletes with medal- Histogram', fontsize=16)\n",
    "\n",
    "#plt.tight_layout()\n",
    "\n",
    "plt.show()"
   ]
  },
  {
   "cell_type": "code",
   "execution_count": null,
   "id": "ec1a2d1d",
   "metadata": {},
   "outputs": [],
   "source": []
  },
  {
   "cell_type": "markdown",
   "id": "20c86790",
   "metadata": {},
   "source": [
    "# Age and Medal attributes were selected"
   ]
  },
  {
   "cell_type": "markdown",
   "id": "db976fc8",
   "metadata": {},
   "source": [
    "H0: The average age of atleths with medal in Olympic Games is 25.42.\n",
    "\n",
    "H1: The average age of atleths with medal in Olympic Games is bigger than 25.42."
   ]
  },
  {
   "cell_type": "code",
   "execution_count": 27,
   "id": "a15ccfbd",
   "metadata": {},
   "outputs": [
    {
     "data": {
      "text/html": [
       "<div>\n",
       "<style scoped>\n",
       "    .dataframe tbody tr th:only-of-type {\n",
       "        vertical-align: middle;\n",
       "    }\n",
       "\n",
       "    .dataframe tbody tr th {\n",
       "        vertical-align: top;\n",
       "    }\n",
       "\n",
       "    .dataframe thead th {\n",
       "        text-align: right;\n",
       "    }\n",
       "</style>\n",
       "<table border=\"1\" class=\"dataframe\">\n",
       "  <thead>\n",
       "    <tr style=\"text-align: right;\">\n",
       "      <th></th>\n",
       "      <th>ID</th>\n",
       "      <th>Name</th>\n",
       "      <th>Sex</th>\n",
       "      <th>Age</th>\n",
       "      <th>Height</th>\n",
       "      <th>Weight</th>\n",
       "      <th>Team</th>\n",
       "      <th>NOC</th>\n",
       "      <th>Games</th>\n",
       "      <th>Year</th>\n",
       "      <th>Season</th>\n",
       "      <th>City</th>\n",
       "      <th>Sport</th>\n",
       "      <th>Event</th>\n",
       "      <th>Medal</th>\n",
       "    </tr>\n",
       "  </thead>\n",
       "  <tbody>\n",
       "    <tr>\n",
       "      <th>0</th>\n",
       "      <td>30948</td>\n",
       "      <td>Robin Duvillard</td>\n",
       "      <td>M</td>\n",
       "      <td>30.0</td>\n",
       "      <td>178.0</td>\n",
       "      <td>71.0</td>\n",
       "      <td>France</td>\n",
       "      <td>FRA</td>\n",
       "      <td>2014 Winter</td>\n",
       "      <td>2014</td>\n",
       "      <td>Winter</td>\n",
       "      <td>Sochi</td>\n",
       "      <td>Cross Country Skiing</td>\n",
       "      <td>Cross Country Skiing Men's 4 x 10 kilometres R...</td>\n",
       "      <td>1</td>\n",
       "    </tr>\n",
       "    <tr>\n",
       "      <th>1</th>\n",
       "      <td>47479</td>\n",
       "      <td>Rdiger Helm</td>\n",
       "      <td>M</td>\n",
       "      <td>23.0</td>\n",
       "      <td>188.0</td>\n",
       "      <td>87.0</td>\n",
       "      <td>East Germany</td>\n",
       "      <td>GDR</td>\n",
       "      <td>1980 Summer</td>\n",
       "      <td>1980</td>\n",
       "      <td>Summer</td>\n",
       "      <td>Moskva</td>\n",
       "      <td>Canoeing</td>\n",
       "      <td>Canoeing Men's Kayak Singles, 1,000 metres</td>\n",
       "      <td>1</td>\n",
       "    </tr>\n",
       "    <tr>\n",
       "      <th>2</th>\n",
       "      <td>43267</td>\n",
       "      <td>Bernhard Gruber</td>\n",
       "      <td>M</td>\n",
       "      <td>31.0</td>\n",
       "      <td>185.0</td>\n",
       "      <td>71.0</td>\n",
       "      <td>Austria</td>\n",
       "      <td>AUT</td>\n",
       "      <td>2014 Winter</td>\n",
       "      <td>2014</td>\n",
       "      <td>Winter</td>\n",
       "      <td>Sochi</td>\n",
       "      <td>Nordic Combined</td>\n",
       "      <td>Nordic Combined Men's Team</td>\n",
       "      <td>1</td>\n",
       "    </tr>\n",
       "    <tr>\n",
       "      <th>3</th>\n",
       "      <td>42140</td>\n",
       "      <td>Danielle Goyette</td>\n",
       "      <td>F</td>\n",
       "      <td>32.0</td>\n",
       "      <td>168.0</td>\n",
       "      <td>70.0</td>\n",
       "      <td>Canada</td>\n",
       "      <td>CAN</td>\n",
       "      <td>1998 Winter</td>\n",
       "      <td>1998</td>\n",
       "      <td>Winter</td>\n",
       "      <td>Nagano</td>\n",
       "      <td>Ice Hockey</td>\n",
       "      <td>Ice Hockey Women's Ice Hockey</td>\n",
       "      <td>1</td>\n",
       "    </tr>\n",
       "    <tr>\n",
       "      <th>4</th>\n",
       "      <td>42289</td>\n",
       "      <td>Timothy Joseph Michael \"Tim\" Graham</td>\n",
       "      <td>M</td>\n",
       "      <td>25.0</td>\n",
       "      <td>178.0</td>\n",
       "      <td>65.0</td>\n",
       "      <td>Great Britain</td>\n",
       "      <td>GBR</td>\n",
       "      <td>1964 Summer</td>\n",
       "      <td>1964</td>\n",
       "      <td>Summer</td>\n",
       "      <td>Tokyo</td>\n",
       "      <td>Athletics</td>\n",
       "      <td>Athletics Men's 4 x 400 metres Relay</td>\n",
       "      <td>1</td>\n",
       "    </tr>\n",
       "  </tbody>\n",
       "</table>\n",
       "</div>"
      ],
      "text/plain": [
       "      ID                                 Name Sex   Age  Height  Weight  \\\n",
       "0  30948                      Robin Duvillard   M  30.0   178.0    71.0   \n",
       "1  47479                          Rdiger Helm   M  23.0   188.0    87.0   \n",
       "2  43267                      Bernhard Gruber   M  31.0   185.0    71.0   \n",
       "3  42140                     Danielle Goyette   F  32.0   168.0    70.0   \n",
       "4  42289  Timothy Joseph Michael \"Tim\" Graham   M  25.0   178.0    65.0   \n",
       "\n",
       "            Team  NOC        Games  Year  Season    City  \\\n",
       "0         France  FRA  2014 Winter  2014  Winter   Sochi   \n",
       "1   East Germany  GDR  1980 Summer  1980  Summer  Moskva   \n",
       "2        Austria  AUT  2014 Winter  2014  Winter   Sochi   \n",
       "3         Canada  CAN  1998 Winter  1998  Winter  Nagano   \n",
       "4  Great Britain  GBR  1964 Summer  1964  Summer   Tokyo   \n",
       "\n",
       "                  Sport                                              Event  \\\n",
       "0  Cross Country Skiing  Cross Country Skiing Men's 4 x 10 kilometres R...   \n",
       "1              Canoeing         Canoeing Men's Kayak Singles, 1,000 metres   \n",
       "2       Nordic Combined                         Nordic Combined Men's Team   \n",
       "3            Ice Hockey                      Ice Hockey Women's Ice Hockey   \n",
       "4             Athletics               Athletics Men's 4 x 400 metres Relay   \n",
       "\n",
       "   Medal  \n",
       "0      1  \n",
       "1      1  \n",
       "2      1  \n",
       "3      1  \n",
       "4      1  "
      ]
     },
     "execution_count": 27,
     "metadata": {},
     "output_type": "execute_result"
    }
   ],
   "source": [
    "k = 500\n",
    "medal_sample = medal.sample(k).reset_index(drop=True)\n",
    "medal_sample.head()"
   ]
  },
  {
   "cell_type": "code",
   "execution_count": 28,
   "id": "1744fb94",
   "metadata": {},
   "outputs": [
    {
     "data": {
      "text/html": [
       "<div>\n",
       "<style scoped>\n",
       "    .dataframe tbody tr th:only-of-type {\n",
       "        vertical-align: middle;\n",
       "    }\n",
       "\n",
       "    .dataframe tbody tr th {\n",
       "        vertical-align: top;\n",
       "    }\n",
       "\n",
       "    .dataframe thead th {\n",
       "        text-align: right;\n",
       "    }\n",
       "</style>\n",
       "<table border=\"1\" class=\"dataframe\">\n",
       "  <thead>\n",
       "    <tr style=\"text-align: right;\">\n",
       "      <th></th>\n",
       "      <th>ID</th>\n",
       "      <th>Age</th>\n",
       "      <th>Height</th>\n",
       "      <th>Weight</th>\n",
       "      <th>Year</th>\n",
       "      <th>Medal</th>\n",
       "    </tr>\n",
       "  </thead>\n",
       "  <tbody>\n",
       "    <tr>\n",
       "      <th>count</th>\n",
       "      <td>500.000000</td>\n",
       "      <td>500.000000</td>\n",
       "      <td>500.000000</td>\n",
       "      <td>500.000000</td>\n",
       "      <td>500.000000</td>\n",
       "      <td>500.0</td>\n",
       "    </tr>\n",
       "    <tr>\n",
       "      <th>mean</th>\n",
       "      <td>69931.810000</td>\n",
       "      <td>25.628000</td>\n",
       "      <td>177.024000</td>\n",
       "      <td>72.639000</td>\n",
       "      <td>1988.288000</td>\n",
       "      <td>1.0</td>\n",
       "    </tr>\n",
       "    <tr>\n",
       "      <th>std</th>\n",
       "      <td>39482.004612</td>\n",
       "      <td>5.278384</td>\n",
       "      <td>10.445364</td>\n",
       "      <td>14.477893</td>\n",
       "      <td>21.446234</td>\n",
       "      <td>0.0</td>\n",
       "    </tr>\n",
       "    <tr>\n",
       "      <th>min</th>\n",
       "      <td>953.000000</td>\n",
       "      <td>16.000000</td>\n",
       "      <td>139.000000</td>\n",
       "      <td>36.000000</td>\n",
       "      <td>1904.000000</td>\n",
       "      <td>1.0</td>\n",
       "    </tr>\n",
       "    <tr>\n",
       "      <th>25%</th>\n",
       "      <td>38433.250000</td>\n",
       "      <td>22.000000</td>\n",
       "      <td>170.000000</td>\n",
       "      <td>63.000000</td>\n",
       "      <td>1976.000000</td>\n",
       "      <td>1.0</td>\n",
       "    </tr>\n",
       "    <tr>\n",
       "      <th>50%</th>\n",
       "      <td>67284.500000</td>\n",
       "      <td>25.000000</td>\n",
       "      <td>177.000000</td>\n",
       "      <td>71.000000</td>\n",
       "      <td>1992.000000</td>\n",
       "      <td>1.0</td>\n",
       "    </tr>\n",
       "    <tr>\n",
       "      <th>75%</th>\n",
       "      <td>106452.750000</td>\n",
       "      <td>28.000000</td>\n",
       "      <td>183.000000</td>\n",
       "      <td>81.000000</td>\n",
       "      <td>2004.000000</td>\n",
       "      <td>1.0</td>\n",
       "    </tr>\n",
       "    <tr>\n",
       "      <th>max</th>\n",
       "      <td>135545.000000</td>\n",
       "      <td>54.000000</td>\n",
       "      <td>213.000000</td>\n",
       "      <td>134.000000</td>\n",
       "      <td>2016.000000</td>\n",
       "      <td>1.0</td>\n",
       "    </tr>\n",
       "  </tbody>\n",
       "</table>\n",
       "</div>"
      ],
      "text/plain": [
       "                  ID         Age      Height      Weight         Year  Medal\n",
       "count     500.000000  500.000000  500.000000  500.000000   500.000000  500.0\n",
       "mean    69931.810000   25.628000  177.024000   72.639000  1988.288000    1.0\n",
       "std     39482.004612    5.278384   10.445364   14.477893    21.446234    0.0\n",
       "min       953.000000   16.000000  139.000000   36.000000  1904.000000    1.0\n",
       "25%     38433.250000   22.000000  170.000000   63.000000  1976.000000    1.0\n",
       "50%     67284.500000   25.000000  177.000000   71.000000  1992.000000    1.0\n",
       "75%    106452.750000   28.000000  183.000000   81.000000  2004.000000    1.0\n",
       "max    135545.000000   54.000000  213.000000  134.000000  2016.000000    1.0"
      ]
     },
     "execution_count": 28,
     "metadata": {},
     "output_type": "execute_result"
    }
   ],
   "source": [
    "medal_sample.describe()"
   ]
  },
  {
   "cell_type": "code",
   "execution_count": null,
   "id": "c4cfec55",
   "metadata": {},
   "outputs": [],
   "source": []
  },
  {
   "cell_type": "markdown",
   "id": "3578fafb",
   "metadata": {},
   "source": [
    "**INDEPDENT T-TEST USING RESEARCHPY**"
   ]
  },
  {
   "cell_type": "code",
   "execution_count": 29,
   "id": "a4a848c3",
   "metadata": {},
   "outputs": [
    {
     "name": "stdout",
     "output_type": "stream",
     "text": [
      "       Variable        N       Mean        SD        SE  95% Conf.   Interval\n",
      "0         Medal  30181.0  25.429012  5.049684  0.029067  25.372039  25.485984\n",
      "1  Sample Medal    500.0  25.628000  5.278384  0.236057  25.164213  26.091787\n",
      "2      combined  30681.0  25.432254  5.053467  0.028851  25.375706  25.488803\n"
     ]
    }
   ],
   "source": [
    "summary, results = rp.ttest(group1= medal[\"Age\"], group1_name= \"Medal\",\n",
    "                            group2= medal_sample[\"Age\"], group2_name= \"Sample Medal\")\n",
    "print(summary)\n"
   ]
  },
  {
   "cell_type": "code",
   "execution_count": 31,
   "id": "684ffc03",
   "metadata": {},
   "outputs": [
    {
     "name": "stdout",
     "output_type": "stream",
     "text": [
      "                     Independent t-test     results\n",
      "0  Difference (Medal - Sample Medal) =      -0.1990\n",
      "1                 Degrees of freedom =   30679.0000\n",
      "2                                  t =      -0.8733\n",
      "3              Two side test p value =       0.3825\n",
      "4             Difference < 0 p value =       0.1913\n",
      "5             Difference > 0 p value =       0.8087\n",
      "6                          Cohen's d =      -0.0394\n",
      "7                          Hedge's g =      -0.0394\n",
      "8                      Glass's delta =      -0.0394\n",
      "9                        Pearson's r =       0.0050\n"
     ]
    }
   ],
   "source": [
    "print(results)"
   ]
  },
  {
   "cell_type": "markdown",
   "id": "c75057b9",
   "metadata": {},
   "source": [
    "**INDEPDENT T-TEST USING SCIPY.STATS**"
   ]
  },
  {
   "cell_type": "code",
   "execution_count": 30,
   "id": "33a42bbb",
   "metadata": {},
   "outputs": [
    {
     "data": {
      "text/plain": [
       "Ttest_indResult(statistic=-0.8732802205022561, pvalue=0.38251719400974515)"
      ]
     },
     "execution_count": 30,
     "metadata": {},
     "output_type": "execute_result"
    }
   ],
   "source": [
    "stats.ttest_ind(medal[\"Age\"],medal_sample[\"Age\"])"
   ]
  },
  {
   "cell_type": "code",
   "execution_count": null,
   "id": "8651c24e",
   "metadata": {},
   "outputs": [],
   "source": []
  },
  {
   "cell_type": "markdown",
   "id": "c549e121",
   "metadata": {},
   "source": [
    "**Pvalue** is bigger than alfa(5%). The difference is not statistically significant. We can not reject the null hypothesis."
   ]
  },
  {
   "cell_type": "code",
   "execution_count": null,
   "id": "a7c03e66",
   "metadata": {},
   "outputs": [],
   "source": []
  },
  {
   "cell_type": "markdown",
   "id": "9e223619",
   "metadata": {},
   "source": [
    "# Exercici 3"
   ]
  },
  {
   "cell_type": "markdown",
   "id": "09a5d68e",
   "metadata": {},
   "source": [
    "Continua amb el conjunt de dades de tema esportiu que t'agradi i selecciona tres atributs del conjunt de dades. Calcula el p-valor i digues si rebutja la hipòtesi nul·la agafant un alfa de 5%."
   ]
  },
  {
   "cell_type": "code",
   "execution_count": 50,
   "id": "02f8e831",
   "metadata": {},
   "outputs": [
    {
     "data": {
      "text/html": [
       "<div>\n",
       "<style scoped>\n",
       "    .dataframe tbody tr th:only-of-type {\n",
       "        vertical-align: middle;\n",
       "    }\n",
       "\n",
       "    .dataframe tbody tr th {\n",
       "        vertical-align: top;\n",
       "    }\n",
       "\n",
       "    .dataframe thead th {\n",
       "        text-align: right;\n",
       "    }\n",
       "</style>\n",
       "<table border=\"1\" class=\"dataframe\">\n",
       "  <thead>\n",
       "    <tr style=\"text-align: right;\">\n",
       "      <th></th>\n",
       "      <th>ID</th>\n",
       "      <th>Age</th>\n",
       "      <th>Height</th>\n",
       "      <th>Weight</th>\n",
       "      <th>Year</th>\n",
       "      <th>Medal</th>\n",
       "    </tr>\n",
       "    <tr>\n",
       "      <th>Sex</th>\n",
       "      <th></th>\n",
       "      <th></th>\n",
       "      <th></th>\n",
       "      <th></th>\n",
       "      <th></th>\n",
       "      <th></th>\n",
       "    </tr>\n",
       "  </thead>\n",
       "  <tbody>\n",
       "    <tr>\n",
       "      <th>F</th>\n",
       "      <td>741008119</td>\n",
       "      <td>254585.0</td>\n",
       "      <td>1765016.0</td>\n",
       "      <td>654323.0</td>\n",
       "      <td>20654926</td>\n",
       "      <td>10350</td>\n",
       "    </tr>\n",
       "    <tr>\n",
       "      <th>M</th>\n",
       "      <td>1378481266</td>\n",
       "      <td>512888.0</td>\n",
       "      <td>3596408.0</td>\n",
       "      <td>1571633.0</td>\n",
       "      <td>39345082</td>\n",
       "      <td>19831</td>\n",
       "    </tr>\n",
       "  </tbody>\n",
       "</table>\n",
       "</div>"
      ],
      "text/plain": [
       "             ID       Age     Height     Weight      Year  Medal\n",
       "Sex                                                             \n",
       "F     741008119  254585.0  1765016.0   654323.0  20654926  10350\n",
       "M    1378481266  512888.0  3596408.0  1571633.0  39345082  19831"
      ]
     },
     "execution_count": 50,
     "metadata": {},
     "output_type": "execute_result"
    }
   ],
   "source": [
    "medal.groupby(\"Sex\").sum()"
   ]
  },
  {
   "cell_type": "code",
   "execution_count": 34,
   "id": "7a1b50e8",
   "metadata": {},
   "outputs": [
    {
     "data": {
      "text/plain": [
       "count    19831.000000\n",
       "mean        25.862942\n",
       "std          4.969973\n",
       "min         13.000000\n",
       "25%         22.000000\n",
       "50%         25.000000\n",
       "75%         28.000000\n",
       "max         66.000000\n",
       "Name: Age, dtype: float64"
      ]
     },
     "execution_count": 34,
     "metadata": {},
     "output_type": "execute_result"
    }
   ],
   "source": [
    "medal_man=medal[\"Age\"][medal[\"Sex\"]==\"M\"]\n",
    "medal_man.describe()"
   ]
  },
  {
   "cell_type": "code",
   "execution_count": 73,
   "id": "6fde3295",
   "metadata": {},
   "outputs": [
    {
     "data": {
      "text/plain": [
       "count    50.00000\n",
       "mean     27.62000\n",
       "std       5.81304\n",
       "min      19.00000\n",
       "25%      23.25000\n",
       "50%      27.00000\n",
       "75%      30.75000\n",
       "max      44.00000\n",
       "Name: Age, dtype: float64"
      ]
     },
     "execution_count": 73,
     "metadata": {},
     "output_type": "execute_result"
    }
   ],
   "source": [
    "k=50\n",
    "medal_man_sample=medal_man.sample(k).reset_index(drop=True)\n",
    "medal_man_sample.describe()"
   ]
  },
  {
   "cell_type": "markdown",
   "id": "7db0e1a4",
   "metadata": {},
   "source": [
    "# Age, sex and Medal attributes were selected"
   ]
  },
  {
   "cell_type": "markdown",
   "id": "ae3e7b99",
   "metadata": {},
   "source": [
    "H0: The average age of atleths-man with medal in Olympic Games is 25.86.\n",
    "\n",
    "H1: The average age of atleths - man with medal in Olympic Games is bigger than 25.86."
   ]
  },
  {
   "cell_type": "markdown",
   "id": "a1cd121d",
   "metadata": {},
   "source": [
    "**INDEPDENT T-TEST USING RESEARCHPY**"
   ]
  },
  {
   "cell_type": "code",
   "execution_count": 74,
   "id": "dadfa0f3",
   "metadata": {},
   "outputs": [
    {
     "name": "stdout",
     "output_type": "stream",
     "text": [
      "               Variable        N       Mean        SD        SE  95% Conf.  \\\n",
      "0           Medal - man  19831.0  25.862942  4.969973  0.035292  25.793766   \n",
      "1  Medal - man - sample     50.0  27.620000  5.813040  0.822088  25.967952   \n",
      "2              combined  19881.0  25.867361  4.972880  0.035269  25.798231   \n",
      "\n",
      "    Interval  \n",
      "0  25.932118  \n",
      "1  29.272048  \n",
      "2  25.936490  \n"
     ]
    }
   ],
   "source": [
    "summary, results = rp.ttest(group1=medal_man , group1_name= \"Medal - man\",\n",
    "                            group2= medal_man_sample, group2_name= \"Medal - man - sample\")\n",
    "print(summary)\n"
   ]
  },
  {
   "cell_type": "markdown",
   "id": "fad98f60",
   "metadata": {},
   "source": [
    "**INDEPDENT T-TEST USING SCIPY.STATS**"
   ]
  },
  {
   "cell_type": "code",
   "execution_count": 75,
   "id": "b7193c1a",
   "metadata": {},
   "outputs": [
    {
     "data": {
      "text/plain": [
       "Ttest_indResult(statistic=-2.4955910442794034, pvalue=0.012582789682919449)"
      ]
     },
     "execution_count": 75,
     "metadata": {},
     "output_type": "execute_result"
    }
   ],
   "source": [
    "stats.ttest_ind( medal_man, medal_man_sample)"
   ]
  },
  {
   "cell_type": "markdown",
   "id": "7da24c4d",
   "metadata": {},
   "source": [
    "**Interpretation**"
   ]
  },
  {
   "cell_type": "markdown",
   "id": "fc5eedff",
   "metadata": {},
   "source": [
    "**Pvalue** is smaller than alfa(5%). The difference is statistically significant. We can reject the null hypothesis."
   ]
  },
  {
   "cell_type": "code",
   "execution_count": null,
   "id": "61fcac87",
   "metadata": {},
   "outputs": [],
   "source": []
  }
 ],
 "metadata": {
  "kernelspec": {
   "display_name": "Python 3",
   "language": "python",
   "name": "python3"
  },
  "language_info": {
   "codemirror_mode": {
    "name": "ipython",
    "version": 3
   },
   "file_extension": ".py",
   "mimetype": "text/x-python",
   "name": "python",
   "nbconvert_exporter": "python",
   "pygments_lexer": "ipython3",
   "version": "3.9.2"
  }
 },
 "nbformat": 4,
 "nbformat_minor": 5
}
