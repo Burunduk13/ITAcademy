{
 "cells": [
  {
   "cell_type": "markdown",
   "id": "3979aa87",
   "metadata": {},
   "source": [
    "# **Exercici 1**\n",
    "Crea almenys tres models de regressió diferents per intentar predir el millor possible l’endarreriment dels vols (ArrDelay) de DelayedFlights.csv."
   ]
  },
  {
   "cell_type": "markdown",
   "id": "4cda303b",
   "metadata": {},
   "source": [
    "Load the dataset"
   ]
  },
  {
   "cell_type": "code",
   "execution_count": 1,
   "id": "ea3a064f",
   "metadata": {},
   "outputs": [],
   "source": [
    "# import libraries\n",
    "import numpy as np\n",
    "import pandas as pd\n",
    "\n",
    "from sklearn import preprocessing\n",
    "import matplotlib.pyplot as plt\n",
    "import seaborn as sns\n",
    "\n",
    "from sklearn.linear_model import LinearRegression"
   ]
  },
  {
   "cell_type": "code",
   "execution_count": 2,
   "id": "8cc2b245",
   "metadata": {
    "scrolled": false
   },
   "outputs": [
    {
     "data": {
      "text/html": [
       "<div>\n",
       "<style scoped>\n",
       "    .dataframe tbody tr th:only-of-type {\n",
       "        vertical-align: middle;\n",
       "    }\n",
       "\n",
       "    .dataframe tbody tr th {\n",
       "        vertical-align: top;\n",
       "    }\n",
       "\n",
       "    .dataframe thead th {\n",
       "        text-align: right;\n",
       "    }\n",
       "</style>\n",
       "<table border=\"1\" class=\"dataframe\">\n",
       "  <thead>\n",
       "    <tr style=\"text-align: right;\">\n",
       "      <th></th>\n",
       "      <th>Month</th>\n",
       "      <th>DayofMonth</th>\n",
       "      <th>DayOfWeek</th>\n",
       "      <th>DepTime</th>\n",
       "      <th>ArrTime</th>\n",
       "      <th>UniqueCarrier</th>\n",
       "      <th>AirTime</th>\n",
       "      <th>ArrDelay</th>\n",
       "      <th>DepDelay</th>\n",
       "      <th>Origin</th>\n",
       "      <th>Dest</th>\n",
       "      <th>Distance</th>\n",
       "    </tr>\n",
       "  </thead>\n",
       "  <tbody>\n",
       "    <tr>\n",
       "      <th>0</th>\n",
       "      <td>1</td>\n",
       "      <td>3</td>\n",
       "      <td>4</td>\n",
       "      <td>2003.0</td>\n",
       "      <td>2211.0</td>\n",
       "      <td>WN</td>\n",
       "      <td>116.0</td>\n",
       "      <td>-14.0</td>\n",
       "      <td>8.0</td>\n",
       "      <td>IAD</td>\n",
       "      <td>TPA</td>\n",
       "      <td>810</td>\n",
       "    </tr>\n",
       "    <tr>\n",
       "      <th>1</th>\n",
       "      <td>1</td>\n",
       "      <td>3</td>\n",
       "      <td>4</td>\n",
       "      <td>754.0</td>\n",
       "      <td>1002.0</td>\n",
       "      <td>WN</td>\n",
       "      <td>113.0</td>\n",
       "      <td>2.0</td>\n",
       "      <td>19.0</td>\n",
       "      <td>IAD</td>\n",
       "      <td>TPA</td>\n",
       "      <td>810</td>\n",
       "    </tr>\n",
       "    <tr>\n",
       "      <th>2</th>\n",
       "      <td>1</td>\n",
       "      <td>3</td>\n",
       "      <td>4</td>\n",
       "      <td>628.0</td>\n",
       "      <td>804.0</td>\n",
       "      <td>WN</td>\n",
       "      <td>76.0</td>\n",
       "      <td>14.0</td>\n",
       "      <td>8.0</td>\n",
       "      <td>IND</td>\n",
       "      <td>BWI</td>\n",
       "      <td>515</td>\n",
       "    </tr>\n",
       "    <tr>\n",
       "      <th>3</th>\n",
       "      <td>1</td>\n",
       "      <td>3</td>\n",
       "      <td>4</td>\n",
       "      <td>1829.0</td>\n",
       "      <td>1959.0</td>\n",
       "      <td>WN</td>\n",
       "      <td>77.0</td>\n",
       "      <td>34.0</td>\n",
       "      <td>34.0</td>\n",
       "      <td>IND</td>\n",
       "      <td>BWI</td>\n",
       "      <td>515</td>\n",
       "    </tr>\n",
       "    <tr>\n",
       "      <th>4</th>\n",
       "      <td>1</td>\n",
       "      <td>3</td>\n",
       "      <td>4</td>\n",
       "      <td>1940.0</td>\n",
       "      <td>2121.0</td>\n",
       "      <td>WN</td>\n",
       "      <td>87.0</td>\n",
       "      <td>11.0</td>\n",
       "      <td>25.0</td>\n",
       "      <td>IND</td>\n",
       "      <td>JAX</td>\n",
       "      <td>688</td>\n",
       "    </tr>\n",
       "  </tbody>\n",
       "</table>\n",
       "</div>"
      ],
      "text/plain": [
       "   Month  DayofMonth  DayOfWeek  DepTime  ArrTime UniqueCarrier  AirTime  \\\n",
       "0      1           3          4   2003.0   2211.0            WN    116.0   \n",
       "1      1           3          4    754.0   1002.0            WN    113.0   \n",
       "2      1           3          4    628.0    804.0            WN     76.0   \n",
       "3      1           3          4   1829.0   1959.0            WN     77.0   \n",
       "4      1           3          4   1940.0   2121.0            WN     87.0   \n",
       "\n",
       "   ArrDelay  DepDelay Origin Dest  Distance  \n",
       "0     -14.0       8.0    IAD  TPA       810  \n",
       "1       2.0      19.0    IAD  TPA       810  \n",
       "2      14.0       8.0    IND  BWI       515  \n",
       "3      34.0      34.0    IND  BWI       515  \n",
       "4      11.0      25.0    IND  JAX       688  "
      ]
     },
     "execution_count": 2,
     "metadata": {},
     "output_type": "execute_result"
    }
   ],
   "source": [
    "# Load the dataframe\n",
    "df=pd.read_csv (\"data/DelayedFlights.csv\")\n",
    "#Remove the column ' Unnamed: 0'\n",
    "df.drop('Unnamed: 0', axis=1, inplace=True)\n",
    "# fill 0 if we don´t have data\n",
    "df[['DepDelay',\"ArrDelay\"]]=df[['DepDelay',\"ArrDelay\"]].fillna(0)\n",
    "\n",
    "df=df[['Month', 'DayofMonth', 'DayOfWeek', 'DepTime', 'ArrTime', 'UniqueCarrier', 'AirTime', 'ArrDelay',\n",
    "       'DepDelay', 'Origin', 'Dest', 'Distance']]\n",
    "\n",
    "df.head()"
   ]
  },
  {
   "cell_type": "code",
   "execution_count": 3,
   "id": "e409670f",
   "metadata": {},
   "outputs": [
    {
     "data": {
      "text/html": [
       "<div>\n",
       "<style scoped>\n",
       "    .dataframe tbody tr th:only-of-type {\n",
       "        vertical-align: middle;\n",
       "    }\n",
       "\n",
       "    .dataframe tbody tr th {\n",
       "        vertical-align: top;\n",
       "    }\n",
       "\n",
       "    .dataframe thead th {\n",
       "        text-align: right;\n",
       "    }\n",
       "</style>\n",
       "<table border=\"1\" class=\"dataframe\">\n",
       "  <thead>\n",
       "    <tr style=\"text-align: right;\">\n",
       "      <th></th>\n",
       "      <th>UniqueCarrier</th>\n",
       "      <th>Origin</th>\n",
       "      <th>Dest</th>\n",
       "    </tr>\n",
       "  </thead>\n",
       "  <tbody>\n",
       "    <tr>\n",
       "      <th>0</th>\n",
       "      <td>WN</td>\n",
       "      <td>IAD</td>\n",
       "      <td>TPA</td>\n",
       "    </tr>\n",
       "    <tr>\n",
       "      <th>1</th>\n",
       "      <td>WN</td>\n",
       "      <td>IAD</td>\n",
       "      <td>TPA</td>\n",
       "    </tr>\n",
       "    <tr>\n",
       "      <th>2</th>\n",
       "      <td>WN</td>\n",
       "      <td>IND</td>\n",
       "      <td>BWI</td>\n",
       "    </tr>\n",
       "    <tr>\n",
       "      <th>3</th>\n",
       "      <td>WN</td>\n",
       "      <td>IND</td>\n",
       "      <td>BWI</td>\n",
       "    </tr>\n",
       "    <tr>\n",
       "      <th>4</th>\n",
       "      <td>WN</td>\n",
       "      <td>IND</td>\n",
       "      <td>JAX</td>\n",
       "    </tr>\n",
       "  </tbody>\n",
       "</table>\n",
       "</div>"
      ],
      "text/plain": [
       "  UniqueCarrier Origin Dest\n",
       "0            WN    IAD  TPA\n",
       "1            WN    IAD  TPA\n",
       "2            WN    IND  BWI\n",
       "3            WN    IND  BWI\n",
       "4            WN    IND  JAX"
      ]
     },
     "execution_count": 3,
     "metadata": {},
     "output_type": "execute_result"
    }
   ],
   "source": [
    "#Data Transforming\n",
    "le = preprocessing.LabelEncoder()\n",
    "\n",
    "df_cat = df[['UniqueCarrier','Origin', 'Dest' ]]\n",
    "df_cat.head()"
   ]
  },
  {
   "cell_type": "code",
   "execution_count": 4,
   "id": "ea6c7ebb",
   "metadata": {
    "scrolled": true
   },
   "outputs": [
    {
     "data": {
      "text/html": [
       "<div>\n",
       "<style scoped>\n",
       "    .dataframe tbody tr th:only-of-type {\n",
       "        vertical-align: middle;\n",
       "    }\n",
       "\n",
       "    .dataframe tbody tr th {\n",
       "        vertical-align: top;\n",
       "    }\n",
       "\n",
       "    .dataframe thead th {\n",
       "        text-align: right;\n",
       "    }\n",
       "</style>\n",
       "<table border=\"1\" class=\"dataframe\">\n",
       "  <thead>\n",
       "    <tr style=\"text-align: right;\">\n",
       "      <th></th>\n",
       "      <th>Month</th>\n",
       "      <th>DayofMonth</th>\n",
       "      <th>DayOfWeek</th>\n",
       "      <th>DepTime</th>\n",
       "      <th>ArrTime</th>\n",
       "      <th>UniqueCarrier</th>\n",
       "      <th>AirTime</th>\n",
       "      <th>ArrDelay</th>\n",
       "      <th>DepDelay</th>\n",
       "      <th>Origin</th>\n",
       "      <th>Dest</th>\n",
       "      <th>Distance</th>\n",
       "    </tr>\n",
       "  </thead>\n",
       "  <tbody>\n",
       "    <tr>\n",
       "      <th>0</th>\n",
       "      <td>1</td>\n",
       "      <td>3</td>\n",
       "      <td>4</td>\n",
       "      <td>2003.0</td>\n",
       "      <td>2211.0</td>\n",
       "      <td>17</td>\n",
       "      <td>116.0</td>\n",
       "      <td>-14.0</td>\n",
       "      <td>8.0</td>\n",
       "      <td>135</td>\n",
       "      <td>286</td>\n",
       "      <td>810</td>\n",
       "    </tr>\n",
       "    <tr>\n",
       "      <th>1</th>\n",
       "      <td>1</td>\n",
       "      <td>3</td>\n",
       "      <td>4</td>\n",
       "      <td>754.0</td>\n",
       "      <td>1002.0</td>\n",
       "      <td>17</td>\n",
       "      <td>113.0</td>\n",
       "      <td>2.0</td>\n",
       "      <td>19.0</td>\n",
       "      <td>135</td>\n",
       "      <td>286</td>\n",
       "      <td>810</td>\n",
       "    </tr>\n",
       "    <tr>\n",
       "      <th>2</th>\n",
       "      <td>1</td>\n",
       "      <td>3</td>\n",
       "      <td>4</td>\n",
       "      <td>628.0</td>\n",
       "      <td>804.0</td>\n",
       "      <td>17</td>\n",
       "      <td>76.0</td>\n",
       "      <td>14.0</td>\n",
       "      <td>8.0</td>\n",
       "      <td>140</td>\n",
       "      <td>48</td>\n",
       "      <td>515</td>\n",
       "    </tr>\n",
       "    <tr>\n",
       "      <th>3</th>\n",
       "      <td>1</td>\n",
       "      <td>3</td>\n",
       "      <td>4</td>\n",
       "      <td>1829.0</td>\n",
       "      <td>1959.0</td>\n",
       "      <td>17</td>\n",
       "      <td>77.0</td>\n",
       "      <td>34.0</td>\n",
       "      <td>34.0</td>\n",
       "      <td>140</td>\n",
       "      <td>48</td>\n",
       "      <td>515</td>\n",
       "    </tr>\n",
       "    <tr>\n",
       "      <th>4</th>\n",
       "      <td>1</td>\n",
       "      <td>3</td>\n",
       "      <td>4</td>\n",
       "      <td>1940.0</td>\n",
       "      <td>2121.0</td>\n",
       "      <td>17</td>\n",
       "      <td>87.0</td>\n",
       "      <td>11.0</td>\n",
       "      <td>25.0</td>\n",
       "      <td>140</td>\n",
       "      <td>150</td>\n",
       "      <td>688</td>\n",
       "    </tr>\n",
       "  </tbody>\n",
       "</table>\n",
       "</div>"
      ],
      "text/plain": [
       "   Month  DayofMonth  DayOfWeek  DepTime  ArrTime  UniqueCarrier  AirTime  \\\n",
       "0      1           3          4   2003.0   2211.0             17    116.0   \n",
       "1      1           3          4    754.0   1002.0             17    113.0   \n",
       "2      1           3          4    628.0    804.0             17     76.0   \n",
       "3      1           3          4   1829.0   1959.0             17     77.0   \n",
       "4      1           3          4   1940.0   2121.0             17     87.0   \n",
       "\n",
       "   ArrDelay  DepDelay  Origin  Dest  Distance  \n",
       "0     -14.0       8.0     135   286       810  \n",
       "1       2.0      19.0     135   286       810  \n",
       "2      14.0       8.0     140    48       515  \n",
       "3      34.0      34.0     140    48       515  \n",
       "4      11.0      25.0     140   150       688  "
      ]
     },
     "execution_count": 4,
     "metadata": {},
     "output_type": "execute_result"
    }
   ],
   "source": [
    "df_transform = df.copy()\n",
    "\n",
    "for col in df_cat:\n",
    "    df_transform[col] = le.fit_transform(df_cat[col])\n",
    "\n",
    "    \n",
    "df_transform.head()"
   ]
  },
  {
   "cell_type": "markdown",
   "id": "78611f0b",
   "metadata": {},
   "source": [
    "Correlation\n",
    "\n",
    "Let's check the features that better met with the target.\n",
    "\n",
    "For this case, lets use the correlation (Pearson's) between the ArrDelay target and the other attributes."
   ]
  },
  {
   "cell_type": "code",
   "execution_count": 5,
   "id": "2abe80d6",
   "metadata": {},
   "outputs": [
    {
     "data": {
      "text/plain": [
       "ArrDelay         1.000000\n",
       "DepDelay         0.946002\n",
       "DepTime          0.126764\n",
       "DayOfWeek        0.006166\n",
       "DayofMonth       0.003996\n",
       "AirTime         -0.000189\n",
       "Month           -0.001585\n",
       "Origin          -0.001753\n",
       "Dest            -0.014735\n",
       "Distance        -0.030672\n",
       "UniqueCarrier   -0.036913\n",
       "ArrTime         -0.050767\n",
       "Name: ArrDelay, dtype: float64"
      ]
     },
     "execution_count": 5,
     "metadata": {},
     "output_type": "execute_result"
    }
   ],
   "source": [
    "# using the corr() method\n",
    "corr_matrix = df_transform.corr()\n",
    "\n",
    "# How much each attribute correlates with the Arrival Delay\n",
    "corr_matrix['ArrDelay'].sort_values(ascending=False)"
   ]
  },
  {
   "cell_type": "code",
   "execution_count": 6,
   "id": "589927bd",
   "metadata": {},
   "outputs": [
    {
     "data": {
      "image/png": "[encoded data removed]",
      "text/plain": [
       "<Figure size 864x576 with 2 Axes>"
      ]
     },
     "metadata": {
      "needs_background": "light"
     },
     "output_type": "display_data"
    }
   ],
   "source": [
    "# Matrix correlation\n",
    "plt.figure(figsize=(12,8))\n",
    "\n",
    "sns.heatmap(corr_matrix, annot=True)\n",
    "plt.title('Delayes Flights Correlation Matrix')\n",
    "plt.show()"
   ]
  },
  {
   "cell_type": "code",
   "execution_count": 11,
   "id": "cdcaa8f1",
   "metadata": {},
   "outputs": [
    {
     "name": "stdout",
     "output_type": "stream",
     "text": [
      "<class 'pandas.core.frame.DataFrame'>\n",
      "RangeIndex: 1936758 entries, 0 to 1936757\n",
      "Data columns (total 12 columns):\n",
      " #   Column         Dtype  \n",
      "---  ------         -----  \n",
      " 0   Month          int64  \n",
      " 1   DayofMonth     int64  \n",
      " 2   DayOfWeek      int64  \n",
      " 3   DepTime        float64\n",
      " 4   ArrTime        float64\n",
      " 5   UniqueCarrier  int32  \n",
      " 6   AirTime        float64\n",
      " 7   ArrDelay       float64\n",
      " 8   DepDelay       float64\n",
      " 9   Origin         int32  \n",
      " 10  Dest           int32  \n",
      " 11  Distance       int64  \n",
      "dtypes: float64(5), int32(3), int64(4)\n",
      "memory usage: 155.2 MB\n"
     ]
    }
   ],
   "source": [
    "df_transform.info()"
   ]
  },
  {
   "cell_type": "markdown",
   "id": "bc3f0a5e",
   "metadata": {},
   "source": [
    "**Linear Regression**\n",
    "\n",
    "Fit a linear regression model using the DepDelay feature, which have the biggest correlation coefficient\n"
   ]
  },
  {
   "cell_type": "code",
   "execution_count": 16,
   "id": "e2721c1d",
   "metadata": {
    "scrolled": false
   },
   "outputs": [
    {
     "data": {
      "image/png": "[encoded data removed]",
      "text/plain": [
       "<Figure size 360x360 with 1 Axes>"
      ]
     },
     "metadata": {
      "needs_background": "light"
     },
     "output_type": "display_data"
    }
   ],
   "source": [
    "plt.figure(figsize=(5,5))\n",
    "plt.grid()\n",
    "sns.regplot(x=\"DepDelay\", y=\"ArrDelay\", data=df_transform,line_kws={\"color\": \"red\"})\n",
    "plt.title('Arrive Delay x Departure Delay regression');"
   ]
  },
  {
   "cell_type": "code",
   "execution_count": 31,
   "id": "e140df65",
   "metadata": {},
   "outputs": [],
   "source": [
    "\n",
    "x=np.array(df_transform['DepDelay']).reshape((-1,1))\n",
    "y=np.array(df_transform['ArrDelay'])\n",
    "model = LinearRegression().fit(x,y)"
   ]
  },
  {
   "cell_type": "code",
   "execution_count": 32,
   "id": "b12ff8b1",
   "metadata": {
    "code_folding": [],
    "scrolled": true
   },
   "outputs": [
    {
     "name": "stdout",
     "output_type": "stream",
     "text": [
      "coefficient of determination: 0.8949198002949562\n"
     ]
    }
   ],
   "source": [
    "#obtain the coefficient of determination (𝑅²)\n",
    "r_sq = model.score(x, y)\n",
    "print('coefficient of determination:', r_sq)"
   ]
  },
  {
   "cell_type": "code",
   "execution_count": 33,
   "id": "e0fbe9f8",
   "metadata": {},
   "outputs": [
    {
     "data": {
      "text/plain": [
       "array([ 6.65830465, 17.71259623,  6.65830465, ..., 79.01366773,\n",
       "        9.67311145,  5.65336905])"
      ]
     },
     "execution_count": 33,
     "metadata": {},
     "output_type": "execute_result"
    }
   ],
   "source": [
    "y_pr = model.predict(x)\n",
    "y_pr"
   ]
  },
  {
   "cell_type": "code",
   "execution_count": 54,
   "id": "cf951e9f",
   "metadata": {
    "scrolled": true
   },
   "outputs": [
    {
     "data": {
      "text/plain": [
       "338.1708936518837"
      ]
     },
     "execution_count": 54,
     "metadata": {},
     "output_type": "execute_result"
    }
   ],
   "source": [
    "MSE = np.square(np.subtract(y_pr,y)).mean()\n",
    "MSE"
   ]
  },
  {
   "cell_type": "markdown",
   "id": "4dd7d97f",
   "metadata": {},
   "source": [
    "**Multiple linear regression**\n",
    "\n",
    "I choose the features most correlated with the ArrDelay and no repetitive \n"
   ]
  },
  {
   "cell_type": "code",
   "execution_count": 29,
   "id": "960b0862",
   "metadata": {
    "scrolled": true
   },
   "outputs": [],
   "source": [
    "\n",
    "x_m=df_transform[['DepDelay', 'UniqueCarrier','Distance']]\n",
    "y_m=np.array(df['ArrDelay'])\n",
    "model_m = LinearRegression().fit(x_m,y_m)"
   ]
  },
  {
   "cell_type": "code",
   "execution_count": 35,
   "id": "2ea12e96",
   "metadata": {
    "code_folding": [],
    "scrolled": true
   },
   "outputs": [
    {
     "name": "stdout",
     "output_type": "stream",
     "text": [
      "coefficient of determination: 0.8958764714800674\n"
     ]
    }
   ],
   "source": [
    "#obtain the coefficient of determination (𝑅²)\n",
    "r_sq_m = model_m.score(x_m, y_m)\n",
    "print('coefficient of determination:', r_sq_m)"
   ]
  },
  {
   "cell_type": "code",
   "execution_count": 37,
   "id": "3d23218c",
   "metadata": {
    "scrolled": true
   },
   "outputs": [
    {
     "data": {
      "text/plain": [
       "array([ 5.39849161, 16.44465251,  6.20571348, ..., 80.21081076,\n",
       "       11.34812589,  6.39824636])"
      ]
     },
     "execution_count": 37,
     "metadata": {},
     "output_type": "execute_result"
    }
   ],
   "source": [
    "y_pr_m = model_m.predict(x_m)\n",
    "y_pr_m"
   ]
  },
  {
   "cell_type": "code",
   "execution_count": 56,
   "id": "69a9877e",
   "metadata": {
    "scrolled": true
   },
   "outputs": [
    {
     "data": {
      "text/plain": [
       "335.09211810227316"
      ]
     },
     "execution_count": 56,
     "metadata": {},
     "output_type": "execute_result"
    }
   ],
   "source": [
    "MSE_m = np.square(np.subtract(y_pr_m,y_m)).mean()\n",
    "MSE_m"
   ]
  },
  {
   "cell_type": "code",
   "execution_count": null,
   "id": "599edbdf",
   "metadata": {},
   "outputs": [],
   "source": []
  },
  {
   "cell_type": "markdown",
   "id": "7688c882",
   "metadata": {},
   "source": [
    "**Ridge regression**"
   ]
  },
  {
   "cell_type": "code",
   "execution_count": 49,
   "id": "31289dc4",
   "metadata": {},
   "outputs": [
    {
     "data": {
      "text/plain": [
       "0.8958764714800675"
      ]
     },
     "execution_count": 49,
     "metadata": {},
     "output_type": "execute_result"
    }
   ],
   "source": [
    "from sklearn.linear_model import Ridge\n",
    "model_ridge=Ridge().fit(x_m, y_m)\n",
    "r_sq_ridge = model_ridge.score(x_m, y_m)\n",
    "r_sq_ridge"
   ]
  },
  {
   "cell_type": "code",
   "execution_count": 50,
   "id": "87112c85",
   "metadata": {},
   "outputs": [
    {
     "data": {
      "text/plain": [
       "335.0921181022728"
      ]
     },
     "execution_count": 50,
     "metadata": {},
     "output_type": "execute_result"
    }
   ],
   "source": [
    "y_ridge=model_ridge.predict(x_m)\n",
    "MSE_ridge = np.square(np.subtract(y_ridge,y_m)).mean()\n",
    "MSE_ridge"
   ]
  },
  {
   "cell_type": "markdown",
   "id": "27ee0e8d",
   "metadata": {},
   "source": [
    "**Decision Tree Regression**"
   ]
  },
  {
   "cell_type": "code",
   "execution_count": 52,
   "id": "071ff6f0",
   "metadata": {},
   "outputs": [
    {
     "data": {
      "text/plain": [
       "0.9309157006466928"
      ]
     },
     "execution_count": 52,
     "metadata": {},
     "output_type": "execute_result"
    }
   ],
   "source": [
    "from sklearn.tree import DecisionTreeRegressor\n",
    "model_tree=DecisionTreeRegressor(random_state=0).fit(x_m, y_m)\n",
    "r_sq_tree = model_tree.score(x_m, y_m)\n",
    "r_sq_tree"
   ]
  },
  {
   "cell_type": "code",
   "execution_count": 53,
   "id": "bd8ed4e5",
   "metadata": {
    "scrolled": true
   },
   "outputs": [
    {
     "data": {
      "text/plain": [
       "222.32827226441543"
      ]
     },
     "execution_count": 53,
     "metadata": {},
     "output_type": "execute_result"
    }
   ],
   "source": [
    "y_tree=model_tree.predict(x_m)\n",
    "MSE_tree = np.square(np.subtract(y_tree,y_m)).mean()\n",
    "MSE_tree"
   ]
  },
  {
   "cell_type": "markdown",
   "id": "5bc82658",
   "metadata": {},
   "source": [
    "# - Exercici 2\n",
    "Compara’ls en base al MSE i al R2 ."
   ]
  },
  {
   "cell_type": "code",
   "execution_count": 57,
   "id": "eb4058ba",
   "metadata": {},
   "outputs": [
    {
     "data": {
      "text/html": [
       "<div>\n",
       "<style scoped>\n",
       "    .dataframe tbody tr th:only-of-type {\n",
       "        vertical-align: middle;\n",
       "    }\n",
       "\n",
       "    .dataframe tbody tr th {\n",
       "        vertical-align: top;\n",
       "    }\n",
       "\n",
       "    .dataframe thead th {\n",
       "        text-align: right;\n",
       "    }\n",
       "</style>\n",
       "<table border=\"1\" class=\"dataframe\">\n",
       "  <thead>\n",
       "    <tr style=\"text-align: right;\">\n",
       "      <th></th>\n",
       "      <th>Measure</th>\n",
       "      <th>Lin_Reg</th>\n",
       "      <th>Mult_Lin_Reg</th>\n",
       "      <th>Ridge_Reg</th>\n",
       "      <th>Decision_Tree</th>\n",
       "    </tr>\n",
       "  </thead>\n",
       "  <tbody>\n",
       "    <tr>\n",
       "      <th>0</th>\n",
       "      <td>R2</td>\n",
       "      <td>0.894920</td>\n",
       "      <td>0.895876</td>\n",
       "      <td>0.895876</td>\n",
       "      <td>0.930916</td>\n",
       "    </tr>\n",
       "    <tr>\n",
       "      <th>1</th>\n",
       "      <td>MSE</td>\n",
       "      <td>338.170894</td>\n",
       "      <td>335.092118</td>\n",
       "      <td>335.092118</td>\n",
       "      <td>222.328272</td>\n",
       "    </tr>\n",
       "  </tbody>\n",
       "</table>\n",
       "</div>"
      ],
      "text/plain": [
       "  Measure     Lin_Reg  Mult_Lin_Reg   Ridge_Reg  Decision_Tree\n",
       "0      R2    0.894920      0.895876    0.895876       0.930916\n",
       "1     MSE  338.170894    335.092118  335.092118     222.328272"
      ]
     },
     "execution_count": 57,
     "metadata": {},
     "output_type": "execute_result"
    }
   ],
   "source": [
    "measure_eval = pd.DataFrame({'Measure': ['R2', 'MSE'], \n",
    "                             'Lin_Reg': [r_sq, MSE],\n",
    "                             'Mult_Lin_Reg':[r_sq_m,MSE_m],\n",
    "                             'Ridge_Reg': [r_sq_ridge,MSE_ridge], \n",
    "                             'Decision_Tree': [r_sq_tree,MSE_tree]\n",
    "                            })\n",
    "measure_eval"
   ]
  },
  {
   "cell_type": "markdown",
   "id": "e848d883",
   "metadata": {},
   "source": [
    "# - Exercici 3\n",
    "Entrena’ls utilitzant els diferents paràmetres que admeten."
   ]
  },
  {
   "cell_type": "markdown",
   "id": "bc0bd2fd",
   "metadata": {},
   "source": [
    "The term Alfa is a hyperparameter Let's import GridSearchCV from the module model_selection."
   ]
  },
  {
   "cell_type": "code",
   "execution_count": 191,
   "id": "3eb6a065",
   "metadata": {},
   "outputs": [
    {
     "data": {
      "text/plain": [
       "{'alpha': [0.001, 0.1, 1, 10, 100, 1000, 10000, 100000, 100000]}"
      ]
     },
     "execution_count": 191,
     "metadata": {},
     "output_type": "execute_result"
    }
   ],
   "source": [
    "from sklearn.model_selection import GridSearchCV\n",
    "\n",
    "#create a dictionary of parameters values\n",
    "parameters= {'alpha': [0.001,0.1,1, 10, 100, 1000, 10000, 100000, 100000]}\n",
    "parameters"
   ]
  },
  {
   "cell_type": "code",
   "execution_count": 192,
   "id": "c6821e98",
   "metadata": {},
   "outputs": [],
   "source": [
    "# Create a Ridge  region object\n",
    "RR=Ridge()\n",
    "\n",
    "#Create a ridge grid search object\n",
    "Grid = GridSearchCV(RR, parameters,cv=4)"
   ]
  },
  {
   "cell_type": "code",
   "execution_count": 193,
   "id": "c3f72b60",
   "metadata": {
    "scrolled": true
   },
   "outputs": [
    {
     "data": {
      "text/plain": [
       "GridSearchCV(cv=4, estimator=Ridge(),\n",
       "             param_grid={'alpha': [0.001, 0.1, 1, 10, 100, 1000, 10000, 100000,\n",
       "                                   100000]})"
      ]
     },
     "execution_count": 193,
     "metadata": {},
     "output_type": "execute_result"
    }
   ],
   "source": [
    "from sklearn.model_selection import train_test_split\n",
    "\n",
    "x_m=df_transform[['DepDelay', 'UniqueCarrier','Distance']]\n",
    "y_m=np.array(df['ArrDelay'])\n",
    "\n",
    "X_train, X_test, y_train, y_test = train_test_split(x_m, y_m, test_size=0.35, random_state=1)\n",
    "\n",
    "#Fit the model\n",
    "Grid.fit(X_train, y_train)\n",
    "\n",
    "GridSearchCV(cv=4, estimator=Ridge(),\n",
    "             param_grid=parameters)\n",
    "\n"
   ]
  },
  {
   "cell_type": "code",
   "execution_count": 194,
   "id": "d1add6e5",
   "metadata": {},
   "outputs": [
    {
     "data": {
      "text/plain": [
       "Ridge(alpha=0.001)"
      ]
     },
     "execution_count": 194,
     "metadata": {},
     "output_type": "execute_result"
    }
   ],
   "source": [
    "#Obtain the estimator with the best parameters \n",
    "BestRR=Grid.best_estimator_\n",
    "BestRR"
   ]
  },
  {
   "cell_type": "code",
   "execution_count": 195,
   "id": "13b6f360",
   "metadata": {},
   "outputs": [
    {
     "data": {
      "text/plain": [
       "0.8967781743343735"
      ]
     },
     "execution_count": 195,
     "metadata": {},
     "output_type": "execute_result"
    }
   ],
   "source": [
    "#test our model on the test data\n",
    "BestRR.score(X_test, y_test)"
   ]
  },
  {
   "cell_type": "markdown",
   "id": "5cbc841a",
   "metadata": {},
   "source": [
    "# - Exercici 4\n",
    "Compara el seu rendiment utilitzant l’aproximació traint/test o utilitzant totes les dades (validació interna)"
   ]
  },
  {
   "cell_type": "markdown",
   "id": "5e79d670",
   "metadata": {},
   "source": [
    "I'll use the Multiple Linear Regression as a example, using train/test instead of all data.\n",
    "\n",
    "**Multiple Linear Regression- Using train/test data**\n"
   ]
  },
  {
   "cell_type": "code",
   "execution_count": 61,
   "id": "c8682b87",
   "metadata": {
    "scrolled": true
   },
   "outputs": [
    {
     "name": "stdout",
     "output_type": "stream",
     "text": [
      "number of test samples : 581028\n",
      "number of training samples: 1355730\n"
     ]
    }
   ],
   "source": [
    "#x_m=df_transform[['DepDelay', 'UniqueCarrier','Distance']]\n",
    "#y_m=np.array(df['ArrDelay'])\n",
    "\n",
    "from sklearn.model_selection import train_test_split\n",
    "X_train, X_test, y_train, y_test = train_test_split(x_m, y_m, test_size=0.30, random_state=1)\n",
    "\n",
    "print(\"number of test samples :\", X_test.shape[0])\n",
    "print(\"number of training samples:\",X_train.shape[0])\n",
    "\n",
    "model_train = LinearRegression().fit(X_train,y_train)"
   ]
  },
  {
   "cell_type": "code",
   "execution_count": 62,
   "id": "2fedca57",
   "metadata": {
    "code_folding": [],
    "scrolled": true
   },
   "outputs": [
    {
     "name": "stdout",
     "output_type": "stream",
     "text": [
      "coefficient of determination: 0.8966620798060537\n"
     ]
    }
   ],
   "source": [
    "#obtain the coefficient of determination (𝑅²)\n",
    "r_sq_test = model_m.score(X_test, y_test)\n",
    "print('coefficient of determination:', r_sq_test)"
   ]
  },
  {
   "cell_type": "code",
   "execution_count": 66,
   "id": "381aa99c",
   "metadata": {
    "scrolled": true
   },
   "outputs": [
    {
     "data": {
      "text/plain": [
       "array([10.76117804,  6.97443378, 48.25575731, ...,  6.45092726,\n",
       "        8.80868768, 18.03679981])"
      ]
     },
     "execution_count": 66,
     "metadata": {},
     "output_type": "execute_result"
    }
   ],
   "source": [
    "y_pr_ = model_train.predict(X_test)\n",
    "y_pr_"
   ]
  },
  {
   "cell_type": "code",
   "execution_count": 67,
   "id": "b841cd44",
   "metadata": {
    "scrolled": true
   },
   "outputs": [
    {
     "data": {
      "text/plain": [
       "333.93838829757266"
      ]
     },
     "execution_count": 67,
     "metadata": {},
     "output_type": "execute_result"
    }
   ],
   "source": [
    "MSE_ = np.square(np.subtract(y_pr_,y_test)).mean()\n",
    "MSE_"
   ]
  },
  {
   "cell_type": "code",
   "execution_count": null,
   "id": "a728d01a",
   "metadata": {},
   "outputs": [],
   "source": []
  },
  {
   "cell_type": "markdown",
   "id": "5a439902",
   "metadata": {},
   "source": [
    "# - Exercici 5\n",
    "Realitza algun procés d’enginyeria de variables per millorar-ne la predicció"
   ]
  },
  {
   "cell_type": "code",
   "execution_count": 145,
   "id": "c90a984a",
   "metadata": {},
   "outputs": [
    {
     "data": {
      "text/plain": [
       "ArrDelay         1.000000\n",
       "DepDelay         0.946002\n",
       "DepTime          0.126764\n",
       "DayOfWeek        0.006166\n",
       "DayofMonth       0.003996\n",
       "AirTime         -0.000189\n",
       "Month           -0.001585\n",
       "Origin          -0.001753\n",
       "Dest            -0.014735\n",
       "Distance        -0.030672\n",
       "UniqueCarrier   -0.036913\n",
       "ArrTime         -0.050767\n",
       "Name: ArrDelay, dtype: float64"
      ]
     },
     "execution_count": 145,
     "metadata": {},
     "output_type": "execute_result"
    }
   ],
   "source": [
    "corr_matrix = df_transform.corr()\n",
    "# How much each attribute correlates with the Arrival Delay\n",
    "corr_matrix['ArrDelay'].sort_values(ascending=False)"
   ]
  },
  {
   "cell_type": "markdown",
   "id": "e2845b2e",
   "metadata": {},
   "source": [
    "Let's create a attribute \"day/night\" to see if time of the departure influences the flight delay."
   ]
  },
  {
   "cell_type": "code",
   "execution_count": 147,
   "id": "337913da",
   "metadata": {},
   "outputs": [
    {
     "data": {
      "text/html": [
       "<div>\n",
       "<style scoped>\n",
       "    .dataframe tbody tr th:only-of-type {\n",
       "        vertical-align: middle;\n",
       "    }\n",
       "\n",
       "    .dataframe tbody tr th {\n",
       "        vertical-align: top;\n",
       "    }\n",
       "\n",
       "    .dataframe thead th {\n",
       "        text-align: right;\n",
       "    }\n",
       "</style>\n",
       "<table border=\"1\" class=\"dataframe\">\n",
       "  <thead>\n",
       "    <tr style=\"text-align: right;\">\n",
       "      <th></th>\n",
       "      <th>ArrDelay</th>\n",
       "      <th>DepDelay</th>\n",
       "    </tr>\n",
       "    <tr>\n",
       "      <th>dep_hour</th>\n",
       "      <th></th>\n",
       "      <th></th>\n",
       "    </tr>\n",
       "  </thead>\n",
       "  <tbody>\n",
       "    <tr>\n",
       "      <th>0.0</th>\n",
       "      <td>108.253018</td>\n",
       "      <td>115.302108</td>\n",
       "    </tr>\n",
       "    <tr>\n",
       "      <th>1.0</th>\n",
       "      <td>145.735533</td>\n",
       "      <td>154.080874</td>\n",
       "    </tr>\n",
       "    <tr>\n",
       "      <th>2.0</th>\n",
       "      <td>181.754796</td>\n",
       "      <td>191.879900</td>\n",
       "    </tr>\n",
       "    <tr>\n",
       "      <th>3.0</th>\n",
       "      <td>205.655527</td>\n",
       "      <td>213.305913</td>\n",
       "    </tr>\n",
       "    <tr>\n",
       "      <th>4.0</th>\n",
       "      <td>134.985294</td>\n",
       "      <td>147.504902</td>\n",
       "    </tr>\n",
       "    <tr>\n",
       "      <th>5.0</th>\n",
       "      <td>24.358423</td>\n",
       "      <td>24.888441</td>\n",
       "    </tr>\n",
       "    <tr>\n",
       "      <th>6.0</th>\n",
       "      <td>19.265655</td>\n",
       "      <td>19.447798</td>\n",
       "    </tr>\n",
       "    <tr>\n",
       "      <th>7.0</th>\n",
       "      <td>25.822504</td>\n",
       "      <td>25.900131</td>\n",
       "    </tr>\n",
       "    <tr>\n",
       "      <th>8.0</th>\n",
       "      <td>29.057710</td>\n",
       "      <td>29.005791</td>\n",
       "    </tr>\n",
       "    <tr>\n",
       "      <th>9.0</th>\n",
       "      <td>30.892579</td>\n",
       "      <td>31.125751</td>\n",
       "    </tr>\n",
       "    <tr>\n",
       "      <th>10.0</th>\n",
       "      <td>31.715767</td>\n",
       "      <td>32.720713</td>\n",
       "    </tr>\n",
       "    <tr>\n",
       "      <th>11.0</th>\n",
       "      <td>32.985256</td>\n",
       "      <td>34.107241</td>\n",
       "    </tr>\n",
       "    <tr>\n",
       "      <th>12.0</th>\n",
       "      <td>34.478080</td>\n",
       "      <td>35.730630</td>\n",
       "    </tr>\n",
       "    <tr>\n",
       "      <th>13.0</th>\n",
       "      <td>34.600629</td>\n",
       "      <td>35.799331</td>\n",
       "    </tr>\n",
       "    <tr>\n",
       "      <th>14.0</th>\n",
       "      <td>37.531405</td>\n",
       "      <td>38.671958</td>\n",
       "    </tr>\n",
       "    <tr>\n",
       "      <th>15.0</th>\n",
       "      <td>38.527845</td>\n",
       "      <td>39.487985</td>\n",
       "    </tr>\n",
       "    <tr>\n",
       "      <th>16.0</th>\n",
       "      <td>41.001255</td>\n",
       "      <td>41.768092</td>\n",
       "    </tr>\n",
       "    <tr>\n",
       "      <th>17.0</th>\n",
       "      <td>41.250910</td>\n",
       "      <td>42.168682</td>\n",
       "    </tr>\n",
       "    <tr>\n",
       "      <th>18.0</th>\n",
       "      <td>45.612522</td>\n",
       "      <td>46.333442</td>\n",
       "    </tr>\n",
       "    <tr>\n",
       "      <th>19.0</th>\n",
       "      <td>46.281449</td>\n",
       "      <td>47.239745</td>\n",
       "    </tr>\n",
       "    <tr>\n",
       "      <th>20.0</th>\n",
       "      <td>51.682589</td>\n",
       "      <td>53.566267</td>\n",
       "    </tr>\n",
       "    <tr>\n",
       "      <th>21.0</th>\n",
       "      <td>54.234093</td>\n",
       "      <td>56.055454</td>\n",
       "    </tr>\n",
       "    <tr>\n",
       "      <th>22.0</th>\n",
       "      <td>71.065252</td>\n",
       "      <td>73.979185</td>\n",
       "    </tr>\n",
       "    <tr>\n",
       "      <th>23.0</th>\n",
       "      <td>98.909576</td>\n",
       "      <td>103.426704</td>\n",
       "    </tr>\n",
       "    <tr>\n",
       "      <th>24.0</th>\n",
       "      <td>110.186916</td>\n",
       "      <td>113.383178</td>\n",
       "    </tr>\n",
       "  </tbody>\n",
       "</table>\n",
       "</div>"
      ],
      "text/plain": [
       "            ArrDelay    DepDelay\n",
       "dep_hour                        \n",
       "0.0       108.253018  115.302108\n",
       "1.0       145.735533  154.080874\n",
       "2.0       181.754796  191.879900\n",
       "3.0       205.655527  213.305913\n",
       "4.0       134.985294  147.504902\n",
       "5.0        24.358423   24.888441\n",
       "6.0        19.265655   19.447798\n",
       "7.0        25.822504   25.900131\n",
       "8.0        29.057710   29.005791\n",
       "9.0        30.892579   31.125751\n",
       "10.0       31.715767   32.720713\n",
       "11.0       32.985256   34.107241\n",
       "12.0       34.478080   35.730630\n",
       "13.0       34.600629   35.799331\n",
       "14.0       37.531405   38.671958\n",
       "15.0       38.527845   39.487985\n",
       "16.0       41.001255   41.768092\n",
       "17.0       41.250910   42.168682\n",
       "18.0       45.612522   46.333442\n",
       "19.0       46.281449   47.239745\n",
       "20.0       51.682589   53.566267\n",
       "21.0       54.234093   56.055454\n",
       "22.0       71.065252   73.979185\n",
       "23.0       98.909576  103.426704\n",
       "24.0      110.186916  113.383178"
      ]
     },
     "execution_count": 147,
     "metadata": {},
     "output_type": "execute_result"
    }
   ],
   "source": [
    "# Create 'weekend' attribute\n",
    "df_day = df_transform.copy()\n",
    "df_day['dep_hour'] = df_day['DepTime'].apply(lambda x: x//100)\n",
    "df_day.groupby(\"dep_hour\").agg({\"ArrDelay\":np.mean,\"DepDelay\":np.mean})"
   ]
  },
  {
   "cell_type": "code",
   "execution_count": 154,
   "id": "ffc6c2cc",
   "metadata": {},
   "outputs": [
    {
     "data": {
      "text/html": [
       "<div>\n",
       "<style scoped>\n",
       "    .dataframe tbody tr th:only-of-type {\n",
       "        vertical-align: middle;\n",
       "    }\n",
       "\n",
       "    .dataframe tbody tr th {\n",
       "        vertical-align: top;\n",
       "    }\n",
       "\n",
       "    .dataframe thead th {\n",
       "        text-align: right;\n",
       "    }\n",
       "</style>\n",
       "<table border=\"1\" class=\"dataframe\">\n",
       "  <thead>\n",
       "    <tr style=\"text-align: right;\">\n",
       "      <th></th>\n",
       "      <th>Month</th>\n",
       "      <th>DayofMonth</th>\n",
       "      <th>DayOfWeek</th>\n",
       "      <th>DepTime</th>\n",
       "      <th>ArrTime</th>\n",
       "      <th>UniqueCarrier</th>\n",
       "      <th>AirTime</th>\n",
       "      <th>ArrDelay</th>\n",
       "      <th>DepDelay</th>\n",
       "      <th>Origin</th>\n",
       "      <th>Dest</th>\n",
       "      <th>Distance</th>\n",
       "      <th>dep_hour</th>\n",
       "      <th>dep_day_night</th>\n",
       "    </tr>\n",
       "  </thead>\n",
       "  <tbody>\n",
       "    <tr>\n",
       "      <th>0</th>\n",
       "      <td>1</td>\n",
       "      <td>3</td>\n",
       "      <td>4</td>\n",
       "      <td>2003.0</td>\n",
       "      <td>2211.0</td>\n",
       "      <td>17</td>\n",
       "      <td>116.0</td>\n",
       "      <td>-14.0</td>\n",
       "      <td>8.0</td>\n",
       "      <td>135</td>\n",
       "      <td>286</td>\n",
       "      <td>810</td>\n",
       "      <td>20.0</td>\n",
       "      <td>0</td>\n",
       "    </tr>\n",
       "    <tr>\n",
       "      <th>1</th>\n",
       "      <td>1</td>\n",
       "      <td>3</td>\n",
       "      <td>4</td>\n",
       "      <td>754.0</td>\n",
       "      <td>1002.0</td>\n",
       "      <td>17</td>\n",
       "      <td>113.0</td>\n",
       "      <td>2.0</td>\n",
       "      <td>19.0</td>\n",
       "      <td>135</td>\n",
       "      <td>286</td>\n",
       "      <td>810</td>\n",
       "      <td>7.0</td>\n",
       "      <td>0</td>\n",
       "    </tr>\n",
       "    <tr>\n",
       "      <th>2</th>\n",
       "      <td>1</td>\n",
       "      <td>3</td>\n",
       "      <td>4</td>\n",
       "      <td>628.0</td>\n",
       "      <td>804.0</td>\n",
       "      <td>17</td>\n",
       "      <td>76.0</td>\n",
       "      <td>14.0</td>\n",
       "      <td>8.0</td>\n",
       "      <td>140</td>\n",
       "      <td>48</td>\n",
       "      <td>515</td>\n",
       "      <td>6.0</td>\n",
       "      <td>0</td>\n",
       "    </tr>\n",
       "    <tr>\n",
       "      <th>3</th>\n",
       "      <td>1</td>\n",
       "      <td>3</td>\n",
       "      <td>4</td>\n",
       "      <td>1829.0</td>\n",
       "      <td>1959.0</td>\n",
       "      <td>17</td>\n",
       "      <td>77.0</td>\n",
       "      <td>34.0</td>\n",
       "      <td>34.0</td>\n",
       "      <td>140</td>\n",
       "      <td>48</td>\n",
       "      <td>515</td>\n",
       "      <td>18.0</td>\n",
       "      <td>0</td>\n",
       "    </tr>\n",
       "    <tr>\n",
       "      <th>4</th>\n",
       "      <td>1</td>\n",
       "      <td>3</td>\n",
       "      <td>4</td>\n",
       "      <td>1940.0</td>\n",
       "      <td>2121.0</td>\n",
       "      <td>17</td>\n",
       "      <td>87.0</td>\n",
       "      <td>11.0</td>\n",
       "      <td>25.0</td>\n",
       "      <td>140</td>\n",
       "      <td>150</td>\n",
       "      <td>688</td>\n",
       "      <td>19.0</td>\n",
       "      <td>0</td>\n",
       "    </tr>\n",
       "  </tbody>\n",
       "</table>\n",
       "</div>"
      ],
      "text/plain": [
       "   Month  DayofMonth  DayOfWeek  DepTime  ArrTime  UniqueCarrier  AirTime  \\\n",
       "0      1           3          4   2003.0   2211.0             17    116.0   \n",
       "1      1           3          4    754.0   1002.0             17    113.0   \n",
       "2      1           3          4    628.0    804.0             17     76.0   \n",
       "3      1           3          4   1829.0   1959.0             17     77.0   \n",
       "4      1           3          4   1940.0   2121.0             17     87.0   \n",
       "\n",
       "   ArrDelay  DepDelay  Origin  Dest  Distance  dep_hour  dep_day_night  \n",
       "0     -14.0       8.0     135   286       810      20.0              0  \n",
       "1       2.0      19.0     135   286       810       7.0              0  \n",
       "2      14.0       8.0     140    48       515       6.0              0  \n",
       "3      34.0      34.0     140    48       515      18.0              0  \n",
       "4      11.0      25.0     140   150       688      19.0              0  "
      ]
     },
     "execution_count": 154,
     "metadata": {},
     "output_type": "execute_result"
    }
   ],
   "source": [
    "# Create 'day/night' attribute\n",
    "df_day['dep_day_night'] = df_day['DepTime'].apply(lambda x: 0 if x//100>4 and x//100<22 else 1)\n",
    "df_day.head()"
   ]
  },
  {
   "cell_type": "markdown",
   "id": "346bd69e",
   "metadata": {},
   "source": [
    "**New Correlation**"
   ]
  },
  {
   "cell_type": "code",
   "execution_count": 155,
   "id": "55493a96",
   "metadata": {},
   "outputs": [
    {
     "data": {
      "text/plain": [
       "ArrDelay         1.000000\n",
       "DepDelay         0.946002\n",
       "dep_day_night    0.194835\n",
       "DepTime          0.126764\n",
       "dep_hour         0.126419\n",
       "DayOfWeek        0.006166\n",
       "DayofMonth       0.003996\n",
       "AirTime         -0.000189\n",
       "Month           -0.001585\n",
       "Origin          -0.001753\n",
       "Dest            -0.014735\n",
       "Distance        -0.030672\n",
       "UniqueCarrier   -0.036913\n",
       "ArrTime         -0.050767\n",
       "Name: ArrDelay, dtype: float64"
      ]
     },
     "execution_count": 155,
     "metadata": {},
     "output_type": "execute_result"
    }
   ],
   "source": [
    "corr_matrix = df_day.corr()\n",
    "# How much each attribute correlates with the Arrival Delay\n",
    "corr_matrix['ArrDelay'].sort_values(ascending=False)"
   ]
  },
  {
   "cell_type": "code",
   "execution_count": 156,
   "id": "df374e74",
   "metadata": {},
   "outputs": [
    {
     "data": {
      "text/plain": [
       "DepDelay         1.000000\n",
       "ArrDelay         0.946002\n",
       "dep_day_night    0.220482\n",
       "DepTime          0.139254\n",
       "dep_hour         0.138851\n",
       "Origin           0.010357\n",
       "DayOfWeek        0.008538\n",
       "DayofMonth       0.005289\n",
       "Month            0.004769\n",
       "AirTime         -0.002753\n",
       "Distance        -0.007718\n",
       "Dest            -0.013073\n",
       "UniqueCarrier   -0.023256\n",
       "ArrTime         -0.053024\n",
       "Name: DepDelay, dtype: float64"
      ]
     },
     "execution_count": 156,
     "metadata": {},
     "output_type": "execute_result"
    }
   ],
   "source": [
    "corr_matrix = df_day.corr()\n",
    "# How much each attribute correlates with the Arrival Delay\n",
    "corr_matrix['DepDelay'].sort_values(ascending=False)"
   ]
  },
  {
   "cell_type": "markdown",
   "id": "dd05e2c1",
   "metadata": {},
   "source": [
    "The attribute 'day/night' has a small and positive correlation with the target 'ArrDelay'.\n",
    "\n",
    "That's confirm that in the night the arrive delays are a little bigger."
   ]
  },
  {
   "cell_type": "code",
   "execution_count": null,
   "id": "9e7f9194",
   "metadata": {},
   "outputs": [],
   "source": []
  },
  {
   "cell_type": "markdown",
   "id": "abdc186d",
   "metadata": {},
   "source": [
    "# **Exercici 6**\n",
    "No utilitzis la variable DepDelay a l’hora de fer prediccions"
   ]
  },
  {
   "cell_type": "markdown",
   "id": "d89328e4",
   "metadata": {},
   "source": [
    "**Multiple linear regression**\n",
    "\n",
    "I choose the features most correlated with the ArrDelay and no repetitive \n"
   ]
  },
  {
   "cell_type": "code",
   "execution_count": 68,
   "id": "7dd8eb4b",
   "metadata": {
    "scrolled": true
   },
   "outputs": [],
   "source": [
    "\n",
    "x_m=df_transform[['UniqueCarrier','Distance']]\n",
    "y_m=np.array(df['ArrDelay'])\n",
    "model_m = LinearRegression().fit(x_m,y_m)"
   ]
  },
  {
   "cell_type": "code",
   "execution_count": 69,
   "id": "6dfd42de",
   "metadata": {
    "code_folding": [],
    "scrolled": true
   },
   "outputs": [
    {
     "name": "stdout",
     "output_type": "stream",
     "text": [
      "coefficient of determination: 0.002903839408103015\n"
     ]
    }
   ],
   "source": [
    "#obtain the coefficient of determination (𝑅²)\n",
    "r_sq_m = model_m.score(x_m, y_m)\n",
    "print('coefficient of determination:', r_sq_m)"
   ]
  },
  {
   "cell_type": "code",
   "execution_count": 70,
   "id": "0e2c3c72",
   "metadata": {
    "scrolled": true
   },
   "outputs": [
    {
     "data": {
      "text/plain": [
       "array([39.29539385, 39.29539385, 40.46490784, ..., 44.53918035,\n",
       "       45.1576352 , 43.80575632])"
      ]
     },
     "execution_count": 70,
     "metadata": {},
     "output_type": "execute_result"
    }
   ],
   "source": [
    "y_pr_m = model_m.predict(x_m)\n",
    "y_pr_m"
   ]
  },
  {
   "cell_type": "code",
   "execution_count": 71,
   "id": "0d42b4a0",
   "metadata": {
    "scrolled": true
   },
   "outputs": [
    {
     "data": {
      "text/plain": [
       "3208.8718962345015"
      ]
     },
     "execution_count": 71,
     "metadata": {},
     "output_type": "execute_result"
    }
   ],
   "source": [
    "MSE_m = np.square(np.subtract(y_pr_m,y_m)).mean()\n",
    "MSE_m"
   ]
  },
  {
   "cell_type": "markdown",
   "id": "7352133d",
   "metadata": {},
   "source": [
    "**Ridge regression**"
   ]
  },
  {
   "cell_type": "code",
   "execution_count": 73,
   "id": "56466b79",
   "metadata": {},
   "outputs": [
    {
     "data": {
      "text/plain": [
       "0.002903839408103015"
      ]
     },
     "execution_count": 73,
     "metadata": {},
     "output_type": "execute_result"
    }
   ],
   "source": [
    "from sklearn.linear_model import Ridge\n",
    "model_ridge=Ridge().fit(x_m, y_m)\n",
    "r_sq_ridge = model_ridge.score(x_m, y_m)\n",
    "r_sq_ridge"
   ]
  },
  {
   "cell_type": "code",
   "execution_count": 74,
   "id": "e84df737",
   "metadata": {},
   "outputs": [
    {
     "data": {
      "text/plain": [
       "3208.8718962345015"
      ]
     },
     "execution_count": 74,
     "metadata": {},
     "output_type": "execute_result"
    }
   ],
   "source": [
    "y_ridge=model_ridge.predict(x_m)\n",
    "MSE_ridge = np.square(np.subtract(y_ridge,y_m)).mean()\n",
    "MSE_ridge"
   ]
  },
  {
   "cell_type": "markdown",
   "id": "3d37473d",
   "metadata": {},
   "source": [
    "**Decision Tree Regression**"
   ]
  },
  {
   "cell_type": "code",
   "execution_count": 75,
   "id": "ea01f92b",
   "metadata": {},
   "outputs": [
    {
     "data": {
      "text/plain": [
       "0.042047706059620715"
      ]
     },
     "execution_count": 75,
     "metadata": {},
     "output_type": "execute_result"
    }
   ],
   "source": [
    "from sklearn.tree import DecisionTreeRegressor\n",
    "model_tree=DecisionTreeRegressor(random_state=0).fit(x_m, y_m)\n",
    "r_sq_tree = model_tree.score(x_m, y_m)\n",
    "r_sq_tree"
   ]
  },
  {
   "cell_type": "code",
   "execution_count": 76,
   "id": "51d40d78",
   "metadata": {
    "scrolled": true
   },
   "outputs": [
    {
     "data": {
      "text/plain": [
       "3082.8984359280826"
      ]
     },
     "execution_count": 76,
     "metadata": {},
     "output_type": "execute_result"
    }
   ],
   "source": [
    "y_tree=model_tree.predict(x_m)\n",
    "MSE_tree = np.square(np.subtract(y_tree,y_m)).mean()\n",
    "MSE_tree"
   ]
  },
  {
   "cell_type": "code",
   "execution_count": null,
   "id": "7af737bf",
   "metadata": {},
   "outputs": [],
   "source": []
  },
  {
   "cell_type": "code",
   "execution_count": 77,
   "id": "4e0309c9",
   "metadata": {},
   "outputs": [
    {
     "data": {
      "text/html": [
       "<div>\n",
       "<style scoped>\n",
       "    .dataframe tbody tr th:only-of-type {\n",
       "        vertical-align: middle;\n",
       "    }\n",
       "\n",
       "    .dataframe tbody tr th {\n",
       "        vertical-align: top;\n",
       "    }\n",
       "\n",
       "    .dataframe thead th {\n",
       "        text-align: right;\n",
       "    }\n",
       "</style>\n",
       "<table border=\"1\" class=\"dataframe\">\n",
       "  <thead>\n",
       "    <tr style=\"text-align: right;\">\n",
       "      <th></th>\n",
       "      <th>Measure</th>\n",
       "      <th>Mult_Lin_Reg</th>\n",
       "      <th>Ridge_Reg</th>\n",
       "      <th>Decision_Tree</th>\n",
       "    </tr>\n",
       "  </thead>\n",
       "  <tbody>\n",
       "    <tr>\n",
       "      <th>0</th>\n",
       "      <td>R2</td>\n",
       "      <td>0.002904</td>\n",
       "      <td>0.002904</td>\n",
       "      <td>0.042048</td>\n",
       "    </tr>\n",
       "    <tr>\n",
       "      <th>1</th>\n",
       "      <td>MSE</td>\n",
       "      <td>3208.871896</td>\n",
       "      <td>3208.871896</td>\n",
       "      <td>3082.898436</td>\n",
       "    </tr>\n",
       "  </tbody>\n",
       "</table>\n",
       "</div>"
      ],
      "text/plain": [
       "  Measure  Mult_Lin_Reg    Ridge_Reg  Decision_Tree\n",
       "0      R2      0.002904     0.002904       0.042048\n",
       "1     MSE   3208.871896  3208.871896    3082.898436"
      ]
     },
     "execution_count": 77,
     "metadata": {},
     "output_type": "execute_result"
    }
   ],
   "source": [
    "measure_eval = pd.DataFrame({'Measure': ['R2', 'MSE'],                              \n",
    "                             'Mult_Lin_Reg':[r_sq_m,MSE_m],\n",
    "                             'Ridge_Reg': [r_sq_ridge,MSE_ridge], \n",
    "                             'Decision_Tree': [r_sq_tree,MSE_tree]\n",
    "                            })\n",
    "measure_eval"
   ]
  },
  {
   "cell_type": "code",
   "execution_count": null,
   "id": "e1edc837",
   "metadata": {},
   "outputs": [],
   "source": []
  }
 ],
 "metadata": {
  "kernelspec": {
   "display_name": "Python 3",
   "language": "python",
   "name": "python3"
  },
  "language_info": {
   "codemirror_mode": {
    "name": "ipython",
    "version": 3
   },
   "file_extension": ".py",
   "mimetype": "text/x-python",
   "name": "python",
   "nbconvert_exporter": "python",
   "pygments_lexer": "ipython3",
   "version": "3.9.2"
  }
 },
 "nbformat": 4,
 "nbformat_minor": 5
}
