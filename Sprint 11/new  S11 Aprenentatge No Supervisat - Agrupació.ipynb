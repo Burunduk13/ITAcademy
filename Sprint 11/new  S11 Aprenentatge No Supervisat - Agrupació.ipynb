{
 "cells": [
  {
   "cell_type": "markdown",
   "id": "10d7524e",
   "metadata": {},
   "source": [
    "# Nivell 1\n",
    "\n",
    "- Exercici 1\n",
    "\n",
    "Classifica els diferents vols utilitzant l'algorisme de K-means."
   ]
  },
  {
   "cell_type": "code",
   "execution_count": 26,
   "id": "c7883f38",
   "metadata": {},
   "outputs": [],
   "source": [
    "import numpy as np\n",
    "import pandas as pd\n",
    "import matplotlib.pyplot as plt\n",
    "import seaborn as sns\n",
    "from sklearn.cluster import KMeans\n",
    "from sklearn.decomposition import PCA\n",
    "from sklearn import preprocessing\n",
    "from sklearn.preprocessing import StandardScaler\n",
    "from kneed import KneeLocator\n",
    "from sklearn.metrics import silhouette_score"
   ]
  },
  {
   "cell_type": "code",
   "execution_count": 2,
   "id": "1c05e588",
   "metadata": {},
   "outputs": [
    {
     "data": {
      "text/html": [
       "<div>\n",
       "<style scoped>\n",
       "    .dataframe tbody tr th:only-of-type {\n",
       "        vertical-align: middle;\n",
       "    }\n",
       "\n",
       "    .dataframe tbody tr th {\n",
       "        vertical-align: top;\n",
       "    }\n",
       "\n",
       "    .dataframe thead th {\n",
       "        text-align: right;\n",
       "    }\n",
       "</style>\n",
       "<table border=\"1\" class=\"dataframe\">\n",
       "  <thead>\n",
       "    <tr style=\"text-align: right;\">\n",
       "      <th></th>\n",
       "      <th>Year</th>\n",
       "      <th>Month</th>\n",
       "      <th>DayofMonth</th>\n",
       "      <th>DayOfWeek</th>\n",
       "      <th>DepTime</th>\n",
       "      <th>CRSDepTime</th>\n",
       "      <th>ArrTime</th>\n",
       "      <th>CRSArrTime</th>\n",
       "      <th>UniqueCarrier</th>\n",
       "      <th>FlightNum</th>\n",
       "      <th>...</th>\n",
       "      <th>TaxiIn</th>\n",
       "      <th>TaxiOut</th>\n",
       "      <th>Cancelled</th>\n",
       "      <th>CancellationCode</th>\n",
       "      <th>Diverted</th>\n",
       "      <th>CarrierDelay</th>\n",
       "      <th>WeatherDelay</th>\n",
       "      <th>NASDelay</th>\n",
       "      <th>SecurityDelay</th>\n",
       "      <th>LateAircraftDelay</th>\n",
       "    </tr>\n",
       "  </thead>\n",
       "  <tbody>\n",
       "    <tr>\n",
       "      <th>0</th>\n",
       "      <td>2008</td>\n",
       "      <td>1</td>\n",
       "      <td>3</td>\n",
       "      <td>4</td>\n",
       "      <td>2003.0</td>\n",
       "      <td>1955</td>\n",
       "      <td>2211.0</td>\n",
       "      <td>2225</td>\n",
       "      <td>WN</td>\n",
       "      <td>335</td>\n",
       "      <td>...</td>\n",
       "      <td>4.0</td>\n",
       "      <td>8.0</td>\n",
       "      <td>0</td>\n",
       "      <td>N</td>\n",
       "      <td>0</td>\n",
       "      <td>NaN</td>\n",
       "      <td>NaN</td>\n",
       "      <td>NaN</td>\n",
       "      <td>NaN</td>\n",
       "      <td>NaN</td>\n",
       "    </tr>\n",
       "    <tr>\n",
       "      <th>1</th>\n",
       "      <td>2008</td>\n",
       "      <td>1</td>\n",
       "      <td>3</td>\n",
       "      <td>4</td>\n",
       "      <td>754.0</td>\n",
       "      <td>735</td>\n",
       "      <td>1002.0</td>\n",
       "      <td>1000</td>\n",
       "      <td>WN</td>\n",
       "      <td>3231</td>\n",
       "      <td>...</td>\n",
       "      <td>5.0</td>\n",
       "      <td>10.0</td>\n",
       "      <td>0</td>\n",
       "      <td>N</td>\n",
       "      <td>0</td>\n",
       "      <td>NaN</td>\n",
       "      <td>NaN</td>\n",
       "      <td>NaN</td>\n",
       "      <td>NaN</td>\n",
       "      <td>NaN</td>\n",
       "    </tr>\n",
       "    <tr>\n",
       "      <th>2</th>\n",
       "      <td>2008</td>\n",
       "      <td>1</td>\n",
       "      <td>3</td>\n",
       "      <td>4</td>\n",
       "      <td>628.0</td>\n",
       "      <td>620</td>\n",
       "      <td>804.0</td>\n",
       "      <td>750</td>\n",
       "      <td>WN</td>\n",
       "      <td>448</td>\n",
       "      <td>...</td>\n",
       "      <td>3.0</td>\n",
       "      <td>17.0</td>\n",
       "      <td>0</td>\n",
       "      <td>N</td>\n",
       "      <td>0</td>\n",
       "      <td>NaN</td>\n",
       "      <td>NaN</td>\n",
       "      <td>NaN</td>\n",
       "      <td>NaN</td>\n",
       "      <td>NaN</td>\n",
       "    </tr>\n",
       "    <tr>\n",
       "      <th>3</th>\n",
       "      <td>2008</td>\n",
       "      <td>1</td>\n",
       "      <td>3</td>\n",
       "      <td>4</td>\n",
       "      <td>1829.0</td>\n",
       "      <td>1755</td>\n",
       "      <td>1959.0</td>\n",
       "      <td>1925</td>\n",
       "      <td>WN</td>\n",
       "      <td>3920</td>\n",
       "      <td>...</td>\n",
       "      <td>3.0</td>\n",
       "      <td>10.0</td>\n",
       "      <td>0</td>\n",
       "      <td>N</td>\n",
       "      <td>0</td>\n",
       "      <td>2.0</td>\n",
       "      <td>0.0</td>\n",
       "      <td>0.0</td>\n",
       "      <td>0.0</td>\n",
       "      <td>32.0</td>\n",
       "    </tr>\n",
       "    <tr>\n",
       "      <th>4</th>\n",
       "      <td>2008</td>\n",
       "      <td>1</td>\n",
       "      <td>3</td>\n",
       "      <td>4</td>\n",
       "      <td>1940.0</td>\n",
       "      <td>1915</td>\n",
       "      <td>2121.0</td>\n",
       "      <td>2110</td>\n",
       "      <td>WN</td>\n",
       "      <td>378</td>\n",
       "      <td>...</td>\n",
       "      <td>4.0</td>\n",
       "      <td>10.0</td>\n",
       "      <td>0</td>\n",
       "      <td>N</td>\n",
       "      <td>0</td>\n",
       "      <td>NaN</td>\n",
       "      <td>NaN</td>\n",
       "      <td>NaN</td>\n",
       "      <td>NaN</td>\n",
       "      <td>NaN</td>\n",
       "    </tr>\n",
       "  </tbody>\n",
       "</table>\n",
       "<p>5 rows × 29 columns</p>\n",
       "</div>"
      ],
      "text/plain": [
       "   Year  Month  DayofMonth  DayOfWeek  DepTime  CRSDepTime  ArrTime  \\\n",
       "0  2008      1           3          4   2003.0        1955   2211.0   \n",
       "1  2008      1           3          4    754.0         735   1002.0   \n",
       "2  2008      1           3          4    628.0         620    804.0   \n",
       "3  2008      1           3          4   1829.0        1755   1959.0   \n",
       "4  2008      1           3          4   1940.0        1915   2121.0   \n",
       "\n",
       "   CRSArrTime UniqueCarrier  FlightNum  ... TaxiIn  TaxiOut  Cancelled  \\\n",
       "0        2225            WN        335  ...    4.0      8.0          0   \n",
       "1        1000            WN       3231  ...    5.0     10.0          0   \n",
       "2         750            WN        448  ...    3.0     17.0          0   \n",
       "3        1925            WN       3920  ...    3.0     10.0          0   \n",
       "4        2110            WN        378  ...    4.0     10.0          0   \n",
       "\n",
       "   CancellationCode  Diverted  CarrierDelay WeatherDelay NASDelay  \\\n",
       "0                 N         0           NaN          NaN      NaN   \n",
       "1                 N         0           NaN          NaN      NaN   \n",
       "2                 N         0           NaN          NaN      NaN   \n",
       "3                 N         0           2.0          0.0      0.0   \n",
       "4                 N         0           NaN          NaN      NaN   \n",
       "\n",
       "   SecurityDelay  LateAircraftDelay  \n",
       "0            NaN                NaN  \n",
       "1            NaN                NaN  \n",
       "2            NaN                NaN  \n",
       "3            0.0               32.0  \n",
       "4            NaN                NaN  \n",
       "\n",
       "[5 rows x 29 columns]"
      ]
     },
     "execution_count": 2,
     "metadata": {},
     "output_type": "execute_result"
    }
   ],
   "source": [
    "# Load the dataframe\n",
    "df=pd.read_csv (\"data/DelayedFlights.csv\")\n",
    "#Remove the column ' Unnamed: 0'\n",
    "df.drop('Unnamed: 0', axis=1, inplace=True)\n",
    "# fill 0 if we don´t have data\n",
    "df[['DepDelay',\"ArrDelay\"]]=df[['DepDelay',\"ArrDelay\"]].fillna(0)\n",
    "df.head()"
   ]
  },
  {
   "cell_type": "code",
   "execution_count": 3,
   "id": "138d975e",
   "metadata": {},
   "outputs": [
    {
     "data": {
      "text/plain": [
       "array([0, 1], dtype=int64)"
      ]
     },
     "execution_count": 3,
     "metadata": {},
     "output_type": "execute_result"
    }
   ],
   "source": [
    "df[\"newArrDelay\"]=df[\"ArrDelay\"].apply(lambda x: 0 if x<1 else 1)\n",
    "df[\"newArrDelay\"].unique()"
   ]
  },
  {
   "cell_type": "code",
   "execution_count": 4,
   "id": "799968f0",
   "metadata": {
    "scrolled": true
   },
   "outputs": [
    {
     "data": {
      "text/html": [
       "<div>\n",
       "<style scoped>\n",
       "    .dataframe tbody tr th:only-of-type {\n",
       "        vertical-align: middle;\n",
       "    }\n",
       "\n",
       "    .dataframe tbody tr th {\n",
       "        vertical-align: top;\n",
       "    }\n",
       "\n",
       "    .dataframe thead th {\n",
       "        text-align: right;\n",
       "    }\n",
       "</style>\n",
       "<table border=\"1\" class=\"dataframe\">\n",
       "  <thead>\n",
       "    <tr style=\"text-align: right;\">\n",
       "      <th></th>\n",
       "      <th>Year</th>\n",
       "      <th>Month</th>\n",
       "      <th>DayofMonth</th>\n",
       "      <th>DayOfWeek</th>\n",
       "      <th>DepTime</th>\n",
       "      <th>CRSDepTime</th>\n",
       "      <th>ArrTime</th>\n",
       "      <th>CRSArrTime</th>\n",
       "      <th>UniqueCarrier</th>\n",
       "      <th>FlightNum</th>\n",
       "      <th>...</th>\n",
       "      <th>TaxiOut</th>\n",
       "      <th>Cancelled</th>\n",
       "      <th>CancellationCode</th>\n",
       "      <th>Diverted</th>\n",
       "      <th>CarrierDelay</th>\n",
       "      <th>WeatherDelay</th>\n",
       "      <th>NASDelay</th>\n",
       "      <th>SecurityDelay</th>\n",
       "      <th>LateAircraftDelay</th>\n",
       "      <th>newArrDelay</th>\n",
       "    </tr>\n",
       "  </thead>\n",
       "  <tbody>\n",
       "    <tr>\n",
       "      <th>0</th>\n",
       "      <td>2008</td>\n",
       "      <td>1</td>\n",
       "      <td>3</td>\n",
       "      <td>4</td>\n",
       "      <td>2003.0</td>\n",
       "      <td>1955</td>\n",
       "      <td>2211.0</td>\n",
       "      <td>2225</td>\n",
       "      <td>17</td>\n",
       "      <td>335</td>\n",
       "      <td>...</td>\n",
       "      <td>8.0</td>\n",
       "      <td>0</td>\n",
       "      <td>N</td>\n",
       "      <td>0</td>\n",
       "      <td>NaN</td>\n",
       "      <td>NaN</td>\n",
       "      <td>NaN</td>\n",
       "      <td>NaN</td>\n",
       "      <td>NaN</td>\n",
       "      <td>0</td>\n",
       "    </tr>\n",
       "    <tr>\n",
       "      <th>1</th>\n",
       "      <td>2008</td>\n",
       "      <td>1</td>\n",
       "      <td>3</td>\n",
       "      <td>4</td>\n",
       "      <td>754.0</td>\n",
       "      <td>735</td>\n",
       "      <td>1002.0</td>\n",
       "      <td>1000</td>\n",
       "      <td>17</td>\n",
       "      <td>3231</td>\n",
       "      <td>...</td>\n",
       "      <td>10.0</td>\n",
       "      <td>0</td>\n",
       "      <td>N</td>\n",
       "      <td>0</td>\n",
       "      <td>NaN</td>\n",
       "      <td>NaN</td>\n",
       "      <td>NaN</td>\n",
       "      <td>NaN</td>\n",
       "      <td>NaN</td>\n",
       "      <td>1</td>\n",
       "    </tr>\n",
       "    <tr>\n",
       "      <th>2</th>\n",
       "      <td>2008</td>\n",
       "      <td>1</td>\n",
       "      <td>3</td>\n",
       "      <td>4</td>\n",
       "      <td>628.0</td>\n",
       "      <td>620</td>\n",
       "      <td>804.0</td>\n",
       "      <td>750</td>\n",
       "      <td>17</td>\n",
       "      <td>448</td>\n",
       "      <td>...</td>\n",
       "      <td>17.0</td>\n",
       "      <td>0</td>\n",
       "      <td>N</td>\n",
       "      <td>0</td>\n",
       "      <td>NaN</td>\n",
       "      <td>NaN</td>\n",
       "      <td>NaN</td>\n",
       "      <td>NaN</td>\n",
       "      <td>NaN</td>\n",
       "      <td>1</td>\n",
       "    </tr>\n",
       "    <tr>\n",
       "      <th>3</th>\n",
       "      <td>2008</td>\n",
       "      <td>1</td>\n",
       "      <td>3</td>\n",
       "      <td>4</td>\n",
       "      <td>1829.0</td>\n",
       "      <td>1755</td>\n",
       "      <td>1959.0</td>\n",
       "      <td>1925</td>\n",
       "      <td>17</td>\n",
       "      <td>3920</td>\n",
       "      <td>...</td>\n",
       "      <td>10.0</td>\n",
       "      <td>0</td>\n",
       "      <td>N</td>\n",
       "      <td>0</td>\n",
       "      <td>2.0</td>\n",
       "      <td>0.0</td>\n",
       "      <td>0.0</td>\n",
       "      <td>0.0</td>\n",
       "      <td>32.0</td>\n",
       "      <td>1</td>\n",
       "    </tr>\n",
       "    <tr>\n",
       "      <th>4</th>\n",
       "      <td>2008</td>\n",
       "      <td>1</td>\n",
       "      <td>3</td>\n",
       "      <td>4</td>\n",
       "      <td>1940.0</td>\n",
       "      <td>1915</td>\n",
       "      <td>2121.0</td>\n",
       "      <td>2110</td>\n",
       "      <td>17</td>\n",
       "      <td>378</td>\n",
       "      <td>...</td>\n",
       "      <td>10.0</td>\n",
       "      <td>0</td>\n",
       "      <td>N</td>\n",
       "      <td>0</td>\n",
       "      <td>NaN</td>\n",
       "      <td>NaN</td>\n",
       "      <td>NaN</td>\n",
       "      <td>NaN</td>\n",
       "      <td>NaN</td>\n",
       "      <td>1</td>\n",
       "    </tr>\n",
       "  </tbody>\n",
       "</table>\n",
       "<p>5 rows × 30 columns</p>\n",
       "</div>"
      ],
      "text/plain": [
       "   Year  Month  DayofMonth  DayOfWeek  DepTime  CRSDepTime  ArrTime  \\\n",
       "0  2008      1           3          4   2003.0        1955   2211.0   \n",
       "1  2008      1           3          4    754.0         735   1002.0   \n",
       "2  2008      1           3          4    628.0         620    804.0   \n",
       "3  2008      1           3          4   1829.0        1755   1959.0   \n",
       "4  2008      1           3          4   1940.0        1915   2121.0   \n",
       "\n",
       "   CRSArrTime  UniqueCarrier  FlightNum  ... TaxiOut  Cancelled  \\\n",
       "0        2225             17        335  ...     8.0          0   \n",
       "1        1000             17       3231  ...    10.0          0   \n",
       "2         750             17        448  ...    17.0          0   \n",
       "3        1925             17       3920  ...    10.0          0   \n",
       "4        2110             17        378  ...    10.0          0   \n",
       "\n",
       "   CancellationCode  Diverted  CarrierDelay  WeatherDelay  NASDelay  \\\n",
       "0                 N         0           NaN           NaN       NaN   \n",
       "1                 N         0           NaN           NaN       NaN   \n",
       "2                 N         0           NaN           NaN       NaN   \n",
       "3                 N         0           2.0           0.0       0.0   \n",
       "4                 N         0           NaN           NaN       NaN   \n",
       "\n",
       "   SecurityDelay  LateAircraftDelay  newArrDelay  \n",
       "0            NaN                NaN            0  \n",
       "1            NaN                NaN            1  \n",
       "2            NaN                NaN            1  \n",
       "3            0.0               32.0            1  \n",
       "4            NaN                NaN            1  \n",
       "\n",
       "[5 rows x 30 columns]"
      ]
     },
     "execution_count": 4,
     "metadata": {},
     "output_type": "execute_result"
    }
   ],
   "source": [
    "#Data Transforming\n",
    "le = preprocessing.LabelEncoder()\n",
    "\n",
    "for col in df[['UniqueCarrier','Origin', 'Dest']]:\n",
    "    df[col] = le.fit_transform(df[col])\n",
    "df.head()"
   ]
  },
  {
   "cell_type": "code",
   "execution_count": 5,
   "id": "eaaf124f",
   "metadata": {
    "scrolled": false
   },
   "outputs": [
    {
     "data": {
      "text/html": [
       "<div>\n",
       "<style scoped>\n",
       "    .dataframe tbody tr th:only-of-type {\n",
       "        vertical-align: middle;\n",
       "    }\n",
       "\n",
       "    .dataframe tbody tr th {\n",
       "        vertical-align: top;\n",
       "    }\n",
       "\n",
       "    .dataframe thead th {\n",
       "        text-align: right;\n",
       "    }\n",
       "</style>\n",
       "<table border=\"1\" class=\"dataframe\">\n",
       "  <thead>\n",
       "    <tr style=\"text-align: right;\">\n",
       "      <th></th>\n",
       "      <th>Month</th>\n",
       "      <th>DayofMonth</th>\n",
       "      <th>DayOfWeek</th>\n",
       "      <th>DepDelay</th>\n",
       "      <th>ArrDelay</th>\n",
       "      <th>ArrTime</th>\n",
       "      <th>DepTime</th>\n",
       "      <th>Distance</th>\n",
       "      <th>UniqueCarrier</th>\n",
       "      <th>Origin</th>\n",
       "      <th>Dest</th>\n",
       "    </tr>\n",
       "  </thead>\n",
       "  <tbody>\n",
       "    <tr>\n",
       "      <th>0</th>\n",
       "      <td>11</td>\n",
       "      <td>1</td>\n",
       "      <td>6</td>\n",
       "      <td>80.0</td>\n",
       "      <td>74.0</td>\n",
       "      <td>1724.0</td>\n",
       "      <td>1606.0</td>\n",
       "      <td>334</td>\n",
       "      <td>15</td>\n",
       "      <td>199</td>\n",
       "      <td>212</td>\n",
       "    </tr>\n",
       "    <tr>\n",
       "      <th>1</th>\n",
       "      <td>6</td>\n",
       "      <td>6</td>\n",
       "      <td>5</td>\n",
       "      <td>98.0</td>\n",
       "      <td>93.0</td>\n",
       "      <td>1055.0</td>\n",
       "      <td>918.0</td>\n",
       "      <td>515</td>\n",
       "      <td>6</td>\n",
       "      <td>248</td>\n",
       "      <td>18</td>\n",
       "    </tr>\n",
       "    <tr>\n",
       "      <th>2</th>\n",
       "      <td>8</td>\n",
       "      <td>11</td>\n",
       "      <td>1</td>\n",
       "      <td>59.0</td>\n",
       "      <td>27.0</td>\n",
       "      <td>2034.0</td>\n",
       "      <td>1858.0</td>\n",
       "      <td>501</td>\n",
       "      <td>12</td>\n",
       "      <td>162</td>\n",
       "      <td>88</td>\n",
       "    </tr>\n",
       "    <tr>\n",
       "      <th>3</th>\n",
       "      <td>4</td>\n",
       "      <td>2</td>\n",
       "      <td>3</td>\n",
       "      <td>15.0</td>\n",
       "      <td>45.0</td>\n",
       "      <td>2108.0</td>\n",
       "      <td>1650.0</td>\n",
       "      <td>2421</td>\n",
       "      <td>6</td>\n",
       "      <td>150</td>\n",
       "      <td>259</td>\n",
       "    </tr>\n",
       "    <tr>\n",
       "      <th>4</th>\n",
       "      <td>3</td>\n",
       "      <td>9</td>\n",
       "      <td>7</td>\n",
       "      <td>108.0</td>\n",
       "      <td>94.0</td>\n",
       "      <td>2056.0</td>\n",
       "      <td>1748.0</td>\n",
       "      <td>874</td>\n",
       "      <td>6</td>\n",
       "      <td>250</td>\n",
       "      <td>18</td>\n",
       "    </tr>\n",
       "  </tbody>\n",
       "</table>\n",
       "</div>"
      ],
      "text/plain": [
       "   Month  DayofMonth  DayOfWeek  DepDelay  ArrDelay  ArrTime  DepTime  \\\n",
       "0     11           1          6      80.0      74.0   1724.0   1606.0   \n",
       "1      6           6          5      98.0      93.0   1055.0    918.0   \n",
       "2      8          11          1      59.0      27.0   2034.0   1858.0   \n",
       "3      4           2          3      15.0      45.0   2108.0   1650.0   \n",
       "4      3           9          7     108.0      94.0   2056.0   1748.0   \n",
       "\n",
       "   Distance  UniqueCarrier  Origin  Dest  \n",
       "0       334             15     199   212  \n",
       "1       515              6     248    18  \n",
       "2       501             12     162    88  \n",
       "3      2421              6     150   259  \n",
       "4       874              6     250    18  "
      ]
     },
     "execution_count": 5,
     "metadata": {},
     "output_type": "execute_result"
    }
   ],
   "source": [
    "df=df[['Month', 'DayofMonth', 'DayOfWeek','DepDelay','ArrDelay','ArrTime','DepTime','Distance','UniqueCarrier','Origin', 'Dest']]\n",
    "df.dropna(inplace=True)\n",
    "df_sample = df.sample(1000).reset_index(drop=True)\n",
    "df_sample.head()"
   ]
  },
  {
   "cell_type": "code",
   "execution_count": 6,
   "id": "eb174aea",
   "metadata": {},
   "outputs": [],
   "source": [
    "scaler = StandardScaler()\n",
    "scaled_features = scaler.fit_transform(df_sample)"
   ]
  },
  {
   "cell_type": "code",
   "execution_count": 7,
   "id": "aa43be4f",
   "metadata": {},
   "outputs": [],
   "source": [
    "kmeans = KMeans(\n",
    "       init=\"random\",\n",
    "        n_clusters=3,\n",
    "        n_init=10,\n",
    "        max_iter=300,\n",
    "        random_state=42)"
   ]
  },
  {
   "cell_type": "code",
   "execution_count": 8,
   "id": "9a28b4da",
   "metadata": {},
   "outputs": [
    {
     "data": {
      "text/plain": [
       "KMeans(init='random', n_clusters=3, random_state=42)"
      ]
     },
     "execution_count": 8,
     "metadata": {},
     "output_type": "execute_result"
    }
   ],
   "source": [
    "kmeans.fit(scaled_features)"
   ]
  },
  {
   "cell_type": "code",
   "execution_count": 9,
   "id": "5111357d",
   "metadata": {},
   "outputs": [
    {
     "data": {
      "text/plain": [
       "8985.158361019528"
      ]
     },
     "execution_count": 9,
     "metadata": {},
     "output_type": "execute_result"
    }
   ],
   "source": [
    "kmeans.inertia_"
   ]
  },
  {
   "cell_type": "code",
   "execution_count": 10,
   "id": "372d5bea",
   "metadata": {},
   "outputs": [
    {
     "data": {
      "text/plain": [
       "array([[ 0.3137564 ,  0.09841129, -0.07366354,  2.31089518,  2.24052394,\n",
       "        -0.84840639,  0.45748384,  0.08772146, -0.13727732,  0.20461523,\n",
       "        -0.08075965],\n",
       "       [ 0.02378495,  0.033324  , -0.05850443, -0.25643205, -0.25355531,\n",
       "        -0.63838769, -0.83321762,  0.20769869, -0.01919243,  0.2168945 ,\n",
       "         0.0651095 ],\n",
       "       [-0.07229765, -0.0451233 ,  0.06290272, -0.15789842, -0.1488096 ,\n",
       "         0.69372452,  0.6478206 , -0.19470077,  0.03925738, -0.2219264 ,\n",
       "        -0.04321184]])"
      ]
     },
     "execution_count": 10,
     "metadata": {},
     "output_type": "execute_result"
    }
   ],
   "source": [
    "kmeans.cluster_centers_"
   ]
  },
  {
   "cell_type": "code",
   "execution_count": 11,
   "id": "f9414633",
   "metadata": {},
   "outputs": [
    {
     "data": {
      "text/plain": [
       "17"
      ]
     },
     "execution_count": 11,
     "metadata": {},
     "output_type": "execute_result"
    }
   ],
   "source": [
    "kmeans.n_iter_"
   ]
  },
  {
   "cell_type": "code",
   "execution_count": 12,
   "id": "b326b8eb",
   "metadata": {},
   "outputs": [
    {
     "data": {
      "text/plain": [
       "array([2, 1, 2, 2, 2, 2, 1, 2, 2, 1, 1, 1, 1, 2, 1, 2, 2, 2, 1, 1, 1, 1,\n",
       "       2, 2, 1, 1, 1, 2, 2, 1, 2, 2, 1, 1, 1, 0, 1, 2, 2, 1, 0, 1, 0, 1,\n",
       "       0, 2, 2, 2, 1, 2, 1, 0, 2, 1, 1, 1, 2, 2, 1, 1, 2, 1, 1, 1, 1, 1,\n",
       "       1, 2, 2, 2, 2, 2, 1, 2, 0, 2, 1, 2, 2, 2, 1, 1, 1, 2, 1, 2, 1, 1,\n",
       "       1, 0, 0, 2, 2, 2, 2, 2, 2, 2, 1, 0, 2, 2, 1, 0, 2, 0, 1, 2, 1, 1,\n",
       "       2, 2, 1, 2, 1, 1, 2, 1, 0, 0, 2, 2, 2, 2, 1, 2, 1, 2, 0, 1, 2, 1,\n",
       "       1, 1, 2, 2, 2, 1, 2, 0, 0, 1, 1, 2, 0, 1, 1, 1, 0, 1, 2, 2, 1, 1,\n",
       "       0, 2, 2, 2, 2, 2, 2, 1, 2, 1, 2, 2, 0, 2, 1, 1, 2, 2, 2, 1, 2, 1,\n",
       "       1, 1, 2, 1, 2, 2, 2, 1, 2, 1, 1, 1, 0, 1, 2, 0, 1, 2, 1, 1, 0, 1,\n",
       "       2, 1, 1, 2, 1, 0, 0, 1, 2, 1, 2, 0, 1, 1, 1, 1, 2, 1, 1, 2, 1, 2,\n",
       "       2, 1, 2, 1, 1, 0, 1, 2, 1, 2, 1, 0, 1, 1, 1, 1, 2, 1, 1, 2, 1, 2,\n",
       "       2, 0, 1, 1, 1, 1, 0, 0, 2, 1, 1, 2, 2, 2, 2, 2, 2, 1, 2, 0, 1, 2,\n",
       "       0, 2, 2, 2, 1, 2, 1, 2, 1, 2, 1, 1, 0, 1, 0, 2, 2, 1, 2, 1, 2, 0,\n",
       "       1, 1, 0, 2, 1, 1, 2, 1, 2, 1, 1, 1, 2, 1, 1, 2, 2, 1, 2, 2, 2, 2,\n",
       "       0, 1, 1, 1, 2, 1, 2, 1, 2, 1, 2, 1, 2, 1, 1, 1, 2, 2, 2, 1, 2, 1,\n",
       "       1, 2, 2, 1, 1, 2, 1, 1, 1, 2, 1, 1, 2, 2, 1, 2, 0, 2, 2, 1, 1, 1,\n",
       "       2, 1, 2, 2, 2, 2, 1, 2, 2, 0, 2, 1, 0, 1, 0, 1, 2, 0, 2, 2, 1, 2,\n",
       "       2, 2, 2, 1, 2, 1, 2, 2, 1, 1, 2, 2, 2, 2, 2, 1, 1, 2, 2, 2, 2, 1,\n",
       "       2, 2, 1, 2, 1, 2, 1, 2, 0, 2, 2, 1, 1, 0, 2, 2, 1, 2, 2, 2, 2, 1,\n",
       "       2, 2, 2, 2, 1, 2, 2, 2, 2, 1, 1, 1, 2, 2, 2, 2, 1, 2, 2, 1, 2, 1,\n",
       "       1, 1, 2, 2, 1, 2, 2, 2, 2, 2, 1, 2, 1, 2, 0, 0, 2, 1, 1, 2, 0, 1,\n",
       "       1, 1, 2, 1, 2, 2, 1, 1, 1, 2, 2, 2, 1, 2, 2, 2, 2, 2, 2, 1, 1, 1,\n",
       "       1, 1, 1, 2, 2, 2, 2, 2, 2, 2, 1, 1, 1, 2, 1, 1, 2, 2, 2, 2, 1, 1,\n",
       "       1, 2, 2, 1, 1, 2, 2, 2, 1, 2, 0, 2, 2, 2, 2, 2, 2, 2, 2, 2, 1, 2,\n",
       "       2, 2, 1, 1, 2, 1, 1, 1, 2, 2, 2, 1, 2, 1, 2, 0, 1, 1, 1, 1, 2, 2,\n",
       "       1, 1, 2, 1, 1, 2, 1, 0, 2, 1, 1, 2, 2, 1, 1, 2, 2, 1, 2, 2, 2, 1,\n",
       "       1, 2, 2, 1, 1, 2, 2, 2, 2, 2, 2, 2, 1, 1, 2, 0, 1, 1, 1, 2, 2, 2,\n",
       "       2, 1, 1, 1, 1, 0, 1, 1, 1, 2, 2, 1, 2, 2, 1, 2, 2, 0, 1, 1, 0, 2,\n",
       "       1, 2, 2, 1, 2, 2, 1, 2, 2, 0, 2, 2, 1, 2, 2, 1, 1, 2, 2, 1, 2, 1,\n",
       "       1, 1, 2, 2, 2, 2, 0, 2, 1, 0, 2, 2, 1, 1, 0, 2, 2, 1, 1, 1, 2, 2,\n",
       "       1, 2, 0, 1, 1, 2, 1, 1, 2, 1, 2, 1, 1, 2, 1, 2, 1, 2, 1, 2, 1, 2,\n",
       "       1, 1, 1, 1, 2, 1, 1, 2, 2, 2, 0, 1, 1, 1, 1, 2, 1, 1, 2, 2, 2, 2,\n",
       "       2, 2, 2, 2, 1, 1, 2, 2, 1, 1, 1, 1, 0, 2, 2, 2, 2, 2, 2, 2, 2, 2,\n",
       "       2, 2, 1, 1, 2, 1, 1, 2, 2, 0, 2, 0, 1, 1, 2, 2, 1, 2, 1, 1, 2, 2,\n",
       "       1, 2, 2, 2, 1, 2, 1, 2, 2, 1, 1, 1, 2, 2, 2, 2, 1, 0, 2, 1, 1, 2,\n",
       "       2, 2, 2, 1, 1, 1, 1, 2, 2, 2, 1, 1, 1, 1, 1, 2, 2, 1, 1, 1, 1, 2,\n",
       "       2, 2, 2, 0, 0, 2, 1, 2, 2, 2, 2, 2, 1, 1, 2, 1, 1, 1, 2, 1, 2, 1,\n",
       "       2, 1, 1, 1, 1, 2, 1, 2, 1, 2, 0, 2, 1, 1, 2, 2, 2, 1, 1, 2, 2, 2,\n",
       "       1, 2, 1, 2, 2, 0, 2, 1, 2, 2, 2, 2, 2, 0, 2, 1, 2, 2, 1, 1, 2, 0,\n",
       "       1, 0, 1, 1, 1, 1, 2, 1, 2, 2, 2, 2, 2, 1, 1, 1, 2, 2, 1, 2, 2, 2,\n",
       "       2, 2, 2, 2, 2, 1, 1, 1, 1, 0, 1, 2, 1, 2, 2, 1, 0, 1, 2, 0, 1, 2,\n",
       "       2, 1, 2, 1, 1, 1, 2, 1, 2, 1, 2, 0, 1, 2, 2, 1, 2, 1, 1, 1, 2, 2,\n",
       "       1, 2, 1, 2, 1, 2, 2, 1, 2, 1, 1, 2, 1, 2, 2, 2, 2, 2, 2, 1, 0, 1,\n",
       "       2, 1, 2, 1, 2, 2, 2, 1, 2, 2, 2, 0, 0, 2, 1, 1, 1, 1, 2, 2, 2, 1,\n",
       "       2, 1, 2, 1, 2, 2, 2, 2, 1, 0, 1, 1, 1, 2, 2, 1, 2, 2, 1, 1, 1, 0,\n",
       "       2, 2, 1, 2, 2, 1, 1, 1, 1, 1])"
      ]
     },
     "execution_count": 12,
     "metadata": {},
     "output_type": "execute_result"
    }
   ],
   "source": [
    " kmeans.labels_"
   ]
  },
  {
   "cell_type": "code",
   "execution_count": 13,
   "id": "e38c4a39",
   "metadata": {},
   "outputs": [],
   "source": [
    "kmeans_kwargs = {\n",
    "      \"init\": \"random\",\n",
    "       \"n_init\": 10,\n",
    "        \"max_iter\": 300,\n",
    "        \"random_state\": 42,\n",
    "    }\n",
    "   \n",
    "    # A list holds the SSE values for each k\n",
    "sse = []\n",
    "for k in range(1, 11):\n",
    "        kmeans = KMeans(n_clusters=k, **kmeans_kwargs)\n",
    "        kmeans.fit(scaled_features)\n",
    "        sse.append(kmeans.inertia_)"
   ]
  },
  {
   "cell_type": "code",
   "execution_count": 14,
   "id": "3d35b4f9",
   "metadata": {
    "scrolled": true
   },
   "outputs": [
    {
     "data": {
      "image/png": "[encoded data removed]",
      "text/plain": [
       "<Figure size 432x288 with 1 Axes>"
      ]
     },
     "metadata": {},
     "output_type": "display_data"
    }
   ],
   "source": [
    "plt.style.use(\"fivethirtyeight\")\n",
    "plt.plot(range(1, 11), sse)\n",
    "plt.xticks(range(1, 11))\n",
    "plt.xlabel(\"Number of Clusters\")\n",
    "plt.ylabel(\"SSE\")\n",
    "plt.show()"
   ]
  },
  {
   "cell_type": "code",
   "execution_count": 15,
   "id": "4ea53f7f",
   "metadata": {},
   "outputs": [
    {
     "data": {
      "text/plain": [
       "4"
      ]
     },
     "execution_count": 15,
     "metadata": {},
     "output_type": "execute_result"
    }
   ],
   "source": [
    "kl = KneeLocator(range(1, 11), sse, curve=\"convex\", direction=\"decreasing\")\n",
    "kl.elbow"
   ]
  },
  {
   "cell_type": "code",
   "execution_count": null,
   "id": "7f7be8a4",
   "metadata": {},
   "outputs": [],
   "source": []
  },
  {
   "cell_type": "markdown",
   "id": "f31b1c64",
   "metadata": {},
   "source": [
    "**Clustering - Kmeans**"
   ]
  },
  {
   "cell_type": "code",
   "execution_count": 16,
   "id": "cc62eaac",
   "metadata": {
    "scrolled": true
   },
   "outputs": [
    {
     "data": {
      "image/png": "[encoded data removed]",
      "text/plain": [
       "<Figure size 432x288 with 1 Axes>"
      ]
     },
     "metadata": {},
     "output_type": "display_data"
    }
   ],
   "source": [
    "#Encontrando el numero optimo de agrupamientos ( clusters)\n",
    "\n",
    "ks= range (2,7)\n",
    "inertias= []\n",
    "\n",
    "for k in ks:\n",
    "    model= KMeans(n_clusters=k)\n",
    "    model.fit(scaled_features)\n",
    "    inertias.append(model.inertia_)\n",
    "    \n",
    "    \n",
    "plt.plot(ks, inertias, '-o', color='green')\n",
    "plt.xlabel('number of clusters')\n",
    "plt.ylabel('inertia')\n",
    "plt.xticks(ks)\n",
    "plt.show()"
   ]
  },
  {
   "cell_type": "code",
   "execution_count": null,
   "id": "ee9d8680",
   "metadata": {},
   "outputs": [],
   "source": []
  },
  {
   "cell_type": "code",
   "execution_count": null,
   "id": "638e322c",
   "metadata": {},
   "outputs": [],
   "source": []
  },
  {
   "cell_type": "code",
   "execution_count": null,
   "id": "f21e3800",
   "metadata": {},
   "outputs": [],
   "source": []
  },
  {
   "cell_type": "markdown",
   "id": "d46b4b86",
   "metadata": {},
   "source": [
    "# Nivell 2\n",
    "\n",
    "\n",
    "- Exercici 2\n",
    "\n",
    "Classifica els diferents vols utilitzant l'algorisme de clustering jeràrquic."
   ]
  },
  {
   "cell_type": "code",
   "execution_count": 17,
   "id": "2a787c1e",
   "metadata": {},
   "outputs": [
    {
     "data": {
      "text/html": [
       "<div>\n",
       "<style scoped>\n",
       "    .dataframe tbody tr th:only-of-type {\n",
       "        vertical-align: middle;\n",
       "    }\n",
       "\n",
       "    .dataframe tbody tr th {\n",
       "        vertical-align: top;\n",
       "    }\n",
       "\n",
       "    .dataframe thead th {\n",
       "        text-align: right;\n",
       "    }\n",
       "</style>\n",
       "<table border=\"1\" class=\"dataframe\">\n",
       "  <thead>\n",
       "    <tr style=\"text-align: right;\">\n",
       "      <th></th>\n",
       "      <th>Month</th>\n",
       "      <th>DayofMonth</th>\n",
       "      <th>DayOfWeek</th>\n",
       "      <th>DepDelay</th>\n",
       "      <th>ArrDelay</th>\n",
       "      <th>ArrTime</th>\n",
       "      <th>DepTime</th>\n",
       "      <th>Distance</th>\n",
       "      <th>UniqueCarrier</th>\n",
       "      <th>Origin</th>\n",
       "      <th>Dest</th>\n",
       "    </tr>\n",
       "  </thead>\n",
       "  <tbody>\n",
       "    <tr>\n",
       "      <th>0</th>\n",
       "      <td>0.004583</td>\n",
       "      <td>0.000417</td>\n",
       "      <td>0.002500</td>\n",
       "      <td>0.033334</td>\n",
       "      <td>0.030834</td>\n",
       "      <td>0.718348</td>\n",
       "      <td>0.669180</td>\n",
       "      <td>0.139169</td>\n",
       "      <td>0.006250</td>\n",
       "      <td>0.082918</td>\n",
       "      <td>0.088335</td>\n",
       "    </tr>\n",
       "    <tr>\n",
       "      <th>1</th>\n",
       "      <td>0.003955</td>\n",
       "      <td>0.003955</td>\n",
       "      <td>0.003296</td>\n",
       "      <td>0.064603</td>\n",
       "      <td>0.061307</td>\n",
       "      <td>0.695467</td>\n",
       "      <td>0.605155</td>\n",
       "      <td>0.339493</td>\n",
       "      <td>0.003955</td>\n",
       "      <td>0.163484</td>\n",
       "      <td>0.011866</td>\n",
       "    </tr>\n",
       "    <tr>\n",
       "      <th>2</th>\n",
       "      <td>0.002850</td>\n",
       "      <td>0.003919</td>\n",
       "      <td>0.000356</td>\n",
       "      <td>0.021019</td>\n",
       "      <td>0.009619</td>\n",
       "      <td>0.724635</td>\n",
       "      <td>0.661933</td>\n",
       "      <td>0.178487</td>\n",
       "      <td>0.004275</td>\n",
       "      <td>0.057714</td>\n",
       "      <td>0.031351</td>\n",
       "    </tr>\n",
       "    <tr>\n",
       "      <th>3</th>\n",
       "      <td>0.001104</td>\n",
       "      <td>0.000552</td>\n",
       "      <td>0.000828</td>\n",
       "      <td>0.004141</td>\n",
       "      <td>0.012424</td>\n",
       "      <td>0.581990</td>\n",
       "      <td>0.455542</td>\n",
       "      <td>0.668405</td>\n",
       "      <td>0.001657</td>\n",
       "      <td>0.041413</td>\n",
       "      <td>0.071506</td>\n",
       "    </tr>\n",
       "    <tr>\n",
       "      <th>4</th>\n",
       "      <td>0.001052</td>\n",
       "      <td>0.003156</td>\n",
       "      <td>0.002455</td>\n",
       "      <td>0.037877</td>\n",
       "      <td>0.032967</td>\n",
       "      <td>0.721070</td>\n",
       "      <td>0.613050</td>\n",
       "      <td>0.306525</td>\n",
       "      <td>0.002104</td>\n",
       "      <td>0.087679</td>\n",
       "      <td>0.006313</td>\n",
       "    </tr>\n",
       "  </tbody>\n",
       "</table>\n",
       "</div>"
      ],
      "text/plain": [
       "      Month  DayofMonth  DayOfWeek  DepDelay  ArrDelay   ArrTime   DepTime  \\\n",
       "0  0.004583    0.000417   0.002500  0.033334  0.030834  0.718348  0.669180   \n",
       "1  0.003955    0.003955   0.003296  0.064603  0.061307  0.695467  0.605155   \n",
       "2  0.002850    0.003919   0.000356  0.021019  0.009619  0.724635  0.661933   \n",
       "3  0.001104    0.000552   0.000828  0.004141  0.012424  0.581990  0.455542   \n",
       "4  0.001052    0.003156   0.002455  0.037877  0.032967  0.721070  0.613050   \n",
       "\n",
       "   Distance  UniqueCarrier    Origin      Dest  \n",
       "0  0.139169       0.006250  0.082918  0.088335  \n",
       "1  0.339493       0.003955  0.163484  0.011866  \n",
       "2  0.178487       0.004275  0.057714  0.031351  \n",
       "3  0.668405       0.001657  0.041413  0.071506  \n",
       "4  0.306525       0.002104  0.087679  0.006313  "
      ]
     },
     "execution_count": 17,
     "metadata": {},
     "output_type": "execute_result"
    }
   ],
   "source": [
    "from sklearn.preprocessing import normalize\n",
    "data_scaled = normalize(df_sample)\n",
    "data_scaled = pd.DataFrame(data_scaled, columns=df_sample.columns)\n",
    "data_scaled.head()"
   ]
  },
  {
   "cell_type": "code",
   "execution_count": 18,
   "id": "57b75be7",
   "metadata": {},
   "outputs": [
    {
     "data": {
      "image/png": "[encoded data removed]",
      "text/plain": [
       "<Figure size 720x504 with 1 Axes>"
      ]
     },
     "metadata": {},
     "output_type": "display_data"
    }
   ],
   "source": [
    "import scipy.cluster.hierarchy as shc\n",
    "plt.figure(figsize=(10, 7))  \n",
    "plt.title(\"Dendrograms\")  \n",
    "dend = shc.dendrogram(shc.linkage(data_scaled, method='ward'))"
   ]
  },
  {
   "cell_type": "code",
   "execution_count": 23,
   "id": "5dc071ae",
   "metadata": {},
   "outputs": [
    {
     "data": {
      "text/plain": [
       "<matplotlib.lines.Line2D at 0x11791679580>"
      ]
     },
     "execution_count": 23,
     "metadata": {},
     "output_type": "execute_result"
    },
    {
     "data": {
      "image/png": "[encoded data removed]",
      "text/plain": [
       "<Figure size 720x504 with 1 Axes>"
      ]
     },
     "metadata": {},
     "output_type": "display_data"
    }
   ],
   "source": [
    "plt.figure(figsize=(10, 7))  \n",
    "plt.title(\"Dendrograms\")  \n",
    "dend = shc.dendrogram(shc.linkage(data_scaled, method='ward'))\n",
    "plt.axhline(y=3, color='r', linestyle='--')"
   ]
  },
  {
   "cell_type": "code",
   "execution_count": 24,
   "id": "710eef51",
   "metadata": {},
   "outputs": [
    {
     "data": {
      "text/plain": [
       "array([1, 1, 1, 0, 1, 1, 1, 1, 1, 0, 1, 1, 0, 1, 0, 1, 1, 1, 0, 0, 1, 0,\n",
       "       0, 1, 1, 0, 1, 1, 1, 1, 1, 1, 1, 0, 0, 1, 0, 1, 1, 0, 1, 0, 1, 0,\n",
       "       0, 1, 0, 0, 0, 1, 0, 1, 1, 0, 1, 0, 1, 1, 1, 0, 0, 0, 1, 1, 1, 1,\n",
       "       1, 1, 1, 0, 1, 1, 1, 1, 0, 1, 1, 1, 0, 1, 0, 0, 0, 1, 0, 1, 0, 0,\n",
       "       1, 1, 0, 1, 0, 0, 0, 1, 1, 0, 1, 0, 1, 1, 1, 0, 1, 0, 1, 0, 0, 1,\n",
       "       1, 0, 0, 1, 0, 1, 1, 1, 0, 1, 1, 1, 1, 1, 1, 1, 0, 1, 1, 0, 1, 0,\n",
       "       0, 1, 1, 1, 1, 0, 1, 1, 1, 0, 0, 0, 0, 1, 1, 1, 0, 0, 1, 0, 0, 0,\n",
       "       1, 1, 1, 1, 1, 1, 1, 1, 1, 0, 1, 1, 0, 1, 0, 0, 1, 1, 1, 0, 1, 1,\n",
       "       0, 1, 1, 0, 0, 1, 1, 0, 1, 0, 1, 0, 0, 0, 1, 0, 1, 0, 1, 0, 1, 1,\n",
       "       1, 1, 0, 1, 1, 0, 0, 0, 0, 0, 1, 0, 1, 1, 1, 1, 1, 0, 0, 1, 1, 0,\n",
       "       1, 0, 1, 1, 0, 0, 0, 1, 1, 1, 1, 0, 1, 1, 1, 1, 1, 1, 0, 1, 1, 1,\n",
       "       0, 0, 0, 0, 1, 1, 0, 1, 1, 1, 1, 1, 1, 1, 1, 1, 1, 1, 0, 0, 0, 1,\n",
       "       0, 1, 1, 1, 1, 1, 0, 0, 0, 1, 1, 1, 0, 1, 1, 1, 1, 1, 1, 0, 0, 1,\n",
       "       0, 0, 0, 1, 1, 0, 1, 0, 1, 1, 0, 1, 1, 0, 0, 1, 1, 0, 1, 1, 1, 1,\n",
       "       1, 1, 1, 0, 1, 0, 1, 1, 0, 0, 1, 1, 1, 0, 1, 0, 0, 1, 1, 1, 1, 0,\n",
       "       1, 1, 1, 1, 0, 1, 1, 0, 0, 1, 0, 0, 1, 0, 0, 1, 1, 0, 1, 0, 1, 0,\n",
       "       1, 0, 1, 1, 0, 0, 1, 1, 1, 0, 1, 0, 0, 0, 1, 1, 0, 0, 1, 1, 0, 1,\n",
       "       0, 1, 1, 0, 1, 0, 1, 1, 0, 1, 1, 0, 1, 1, 1, 1, 1, 1, 1, 1, 0, 1,\n",
       "       1, 1, 1, 1, 0, 1, 1, 1, 1, 1, 1, 0, 0, 0, 1, 0, 1, 1, 1, 1, 1, 0,\n",
       "       1, 1, 1, 1, 0, 1, 1, 1, 1, 1, 1, 1, 1, 1, 1, 1, 1, 1, 0, 0, 0, 0,\n",
       "       0, 0, 0, 1, 0, 1, 1, 1, 1, 1, 0, 1, 0, 1, 0, 1, 1, 0, 1, 1, 1, 1,\n",
       "       0, 1, 1, 0, 1, 1, 1, 1, 0, 1, 1, 1, 1, 1, 1, 1, 1, 1, 1, 1, 1, 0,\n",
       "       0, 1, 0, 1, 1, 1, 1, 1, 1, 1, 1, 0, 0, 1, 0, 0, 1, 1, 1, 1, 1, 0,\n",
       "       0, 1, 1, 1, 1, 1, 1, 1, 1, 1, 0, 1, 0, 1, 1, 1, 1, 1, 1, 1, 0, 1,\n",
       "       1, 1, 1, 0, 1, 0, 0, 0, 1, 1, 1, 0, 1, 1, 1, 0, 0, 0, 1, 1, 1, 1,\n",
       "       1, 1, 1, 0, 1, 1, 1, 0, 0, 1, 1, 1, 1, 1, 0, 1, 0, 0, 1, 0, 1, 0,\n",
       "       0, 1, 0, 0, 0, 1, 0, 1, 1, 1, 0, 1, 0, 1, 1, 1, 0, 0, 0, 1, 1, 1,\n",
       "       1, 0, 0, 0, 0, 0, 0, 0, 1, 1, 1, 0, 1, 1, 0, 1, 1, 1, 0, 0, 1, 1,\n",
       "       0, 1, 1, 1, 1, 1, 1, 1, 0, 1, 0, 1, 1, 1, 1, 0, 0, 1, 1, 0, 1, 0,\n",
       "       0, 1, 1, 1, 1, 1, 1, 1, 1, 1, 0, 1, 0, 0, 0, 1, 0, 1, 1, 0, 1, 1,\n",
       "       1, 1, 1, 0, 1, 1, 0, 1, 1, 0, 1, 0, 1, 0, 0, 0, 0, 1, 0, 1, 1, 1,\n",
       "       1, 0, 0, 1, 0, 1, 1, 0, 1, 0, 0, 0, 0, 0, 0, 0, 0, 1, 1, 0, 0, 1,\n",
       "       0, 1, 0, 1, 1, 1, 1, 1, 1, 0, 1, 0, 0, 1, 1, 0, 1, 1, 1, 1, 1, 0,\n",
       "       1, 1, 0, 1, 1, 0, 0, 1, 1, 0, 1, 0, 1, 0, 1, 1, 1, 1, 0, 1, 1, 1,\n",
       "       1, 1, 1, 1, 1, 0, 0, 0, 1, 0, 0, 0, 1, 1, 1, 1, 0, 0, 0, 1, 0, 1,\n",
       "       1, 1, 1, 1, 0, 0, 0, 1, 0, 1, 0, 0, 1, 0, 1, 1, 1, 1, 1, 0, 1, 1,\n",
       "       1, 0, 1, 0, 0, 1, 1, 1, 0, 1, 1, 1, 0, 1, 1, 0, 1, 0, 1, 1, 1, 0,\n",
       "       1, 0, 0, 1, 1, 0, 0, 1, 0, 1, 0, 1, 0, 1, 1, 0, 1, 1, 0, 1, 0, 0,\n",
       "       0, 1, 0, 1, 1, 1, 1, 1, 1, 1, 1, 0, 0, 1, 1, 1, 1, 1, 1, 0, 1, 0,\n",
       "       0, 0, 1, 1, 0, 0, 1, 1, 1, 1, 1, 1, 1, 1, 0, 0, 1, 1, 1, 1, 1, 1,\n",
       "       1, 0, 1, 1, 1, 1, 1, 0, 1, 0, 1, 1, 0, 1, 1, 0, 0, 1, 1, 0, 1, 1,\n",
       "       1, 1, 1, 1, 1, 1, 1, 1, 0, 1, 1, 1, 1, 1, 0, 1, 1, 0, 1, 1, 1, 1,\n",
       "       0, 1, 0, 0, 0, 0, 0, 1, 1, 0, 1, 1, 1, 0, 1, 0, 1, 1, 0, 0, 1, 0,\n",
       "       1, 1, 1, 0, 1, 0, 1, 1, 1, 1, 1, 0, 0, 0, 1, 1, 0, 0, 0, 0, 0, 0,\n",
       "       1, 1, 1, 0, 1, 1, 1, 1, 0, 1, 1, 1, 0, 1, 1, 0, 1, 1, 0, 0, 0, 0,\n",
       "       1, 1, 1, 0, 1, 0, 0, 1, 1, 0], dtype=int64)"
      ]
     },
     "execution_count": 24,
     "metadata": {},
     "output_type": "execute_result"
    }
   ],
   "source": [
    "from sklearn.cluster import AgglomerativeClustering\n",
    "cluster = AgglomerativeClustering(n_clusters=2, affinity='euclidean', linkage='ward')  \n",
    "cluster.fit_predict(data_scaled)"
   ]
  },
  {
   "cell_type": "code",
   "execution_count": 25,
   "id": "500c478b",
   "metadata": {},
   "outputs": [
    {
     "data": {
      "text/plain": [
       "<matplotlib.collections.PathCollection at 0x117918a9730>"
      ]
     },
     "execution_count": 25,
     "metadata": {},
     "output_type": "execute_result"
    },
    {
     "data": {
      "image/png": "[encoded data removed]",
      "text/plain": [
       "<Figure size 720x504 with 1 Axes>"
      ]
     },
     "metadata": {},
     "output_type": "display_data"
    }
   ],
   "source": [
    "plt.figure(figsize=(10, 7))  \n",
    "plt.scatter(data_scaled['DepDelay'], data_scaled['Distance'], c=cluster.labels_) "
   ]
  },
  {
   "cell_type": "code",
   "execution_count": null,
   "id": "5b235f9e",
   "metadata": {},
   "outputs": [],
   "source": [
    " "
   ]
  },
  {
   "cell_type": "markdown",
   "id": "3705c40c",
   "metadata": {},
   "source": [
    "# Nivell 3\n",
    "\n",
    "- Exercici 3\n",
    "\n",
    "Calcula el rendiment del clustering mitjançant un paràmetre com pot ser silhouette."
   ]
  },
  {
   "cell_type": "code",
   "execution_count": null,
   "id": "1bf13ba0",
   "metadata": {},
   "outputs": [],
   "source": []
  },
  {
   "cell_type": "code",
   "execution_count": 27,
   "id": "1ede40e1",
   "metadata": {},
   "outputs": [],
   "source": [
    "silhouette_coefficients = []\n",
    "  # Notice you start at 2 clusters for silhouette coefficient\n",
    "for k in range(2, 11):\n",
    "    kmeans = KMeans(n_clusters=k, **kmeans_kwargs)\n",
    "    kmeans.fit(scaled_features)\n",
    "    score = silhouette_score(scaled_features, kmeans.labels_)\n",
    "    silhouette_coefficients.append(score)"
   ]
  },
  {
   "cell_type": "code",
   "execution_count": 28,
   "id": "951a8bf1",
   "metadata": {},
   "outputs": [
    {
     "data": {
      "image/png": "[encoded data removed]",
      "text/plain": [
       "<Figure size 432x288 with 1 Axes>"
      ]
     },
     "metadata": {},
     "output_type": "display_data"
    }
   ],
   "source": [
    "plt.style.use(\"fivethirtyeight\")\n",
    "plt.plot(range(2, 11), silhouette_coefficients)\n",
    "plt.xticks(range(2, 11))\n",
    "plt.xlabel(\"Number of Clusters\")\n",
    "plt.ylabel(\"Silhouette Coefficient\")\n",
    "plt.show()"
   ]
  },
  {
   "cell_type": "code",
   "execution_count": null,
   "id": "f8fa57c8",
   "metadata": {},
   "outputs": [],
   "source": []
  }
 ],
 "metadata": {
  "kernelspec": {
   "display_name": "Python 3",
   "language": "python",
   "name": "python3"
  },
  "language_info": {
   "codemirror_mode": {
    "name": "ipython",
    "version": 3
   },
   "file_extension": ".py",
   "mimetype": "text/x-python",
   "name": "python",
   "nbconvert_exporter": "python",
   "pygments_lexer": "ipython3",
   "version": "3.9.2"
  }
 },
 "nbformat": 4,
 "nbformat_minor": 5
}
