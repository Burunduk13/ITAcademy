{
 "cells": [
  {
   "cell_type": "markdown",
   "id": "a7339c0d",
   "metadata": {},
   "source": [
    "# Nivell 1\n",
    "- Exercici 1\n",
    "\n",
    "Agafa el conjunt de dades que vulguis i realitza un pipeline i un gridsearch aplicant l'algorisme de Random Forest."
   ]
  },
  {
   "cell_type": "code",
   "execution_count": 1,
   "id": "5f5d941f",
   "metadata": {},
   "outputs": [],
   "source": [
    "# importing required values\n",
    "import pandas as pd\n",
    "import numpy as np\n",
    "import matplotlib.pyplot as plt\n",
    "%matplotlib inline\n",
    "from sklearn import preprocessing\n",
    "from sklearn.preprocessing import StandardScaler"
   ]
  },
  {
   "cell_type": "code",
   "execution_count": 2,
   "id": "8f9d76c5",
   "metadata": {},
   "outputs": [
    {
     "data": {
      "text/plain": [
       "Row ID           0.000000\n",
       "Order ID         0.000000\n",
       "Order Date       0.000000\n",
       "Ship Date        0.000000\n",
       "Ship Mode        0.000000\n",
       "Customer ID      0.000000\n",
       "Customer Name    0.000000\n",
       "Segment          0.000000\n",
       "Country          0.000000\n",
       "City             0.000000\n",
       "State            0.000000\n",
       "Postal Code      0.001122\n",
       "Region           0.000000\n",
       "Product ID       0.000000\n",
       "Category         0.000000\n",
       "Sub-Category     0.000000\n",
       "Product Name     0.000000\n",
       "Sales            0.000000\n",
       "dtype: float64"
      ]
     },
     "execution_count": 2,
     "metadata": {},
     "output_type": "execute_result"
    }
   ],
   "source": [
    "# read the train data\n",
    "train_data = pd.read_csv('train.csv')\n",
    "\n",
    "# check for the null values\n",
    "train_data.isna().mean()"
   ]
  },
  {
   "cell_type": "markdown",
   "id": "14179db4",
   "metadata": {},
   "source": [
    "I have only 11 null values, I´ll drop them"
   ]
  },
  {
   "cell_type": "code",
   "execution_count": 3,
   "id": "d1acc5d4",
   "metadata": {},
   "outputs": [
    {
     "name": "stdout",
     "output_type": "stream",
     "text": [
      "<class 'pandas.core.frame.DataFrame'>\n",
      "Int64Index: 9789 entries, 0 to 9799\n",
      "Data columns (total 18 columns):\n",
      " #   Column         Non-Null Count  Dtype  \n",
      "---  ------         --------------  -----  \n",
      " 0   Row ID         9789 non-null   int64  \n",
      " 1   Order ID       9789 non-null   object \n",
      " 2   Order Date     9789 non-null   object \n",
      " 3   Ship Date      9789 non-null   object \n",
      " 4   Ship Mode      9789 non-null   object \n",
      " 5   Customer ID    9789 non-null   object \n",
      " 6   Customer Name  9789 non-null   object \n",
      " 7   Segment        9789 non-null   object \n",
      " 8   Country        9789 non-null   object \n",
      " 9   City           9789 non-null   object \n",
      " 10  State          9789 non-null   object \n",
      " 11  Postal Code    9789 non-null   float64\n",
      " 12  Region         9789 non-null   object \n",
      " 13  Product ID     9789 non-null   object \n",
      " 14  Category       9789 non-null   object \n",
      " 15  Sub-Category   9789 non-null   object \n",
      " 16  Product Name   9789 non-null   object \n",
      " 17  Sales          9789 non-null   float64\n",
      "dtypes: float64(2), int64(1), object(15)\n",
      "memory usage: 1.4+ MB\n"
     ]
    }
   ],
   "source": [
    "train_data.dropna(inplace=True)\n",
    "train_data.info()"
   ]
  },
  {
   "cell_type": "code",
   "execution_count": 4,
   "id": "a9b472c9",
   "metadata": {},
   "outputs": [],
   "source": [
    "train_data.drop(columns=['Order ID','Row ID','Order Date', 'Ship Date','Country', 'Customer ID','Customer Name','Product Name','Postal Code','Product ID'],inplace=True)"
   ]
  },
  {
   "cell_type": "code",
   "execution_count": 5,
   "id": "f421d263",
   "metadata": {},
   "outputs": [
    {
     "data": {
      "text/plain": [
       "Index(['Ship Mode', 'Segment', 'City', 'State', 'Region', 'Category',\n",
       "       'Sub-Category', 'Sales'],\n",
       "      dtype='object')"
      ]
     },
     "execution_count": 5,
     "metadata": {},
     "output_type": "execute_result"
    }
   ],
   "source": [
    "train_data.columns"
   ]
  },
  {
   "cell_type": "code",
   "execution_count": 6,
   "id": "4a6451f9",
   "metadata": {},
   "outputs": [
    {
     "data": {
      "text/html": [
       "<div>\n",
       "<style scoped>\n",
       "    .dataframe tbody tr th:only-of-type {\n",
       "        vertical-align: middle;\n",
       "    }\n",
       "\n",
       "    .dataframe tbody tr th {\n",
       "        vertical-align: top;\n",
       "    }\n",
       "\n",
       "    .dataframe thead th {\n",
       "        text-align: right;\n",
       "    }\n",
       "</style>\n",
       "<table border=\"1\" class=\"dataframe\">\n",
       "  <thead>\n",
       "    <tr style=\"text-align: right;\">\n",
       "      <th></th>\n",
       "      <th>Ship Mode</th>\n",
       "      <th>Segment</th>\n",
       "      <th>City</th>\n",
       "      <th>State</th>\n",
       "      <th>Region</th>\n",
       "      <th>Category</th>\n",
       "      <th>Sub-Category</th>\n",
       "      <th>Sales</th>\n",
       "    </tr>\n",
       "  </thead>\n",
       "  <tbody>\n",
       "    <tr>\n",
       "      <th>0</th>\n",
       "      <td>Second Class</td>\n",
       "      <td>Consumer</td>\n",
       "      <td>Henderson</td>\n",
       "      <td>Kentucky</td>\n",
       "      <td>South</td>\n",
       "      <td>Furniture</td>\n",
       "      <td>Bookcases</td>\n",
       "      <td>261.9600</td>\n",
       "    </tr>\n",
       "    <tr>\n",
       "      <th>1</th>\n",
       "      <td>Second Class</td>\n",
       "      <td>Consumer</td>\n",
       "      <td>Henderson</td>\n",
       "      <td>Kentucky</td>\n",
       "      <td>South</td>\n",
       "      <td>Furniture</td>\n",
       "      <td>Chairs</td>\n",
       "      <td>731.9400</td>\n",
       "    </tr>\n",
       "    <tr>\n",
       "      <th>2</th>\n",
       "      <td>Second Class</td>\n",
       "      <td>Corporate</td>\n",
       "      <td>Los Angeles</td>\n",
       "      <td>California</td>\n",
       "      <td>West</td>\n",
       "      <td>Office Supplies</td>\n",
       "      <td>Labels</td>\n",
       "      <td>14.6200</td>\n",
       "    </tr>\n",
       "    <tr>\n",
       "      <th>3</th>\n",
       "      <td>Standard Class</td>\n",
       "      <td>Consumer</td>\n",
       "      <td>Fort Lauderdale</td>\n",
       "      <td>Florida</td>\n",
       "      <td>South</td>\n",
       "      <td>Furniture</td>\n",
       "      <td>Tables</td>\n",
       "      <td>957.5775</td>\n",
       "    </tr>\n",
       "    <tr>\n",
       "      <th>4</th>\n",
       "      <td>Standard Class</td>\n",
       "      <td>Consumer</td>\n",
       "      <td>Fort Lauderdale</td>\n",
       "      <td>Florida</td>\n",
       "      <td>South</td>\n",
       "      <td>Office Supplies</td>\n",
       "      <td>Storage</td>\n",
       "      <td>22.3680</td>\n",
       "    </tr>\n",
       "  </tbody>\n",
       "</table>\n",
       "</div>"
      ],
      "text/plain": [
       "        Ship Mode    Segment             City       State Region  \\\n",
       "0    Second Class   Consumer        Henderson    Kentucky  South   \n",
       "1    Second Class   Consumer        Henderson    Kentucky  South   \n",
       "2    Second Class  Corporate      Los Angeles  California   West   \n",
       "3  Standard Class   Consumer  Fort Lauderdale     Florida  South   \n",
       "4  Standard Class   Consumer  Fort Lauderdale     Florida  South   \n",
       "\n",
       "          Category Sub-Category     Sales  \n",
       "0        Furniture    Bookcases  261.9600  \n",
       "1        Furniture       Chairs  731.9400  \n",
       "2  Office Supplies       Labels   14.6200  \n",
       "3        Furniture       Tables  957.5775  \n",
       "4  Office Supplies      Storage   22.3680  "
      ]
     },
     "execution_count": 6,
     "metadata": {},
     "output_type": "execute_result"
    }
   ],
   "source": [
    "train_data.head()"
   ]
  },
  {
   "cell_type": "code",
   "execution_count": 7,
   "id": "ebf97436",
   "metadata": {},
   "outputs": [
    {
     "data": {
      "text/html": [
       "<div>\n",
       "<style scoped>\n",
       "    .dataframe tbody tr th:only-of-type {\n",
       "        vertical-align: middle;\n",
       "    }\n",
       "\n",
       "    .dataframe tbody tr th {\n",
       "        vertical-align: top;\n",
       "    }\n",
       "\n",
       "    .dataframe thead th {\n",
       "        text-align: right;\n",
       "    }\n",
       "</style>\n",
       "<table border=\"1\" class=\"dataframe\">\n",
       "  <thead>\n",
       "    <tr style=\"text-align: right;\">\n",
       "      <th></th>\n",
       "      <th>Ship Mode</th>\n",
       "      <th>Segment</th>\n",
       "      <th>City</th>\n",
       "      <th>State</th>\n",
       "      <th>Region</th>\n",
       "      <th>Category</th>\n",
       "      <th>Sub-Category</th>\n",
       "      <th>Sales</th>\n",
       "    </tr>\n",
       "  </thead>\n",
       "  <tbody>\n",
       "    <tr>\n",
       "      <th>0</th>\n",
       "      <td>Second Class</td>\n",
       "      <td>Consumer</td>\n",
       "      <td>Other</td>\n",
       "      <td>Kentucky</td>\n",
       "      <td>South</td>\n",
       "      <td>Furniture</td>\n",
       "      <td>Bookcases</td>\n",
       "      <td>261.9600</td>\n",
       "    </tr>\n",
       "    <tr>\n",
       "      <th>1</th>\n",
       "      <td>Second Class</td>\n",
       "      <td>Consumer</td>\n",
       "      <td>Other</td>\n",
       "      <td>Kentucky</td>\n",
       "      <td>South</td>\n",
       "      <td>Furniture</td>\n",
       "      <td>Chairs</td>\n",
       "      <td>731.9400</td>\n",
       "    </tr>\n",
       "    <tr>\n",
       "      <th>2</th>\n",
       "      <td>Second Class</td>\n",
       "      <td>Corporate</td>\n",
       "      <td>Los Angeles</td>\n",
       "      <td>California</td>\n",
       "      <td>West</td>\n",
       "      <td>Office Supplies</td>\n",
       "      <td>Labels</td>\n",
       "      <td>14.6200</td>\n",
       "    </tr>\n",
       "    <tr>\n",
       "      <th>3</th>\n",
       "      <td>Standard Class</td>\n",
       "      <td>Consumer</td>\n",
       "      <td>Other</td>\n",
       "      <td>Florida</td>\n",
       "      <td>South</td>\n",
       "      <td>Furniture</td>\n",
       "      <td>Tables</td>\n",
       "      <td>957.5775</td>\n",
       "    </tr>\n",
       "    <tr>\n",
       "      <th>4</th>\n",
       "      <td>Standard Class</td>\n",
       "      <td>Consumer</td>\n",
       "      <td>Other</td>\n",
       "      <td>Florida</td>\n",
       "      <td>South</td>\n",
       "      <td>Office Supplies</td>\n",
       "      <td>Storage</td>\n",
       "      <td>22.3680</td>\n",
       "    </tr>\n",
       "  </tbody>\n",
       "</table>\n",
       "</div>"
      ],
      "text/plain": [
       "        Ship Mode    Segment         City       State Region         Category  \\\n",
       "0    Second Class   Consumer        Other    Kentucky  South        Furniture   \n",
       "1    Second Class   Consumer        Other    Kentucky  South        Furniture   \n",
       "2    Second Class  Corporate  Los Angeles  California   West  Office Supplies   \n",
       "3  Standard Class   Consumer        Other     Florida  South        Furniture   \n",
       "4  Standard Class   Consumer        Other     Florida  South  Office Supplies   \n",
       "\n",
       "  Sub-Category     Sales  \n",
       "0    Bookcases  261.9600  \n",
       "1       Chairs  731.9400  \n",
       "2       Labels   14.6200  \n",
       "3       Tables  957.5775  \n",
       "4      Storage   22.3680  "
      ]
     },
     "execution_count": 7,
     "metadata": {},
     "output_type": "execute_result"
    }
   ],
   "source": [
    "top_city=(train_data['City'].value_counts().head(20)).index.to_list()\n",
    "train_data[\"City\"]=train_data[\"City\"].apply(lambda x: x if x in top_city else \"Other\")\n",
    "train_data.head()"
   ]
  },
  {
   "cell_type": "code",
   "execution_count": 8,
   "id": "39e0ff3a",
   "metadata": {},
   "outputs": [
    {
     "data": {
      "text/plain": [
       "['New York City',\n",
       " 'Los Angeles',\n",
       " 'Philadelphia',\n",
       " 'San Francisco',\n",
       " 'Seattle',\n",
       " 'Houston',\n",
       " 'Chicago',\n",
       " 'Columbus',\n",
       " 'San Diego',\n",
       " 'Springfield',\n",
       " 'Dallas',\n",
       " 'Jacksonville',\n",
       " 'Detroit',\n",
       " 'Newark',\n",
       " 'Jackson',\n",
       " 'Columbia',\n",
       " 'Richmond',\n",
       " 'Aurora',\n",
       " 'Phoenix',\n",
       " 'Arlington']"
      ]
     },
     "execution_count": 8,
     "metadata": {},
     "output_type": "execute_result"
    }
   ],
   "source": [
    "top_city"
   ]
  },
  {
   "cell_type": "code",
   "execution_count": 9,
   "id": "08250514",
   "metadata": {},
   "outputs": [
    {
     "data": {
      "text/html": [
       "<div>\n",
       "<style scoped>\n",
       "    .dataframe tbody tr th:only-of-type {\n",
       "        vertical-align: middle;\n",
       "    }\n",
       "\n",
       "    .dataframe tbody tr th {\n",
       "        vertical-align: top;\n",
       "    }\n",
       "\n",
       "    .dataframe thead th {\n",
       "        text-align: right;\n",
       "    }\n",
       "</style>\n",
       "<table border=\"1\" class=\"dataframe\">\n",
       "  <thead>\n",
       "    <tr style=\"text-align: right;\">\n",
       "      <th></th>\n",
       "      <th>Ship Mode</th>\n",
       "      <th>Segment</th>\n",
       "      <th>City</th>\n",
       "      <th>State</th>\n",
       "      <th>Region</th>\n",
       "      <th>Category</th>\n",
       "      <th>Sub-Category</th>\n",
       "      <th>Sales</th>\n",
       "      <th>Ship Mode_1</th>\n",
       "      <th>Ship Mode_2</th>\n",
       "      <th>...</th>\n",
       "      <th>City_12</th>\n",
       "      <th>City_13</th>\n",
       "      <th>City_14</th>\n",
       "      <th>City_15</th>\n",
       "      <th>City_16</th>\n",
       "      <th>City_17</th>\n",
       "      <th>City_18</th>\n",
       "      <th>City_19</th>\n",
       "      <th>City_20</th>\n",
       "      <th>City_21</th>\n",
       "    </tr>\n",
       "  </thead>\n",
       "  <tbody>\n",
       "    <tr>\n",
       "      <th>0</th>\n",
       "      <td>Second Class</td>\n",
       "      <td>Consumer</td>\n",
       "      <td>Other</td>\n",
       "      <td>Kentucky</td>\n",
       "      <td>South</td>\n",
       "      <td>Furniture</td>\n",
       "      <td>Bookcases</td>\n",
       "      <td>261.9600</td>\n",
       "      <td>1</td>\n",
       "      <td>0</td>\n",
       "      <td>...</td>\n",
       "      <td>0</td>\n",
       "      <td>0</td>\n",
       "      <td>0</td>\n",
       "      <td>0</td>\n",
       "      <td>0</td>\n",
       "      <td>0</td>\n",
       "      <td>0</td>\n",
       "      <td>0</td>\n",
       "      <td>0</td>\n",
       "      <td>0</td>\n",
       "    </tr>\n",
       "    <tr>\n",
       "      <th>1</th>\n",
       "      <td>Second Class</td>\n",
       "      <td>Consumer</td>\n",
       "      <td>Other</td>\n",
       "      <td>Kentucky</td>\n",
       "      <td>South</td>\n",
       "      <td>Furniture</td>\n",
       "      <td>Chairs</td>\n",
       "      <td>731.9400</td>\n",
       "      <td>1</td>\n",
       "      <td>0</td>\n",
       "      <td>...</td>\n",
       "      <td>0</td>\n",
       "      <td>0</td>\n",
       "      <td>0</td>\n",
       "      <td>0</td>\n",
       "      <td>0</td>\n",
       "      <td>0</td>\n",
       "      <td>0</td>\n",
       "      <td>0</td>\n",
       "      <td>0</td>\n",
       "      <td>0</td>\n",
       "    </tr>\n",
       "    <tr>\n",
       "      <th>2</th>\n",
       "      <td>Second Class</td>\n",
       "      <td>Corporate</td>\n",
       "      <td>Los Angeles</td>\n",
       "      <td>California</td>\n",
       "      <td>West</td>\n",
       "      <td>Office Supplies</td>\n",
       "      <td>Labels</td>\n",
       "      <td>14.6200</td>\n",
       "      <td>1</td>\n",
       "      <td>0</td>\n",
       "      <td>...</td>\n",
       "      <td>0</td>\n",
       "      <td>0</td>\n",
       "      <td>0</td>\n",
       "      <td>0</td>\n",
       "      <td>0</td>\n",
       "      <td>0</td>\n",
       "      <td>0</td>\n",
       "      <td>0</td>\n",
       "      <td>0</td>\n",
       "      <td>0</td>\n",
       "    </tr>\n",
       "    <tr>\n",
       "      <th>3</th>\n",
       "      <td>Standard Class</td>\n",
       "      <td>Consumer</td>\n",
       "      <td>Other</td>\n",
       "      <td>Florida</td>\n",
       "      <td>South</td>\n",
       "      <td>Furniture</td>\n",
       "      <td>Tables</td>\n",
       "      <td>957.5775</td>\n",
       "      <td>0</td>\n",
       "      <td>1</td>\n",
       "      <td>...</td>\n",
       "      <td>0</td>\n",
       "      <td>0</td>\n",
       "      <td>0</td>\n",
       "      <td>0</td>\n",
       "      <td>0</td>\n",
       "      <td>0</td>\n",
       "      <td>0</td>\n",
       "      <td>0</td>\n",
       "      <td>0</td>\n",
       "      <td>0</td>\n",
       "    </tr>\n",
       "    <tr>\n",
       "      <th>4</th>\n",
       "      <td>Standard Class</td>\n",
       "      <td>Consumer</td>\n",
       "      <td>Other</td>\n",
       "      <td>Florida</td>\n",
       "      <td>South</td>\n",
       "      <td>Office Supplies</td>\n",
       "      <td>Storage</td>\n",
       "      <td>22.3680</td>\n",
       "      <td>0</td>\n",
       "      <td>1</td>\n",
       "      <td>...</td>\n",
       "      <td>0</td>\n",
       "      <td>0</td>\n",
       "      <td>0</td>\n",
       "      <td>0</td>\n",
       "      <td>0</td>\n",
       "      <td>0</td>\n",
       "      <td>0</td>\n",
       "      <td>0</td>\n",
       "      <td>0</td>\n",
       "      <td>0</td>\n",
       "    </tr>\n",
       "    <tr>\n",
       "      <th>...</th>\n",
       "      <td>...</td>\n",
       "      <td>...</td>\n",
       "      <td>...</td>\n",
       "      <td>...</td>\n",
       "      <td>...</td>\n",
       "      <td>...</td>\n",
       "      <td>...</td>\n",
       "      <td>...</td>\n",
       "      <td>...</td>\n",
       "      <td>...</td>\n",
       "      <td>...</td>\n",
       "      <td>...</td>\n",
       "      <td>...</td>\n",
       "      <td>...</td>\n",
       "      <td>...</td>\n",
       "      <td>...</td>\n",
       "      <td>...</td>\n",
       "      <td>...</td>\n",
       "      <td>...</td>\n",
       "      <td>...</td>\n",
       "      <td>...</td>\n",
       "    </tr>\n",
       "    <tr>\n",
       "      <th>9795</th>\n",
       "      <td>Standard Class</td>\n",
       "      <td>Corporate</td>\n",
       "      <td>Chicago</td>\n",
       "      <td>Illinois</td>\n",
       "      <td>Central</td>\n",
       "      <td>Office Supplies</td>\n",
       "      <td>Binders</td>\n",
       "      <td>3.7980</td>\n",
       "      <td>0</td>\n",
       "      <td>1</td>\n",
       "      <td>...</td>\n",
       "      <td>0</td>\n",
       "      <td>0</td>\n",
       "      <td>0</td>\n",
       "      <td>0</td>\n",
       "      <td>0</td>\n",
       "      <td>0</td>\n",
       "      <td>0</td>\n",
       "      <td>0</td>\n",
       "      <td>0</td>\n",
       "      <td>0</td>\n",
       "    </tr>\n",
       "    <tr>\n",
       "      <th>9796</th>\n",
       "      <td>Standard Class</td>\n",
       "      <td>Corporate</td>\n",
       "      <td>Other</td>\n",
       "      <td>Ohio</td>\n",
       "      <td>East</td>\n",
       "      <td>Office Supplies</td>\n",
       "      <td>Art</td>\n",
       "      <td>10.3680</td>\n",
       "      <td>0</td>\n",
       "      <td>1</td>\n",
       "      <td>...</td>\n",
       "      <td>0</td>\n",
       "      <td>0</td>\n",
       "      <td>0</td>\n",
       "      <td>0</td>\n",
       "      <td>0</td>\n",
       "      <td>0</td>\n",
       "      <td>0</td>\n",
       "      <td>0</td>\n",
       "      <td>0</td>\n",
       "      <td>0</td>\n",
       "    </tr>\n",
       "    <tr>\n",
       "      <th>9797</th>\n",
       "      <td>Standard Class</td>\n",
       "      <td>Corporate</td>\n",
       "      <td>Other</td>\n",
       "      <td>Ohio</td>\n",
       "      <td>East</td>\n",
       "      <td>Technology</td>\n",
       "      <td>Phones</td>\n",
       "      <td>235.1880</td>\n",
       "      <td>0</td>\n",
       "      <td>1</td>\n",
       "      <td>...</td>\n",
       "      <td>0</td>\n",
       "      <td>0</td>\n",
       "      <td>0</td>\n",
       "      <td>0</td>\n",
       "      <td>0</td>\n",
       "      <td>0</td>\n",
       "      <td>0</td>\n",
       "      <td>0</td>\n",
       "      <td>0</td>\n",
       "      <td>0</td>\n",
       "    </tr>\n",
       "    <tr>\n",
       "      <th>9798</th>\n",
       "      <td>Standard Class</td>\n",
       "      <td>Corporate</td>\n",
       "      <td>Other</td>\n",
       "      <td>Ohio</td>\n",
       "      <td>East</td>\n",
       "      <td>Technology</td>\n",
       "      <td>Phones</td>\n",
       "      <td>26.3760</td>\n",
       "      <td>0</td>\n",
       "      <td>1</td>\n",
       "      <td>...</td>\n",
       "      <td>0</td>\n",
       "      <td>0</td>\n",
       "      <td>0</td>\n",
       "      <td>0</td>\n",
       "      <td>0</td>\n",
       "      <td>0</td>\n",
       "      <td>0</td>\n",
       "      <td>0</td>\n",
       "      <td>0</td>\n",
       "      <td>0</td>\n",
       "    </tr>\n",
       "    <tr>\n",
       "      <th>9799</th>\n",
       "      <td>Standard Class</td>\n",
       "      <td>Corporate</td>\n",
       "      <td>Other</td>\n",
       "      <td>Ohio</td>\n",
       "      <td>East</td>\n",
       "      <td>Technology</td>\n",
       "      <td>Accessories</td>\n",
       "      <td>10.3840</td>\n",
       "      <td>0</td>\n",
       "      <td>1</td>\n",
       "      <td>...</td>\n",
       "      <td>0</td>\n",
       "      <td>0</td>\n",
       "      <td>0</td>\n",
       "      <td>0</td>\n",
       "      <td>0</td>\n",
       "      <td>0</td>\n",
       "      <td>0</td>\n",
       "      <td>0</td>\n",
       "      <td>0</td>\n",
       "      <td>0</td>\n",
       "    </tr>\n",
       "  </tbody>\n",
       "</table>\n",
       "<p>9789 rows × 108 columns</p>\n",
       "</div>"
      ],
      "text/plain": [
       "           Ship Mode    Segment         City       State   Region  \\\n",
       "0       Second Class   Consumer        Other    Kentucky    South   \n",
       "1       Second Class   Consumer        Other    Kentucky    South   \n",
       "2       Second Class  Corporate  Los Angeles  California     West   \n",
       "3     Standard Class   Consumer        Other     Florida    South   \n",
       "4     Standard Class   Consumer        Other     Florida    South   \n",
       "...              ...        ...          ...         ...      ...   \n",
       "9795  Standard Class  Corporate      Chicago    Illinois  Central   \n",
       "9796  Standard Class  Corporate        Other        Ohio     East   \n",
       "9797  Standard Class  Corporate        Other        Ohio     East   \n",
       "9798  Standard Class  Corporate        Other        Ohio     East   \n",
       "9799  Standard Class  Corporate        Other        Ohio     East   \n",
       "\n",
       "             Category Sub-Category     Sales  Ship Mode_1  Ship Mode_2  ...  \\\n",
       "0           Furniture    Bookcases  261.9600            1            0  ...   \n",
       "1           Furniture       Chairs  731.9400            1            0  ...   \n",
       "2     Office Supplies       Labels   14.6200            1            0  ...   \n",
       "3           Furniture       Tables  957.5775            0            1  ...   \n",
       "4     Office Supplies      Storage   22.3680            0            1  ...   \n",
       "...               ...          ...       ...          ...          ...  ...   \n",
       "9795  Office Supplies      Binders    3.7980            0            1  ...   \n",
       "9796  Office Supplies          Art   10.3680            0            1  ...   \n",
       "9797       Technology       Phones  235.1880            0            1  ...   \n",
       "9798       Technology       Phones   26.3760            0            1  ...   \n",
       "9799       Technology  Accessories   10.3840            0            1  ...   \n",
       "\n",
       "      City_12  City_13  City_14  City_15  City_16  City_17  City_18  City_19  \\\n",
       "0           0        0        0        0        0        0        0        0   \n",
       "1           0        0        0        0        0        0        0        0   \n",
       "2           0        0        0        0        0        0        0        0   \n",
       "3           0        0        0        0        0        0        0        0   \n",
       "4           0        0        0        0        0        0        0        0   \n",
       "...       ...      ...      ...      ...      ...      ...      ...      ...   \n",
       "9795        0        0        0        0        0        0        0        0   \n",
       "9796        0        0        0        0        0        0        0        0   \n",
       "9797        0        0        0        0        0        0        0        0   \n",
       "9798        0        0        0        0        0        0        0        0   \n",
       "9799        0        0        0        0        0        0        0        0   \n",
       "\n",
       "      City_20  City_21  \n",
       "0           0        0  \n",
       "1           0        0  \n",
       "2           0        0  \n",
       "3           0        0  \n",
       "4           0        0  \n",
       "...       ...      ...  \n",
       "9795        0        0  \n",
       "9796        0        0  \n",
       "9797        0        0  \n",
       "9798        0        0  \n",
       "9799        0        0  \n",
       "\n",
       "[9789 rows x 108 columns]"
      ]
     },
     "execution_count": 9,
     "metadata": {},
     "output_type": "execute_result"
    }
   ],
   "source": [
    "import category_encoders as ce\n",
    "# create an object of the OneHotEncoder\n",
    "OHE = ce.OneHotEncoder()\n",
    "# encode the categorical variables\n",
    "_data=pd.DataFrame(OHE.fit_transform(train_data[['Ship Mode', 'Segment','State', 'Region', 'Category', 'Sub-Category','City']]))\n",
    "# merge with main df bridge_df on key values\n",
    "train_data = train_data.join(_data)\n",
    "train_data"
   ]
  },
  {
   "cell_type": "code",
   "execution_count": 10,
   "id": "e315ff14",
   "metadata": {},
   "outputs": [],
   "source": [
    "train_data.drop(columns=['Ship Mode', 'Segment','State', 'Region', 'Category', 'Sub-Category','City'], inplace=True)"
   ]
  },
  {
   "cell_type": "code",
   "execution_count": 11,
   "id": "3e7a0c22",
   "metadata": {},
   "outputs": [
    {
     "data": {
      "text/html": [
       "<div>\n",
       "<style scoped>\n",
       "    .dataframe tbody tr th:only-of-type {\n",
       "        vertical-align: middle;\n",
       "    }\n",
       "\n",
       "    .dataframe tbody tr th {\n",
       "        vertical-align: top;\n",
       "    }\n",
       "\n",
       "    .dataframe thead th {\n",
       "        text-align: right;\n",
       "    }\n",
       "</style>\n",
       "<table border=\"1\" class=\"dataframe\">\n",
       "  <thead>\n",
       "    <tr style=\"text-align: right;\">\n",
       "      <th></th>\n",
       "      <th>Sales</th>\n",
       "      <th>Ship Mode_1</th>\n",
       "      <th>Ship Mode_2</th>\n",
       "      <th>Ship Mode_3</th>\n",
       "      <th>Ship Mode_4</th>\n",
       "      <th>Segment_1</th>\n",
       "      <th>Segment_2</th>\n",
       "      <th>Segment_3</th>\n",
       "      <th>State_1</th>\n",
       "      <th>State_2</th>\n",
       "      <th>...</th>\n",
       "      <th>City_12</th>\n",
       "      <th>City_13</th>\n",
       "      <th>City_14</th>\n",
       "      <th>City_15</th>\n",
       "      <th>City_16</th>\n",
       "      <th>City_17</th>\n",
       "      <th>City_18</th>\n",
       "      <th>City_19</th>\n",
       "      <th>City_20</th>\n",
       "      <th>City_21</th>\n",
       "    </tr>\n",
       "  </thead>\n",
       "  <tbody>\n",
       "    <tr>\n",
       "      <th>0</th>\n",
       "      <td>261.9600</td>\n",
       "      <td>1</td>\n",
       "      <td>0</td>\n",
       "      <td>0</td>\n",
       "      <td>0</td>\n",
       "      <td>1</td>\n",
       "      <td>0</td>\n",
       "      <td>0</td>\n",
       "      <td>1</td>\n",
       "      <td>0</td>\n",
       "      <td>...</td>\n",
       "      <td>0</td>\n",
       "      <td>0</td>\n",
       "      <td>0</td>\n",
       "      <td>0</td>\n",
       "      <td>0</td>\n",
       "      <td>0</td>\n",
       "      <td>0</td>\n",
       "      <td>0</td>\n",
       "      <td>0</td>\n",
       "      <td>0</td>\n",
       "    </tr>\n",
       "    <tr>\n",
       "      <th>1</th>\n",
       "      <td>731.9400</td>\n",
       "      <td>1</td>\n",
       "      <td>0</td>\n",
       "      <td>0</td>\n",
       "      <td>0</td>\n",
       "      <td>1</td>\n",
       "      <td>0</td>\n",
       "      <td>0</td>\n",
       "      <td>1</td>\n",
       "      <td>0</td>\n",
       "      <td>...</td>\n",
       "      <td>0</td>\n",
       "      <td>0</td>\n",
       "      <td>0</td>\n",
       "      <td>0</td>\n",
       "      <td>0</td>\n",
       "      <td>0</td>\n",
       "      <td>0</td>\n",
       "      <td>0</td>\n",
       "      <td>0</td>\n",
       "      <td>0</td>\n",
       "    </tr>\n",
       "    <tr>\n",
       "      <th>2</th>\n",
       "      <td>14.6200</td>\n",
       "      <td>1</td>\n",
       "      <td>0</td>\n",
       "      <td>0</td>\n",
       "      <td>0</td>\n",
       "      <td>0</td>\n",
       "      <td>1</td>\n",
       "      <td>0</td>\n",
       "      <td>0</td>\n",
       "      <td>1</td>\n",
       "      <td>...</td>\n",
       "      <td>0</td>\n",
       "      <td>0</td>\n",
       "      <td>0</td>\n",
       "      <td>0</td>\n",
       "      <td>0</td>\n",
       "      <td>0</td>\n",
       "      <td>0</td>\n",
       "      <td>0</td>\n",
       "      <td>0</td>\n",
       "      <td>0</td>\n",
       "    </tr>\n",
       "    <tr>\n",
       "      <th>3</th>\n",
       "      <td>957.5775</td>\n",
       "      <td>0</td>\n",
       "      <td>1</td>\n",
       "      <td>0</td>\n",
       "      <td>0</td>\n",
       "      <td>1</td>\n",
       "      <td>0</td>\n",
       "      <td>0</td>\n",
       "      <td>0</td>\n",
       "      <td>0</td>\n",
       "      <td>...</td>\n",
       "      <td>0</td>\n",
       "      <td>0</td>\n",
       "      <td>0</td>\n",
       "      <td>0</td>\n",
       "      <td>0</td>\n",
       "      <td>0</td>\n",
       "      <td>0</td>\n",
       "      <td>0</td>\n",
       "      <td>0</td>\n",
       "      <td>0</td>\n",
       "    </tr>\n",
       "    <tr>\n",
       "      <th>4</th>\n",
       "      <td>22.3680</td>\n",
       "      <td>0</td>\n",
       "      <td>1</td>\n",
       "      <td>0</td>\n",
       "      <td>0</td>\n",
       "      <td>1</td>\n",
       "      <td>0</td>\n",
       "      <td>0</td>\n",
       "      <td>0</td>\n",
       "      <td>0</td>\n",
       "      <td>...</td>\n",
       "      <td>0</td>\n",
       "      <td>0</td>\n",
       "      <td>0</td>\n",
       "      <td>0</td>\n",
       "      <td>0</td>\n",
       "      <td>0</td>\n",
       "      <td>0</td>\n",
       "      <td>0</td>\n",
       "      <td>0</td>\n",
       "      <td>0</td>\n",
       "    </tr>\n",
       "  </tbody>\n",
       "</table>\n",
       "<p>5 rows × 101 columns</p>\n",
       "</div>"
      ],
      "text/plain": [
       "      Sales  Ship Mode_1  Ship Mode_2  Ship Mode_3  Ship Mode_4  Segment_1  \\\n",
       "0  261.9600            1            0            0            0          1   \n",
       "1  731.9400            1            0            0            0          1   \n",
       "2   14.6200            1            0            0            0          0   \n",
       "3  957.5775            0            1            0            0          1   \n",
       "4   22.3680            0            1            0            0          1   \n",
       "\n",
       "   Segment_2  Segment_3  State_1  State_2  ...  City_12  City_13  City_14  \\\n",
       "0          0          0        1        0  ...        0        0        0   \n",
       "1          0          0        1        0  ...        0        0        0   \n",
       "2          1          0        0        1  ...        0        0        0   \n",
       "3          0          0        0        0  ...        0        0        0   \n",
       "4          0          0        0        0  ...        0        0        0   \n",
       "\n",
       "   City_15  City_16  City_17  City_18  City_19  City_20  City_21  \n",
       "0        0        0        0        0        0        0        0  \n",
       "1        0        0        0        0        0        0        0  \n",
       "2        0        0        0        0        0        0        0  \n",
       "3        0        0        0        0        0        0        0  \n",
       "4        0        0        0        0        0        0        0  \n",
       "\n",
       "[5 rows x 101 columns]"
      ]
     },
     "execution_count": 11,
     "metadata": {},
     "output_type": "execute_result"
    }
   ],
   "source": [
    "train_data.head()"
   ]
  },
  {
   "cell_type": "code",
   "execution_count": 12,
   "id": "d7e3afe6",
   "metadata": {},
   "outputs": [
    {
     "data": {
      "text/plain": [
       "((7341, 100), (2448, 100), (7341,), (2448,))"
      ]
     },
     "execution_count": 12,
     "metadata": {},
     "output_type": "execute_result"
    }
   ],
   "source": [
    "# importing libraries\n",
    "from sklearn.ensemble import  RandomForestRegressor\n",
    "from sklearn.model_selection import train_test_split\n",
    "from sklearn.metrics import mean_squared_error\n",
    "\n",
    "# separate the independent and target variable \n",
    "train_X = train_data.drop(columns=['Sales'])\n",
    "train_Y = train_data['Sales']\n",
    "\n",
    "# randomly split the data\n",
    "train_x, test_x, train_y, test_y = train_test_split(train_X, train_Y,test_size=0.25,random_state=0)\n",
    "\n",
    "# shape of train and test splits\n",
    "train_x.shape, test_x.shape, train_y.shape, test_y.shape"
   ]
  },
  {
   "cell_type": "code",
   "execution_count": 13,
   "id": "3721e1b9",
   "metadata": {
    "scrolled": true
   },
   "outputs": [
    {
     "data": {
      "text/html": [
       "<div>\n",
       "<style scoped>\n",
       "    .dataframe tbody tr th:only-of-type {\n",
       "        vertical-align: middle;\n",
       "    }\n",
       "\n",
       "    .dataframe tbody tr th {\n",
       "        vertical-align: top;\n",
       "    }\n",
       "\n",
       "    .dataframe thead th {\n",
       "        text-align: right;\n",
       "    }\n",
       "</style>\n",
       "<table border=\"1\" class=\"dataframe\">\n",
       "  <thead>\n",
       "    <tr style=\"text-align: right;\">\n",
       "      <th></th>\n",
       "      <th>Sales</th>\n",
       "      <th>Ship Mode_1</th>\n",
       "      <th>Ship Mode_2</th>\n",
       "      <th>Ship Mode_3</th>\n",
       "      <th>Ship Mode_4</th>\n",
       "      <th>Segment_1</th>\n",
       "      <th>Segment_2</th>\n",
       "      <th>Segment_3</th>\n",
       "      <th>State_1</th>\n",
       "      <th>State_2</th>\n",
       "      <th>...</th>\n",
       "      <th>City_12</th>\n",
       "      <th>City_13</th>\n",
       "      <th>City_14</th>\n",
       "      <th>City_15</th>\n",
       "      <th>City_16</th>\n",
       "      <th>City_17</th>\n",
       "      <th>City_18</th>\n",
       "      <th>City_19</th>\n",
       "      <th>City_20</th>\n",
       "      <th>City_21</th>\n",
       "    </tr>\n",
       "  </thead>\n",
       "  <tbody>\n",
       "    <tr>\n",
       "      <th>0</th>\n",
       "      <td>261.9600</td>\n",
       "      <td>1</td>\n",
       "      <td>0</td>\n",
       "      <td>0</td>\n",
       "      <td>0</td>\n",
       "      <td>1</td>\n",
       "      <td>0</td>\n",
       "      <td>0</td>\n",
       "      <td>1</td>\n",
       "      <td>0</td>\n",
       "      <td>...</td>\n",
       "      <td>0</td>\n",
       "      <td>0</td>\n",
       "      <td>0</td>\n",
       "      <td>0</td>\n",
       "      <td>0</td>\n",
       "      <td>0</td>\n",
       "      <td>0</td>\n",
       "      <td>0</td>\n",
       "      <td>0</td>\n",
       "      <td>0</td>\n",
       "    </tr>\n",
       "    <tr>\n",
       "      <th>1</th>\n",
       "      <td>731.9400</td>\n",
       "      <td>1</td>\n",
       "      <td>0</td>\n",
       "      <td>0</td>\n",
       "      <td>0</td>\n",
       "      <td>1</td>\n",
       "      <td>0</td>\n",
       "      <td>0</td>\n",
       "      <td>1</td>\n",
       "      <td>0</td>\n",
       "      <td>...</td>\n",
       "      <td>0</td>\n",
       "      <td>0</td>\n",
       "      <td>0</td>\n",
       "      <td>0</td>\n",
       "      <td>0</td>\n",
       "      <td>0</td>\n",
       "      <td>0</td>\n",
       "      <td>0</td>\n",
       "      <td>0</td>\n",
       "      <td>0</td>\n",
       "    </tr>\n",
       "    <tr>\n",
       "      <th>2</th>\n",
       "      <td>14.6200</td>\n",
       "      <td>1</td>\n",
       "      <td>0</td>\n",
       "      <td>0</td>\n",
       "      <td>0</td>\n",
       "      <td>0</td>\n",
       "      <td>1</td>\n",
       "      <td>0</td>\n",
       "      <td>0</td>\n",
       "      <td>1</td>\n",
       "      <td>...</td>\n",
       "      <td>0</td>\n",
       "      <td>0</td>\n",
       "      <td>0</td>\n",
       "      <td>0</td>\n",
       "      <td>0</td>\n",
       "      <td>0</td>\n",
       "      <td>0</td>\n",
       "      <td>0</td>\n",
       "      <td>0</td>\n",
       "      <td>0</td>\n",
       "    </tr>\n",
       "    <tr>\n",
       "      <th>3</th>\n",
       "      <td>957.5775</td>\n",
       "      <td>0</td>\n",
       "      <td>1</td>\n",
       "      <td>0</td>\n",
       "      <td>0</td>\n",
       "      <td>1</td>\n",
       "      <td>0</td>\n",
       "      <td>0</td>\n",
       "      <td>0</td>\n",
       "      <td>0</td>\n",
       "      <td>...</td>\n",
       "      <td>0</td>\n",
       "      <td>0</td>\n",
       "      <td>0</td>\n",
       "      <td>0</td>\n",
       "      <td>0</td>\n",
       "      <td>0</td>\n",
       "      <td>0</td>\n",
       "      <td>0</td>\n",
       "      <td>0</td>\n",
       "      <td>0</td>\n",
       "    </tr>\n",
       "    <tr>\n",
       "      <th>4</th>\n",
       "      <td>22.3680</td>\n",
       "      <td>0</td>\n",
       "      <td>1</td>\n",
       "      <td>0</td>\n",
       "      <td>0</td>\n",
       "      <td>1</td>\n",
       "      <td>0</td>\n",
       "      <td>0</td>\n",
       "      <td>0</td>\n",
       "      <td>0</td>\n",
       "      <td>...</td>\n",
       "      <td>0</td>\n",
       "      <td>0</td>\n",
       "      <td>0</td>\n",
       "      <td>0</td>\n",
       "      <td>0</td>\n",
       "      <td>0</td>\n",
       "      <td>0</td>\n",
       "      <td>0</td>\n",
       "      <td>0</td>\n",
       "      <td>0</td>\n",
       "    </tr>\n",
       "    <tr>\n",
       "      <th>...</th>\n",
       "      <td>...</td>\n",
       "      <td>...</td>\n",
       "      <td>...</td>\n",
       "      <td>...</td>\n",
       "      <td>...</td>\n",
       "      <td>...</td>\n",
       "      <td>...</td>\n",
       "      <td>...</td>\n",
       "      <td>...</td>\n",
       "      <td>...</td>\n",
       "      <td>...</td>\n",
       "      <td>...</td>\n",
       "      <td>...</td>\n",
       "      <td>...</td>\n",
       "      <td>...</td>\n",
       "      <td>...</td>\n",
       "      <td>...</td>\n",
       "      <td>...</td>\n",
       "      <td>...</td>\n",
       "      <td>...</td>\n",
       "      <td>...</td>\n",
       "    </tr>\n",
       "    <tr>\n",
       "      <th>9795</th>\n",
       "      <td>3.7980</td>\n",
       "      <td>0</td>\n",
       "      <td>1</td>\n",
       "      <td>0</td>\n",
       "      <td>0</td>\n",
       "      <td>0</td>\n",
       "      <td>1</td>\n",
       "      <td>0</td>\n",
       "      <td>0</td>\n",
       "      <td>0</td>\n",
       "      <td>...</td>\n",
       "      <td>0</td>\n",
       "      <td>0</td>\n",
       "      <td>0</td>\n",
       "      <td>0</td>\n",
       "      <td>0</td>\n",
       "      <td>0</td>\n",
       "      <td>0</td>\n",
       "      <td>0</td>\n",
       "      <td>0</td>\n",
       "      <td>0</td>\n",
       "    </tr>\n",
       "    <tr>\n",
       "      <th>9796</th>\n",
       "      <td>10.3680</td>\n",
       "      <td>0</td>\n",
       "      <td>1</td>\n",
       "      <td>0</td>\n",
       "      <td>0</td>\n",
       "      <td>0</td>\n",
       "      <td>1</td>\n",
       "      <td>0</td>\n",
       "      <td>0</td>\n",
       "      <td>0</td>\n",
       "      <td>...</td>\n",
       "      <td>0</td>\n",
       "      <td>0</td>\n",
       "      <td>0</td>\n",
       "      <td>0</td>\n",
       "      <td>0</td>\n",
       "      <td>0</td>\n",
       "      <td>0</td>\n",
       "      <td>0</td>\n",
       "      <td>0</td>\n",
       "      <td>0</td>\n",
       "    </tr>\n",
       "    <tr>\n",
       "      <th>9797</th>\n",
       "      <td>235.1880</td>\n",
       "      <td>0</td>\n",
       "      <td>1</td>\n",
       "      <td>0</td>\n",
       "      <td>0</td>\n",
       "      <td>0</td>\n",
       "      <td>1</td>\n",
       "      <td>0</td>\n",
       "      <td>0</td>\n",
       "      <td>0</td>\n",
       "      <td>...</td>\n",
       "      <td>0</td>\n",
       "      <td>0</td>\n",
       "      <td>0</td>\n",
       "      <td>0</td>\n",
       "      <td>0</td>\n",
       "      <td>0</td>\n",
       "      <td>0</td>\n",
       "      <td>0</td>\n",
       "      <td>0</td>\n",
       "      <td>0</td>\n",
       "    </tr>\n",
       "    <tr>\n",
       "      <th>9798</th>\n",
       "      <td>26.3760</td>\n",
       "      <td>0</td>\n",
       "      <td>1</td>\n",
       "      <td>0</td>\n",
       "      <td>0</td>\n",
       "      <td>0</td>\n",
       "      <td>1</td>\n",
       "      <td>0</td>\n",
       "      <td>0</td>\n",
       "      <td>0</td>\n",
       "      <td>...</td>\n",
       "      <td>0</td>\n",
       "      <td>0</td>\n",
       "      <td>0</td>\n",
       "      <td>0</td>\n",
       "      <td>0</td>\n",
       "      <td>0</td>\n",
       "      <td>0</td>\n",
       "      <td>0</td>\n",
       "      <td>0</td>\n",
       "      <td>0</td>\n",
       "    </tr>\n",
       "    <tr>\n",
       "      <th>9799</th>\n",
       "      <td>10.3840</td>\n",
       "      <td>0</td>\n",
       "      <td>1</td>\n",
       "      <td>0</td>\n",
       "      <td>0</td>\n",
       "      <td>0</td>\n",
       "      <td>1</td>\n",
       "      <td>0</td>\n",
       "      <td>0</td>\n",
       "      <td>0</td>\n",
       "      <td>...</td>\n",
       "      <td>0</td>\n",
       "      <td>0</td>\n",
       "      <td>0</td>\n",
       "      <td>0</td>\n",
       "      <td>0</td>\n",
       "      <td>0</td>\n",
       "      <td>0</td>\n",
       "      <td>0</td>\n",
       "      <td>0</td>\n",
       "      <td>0</td>\n",
       "    </tr>\n",
       "  </tbody>\n",
       "</table>\n",
       "<p>9789 rows × 101 columns</p>\n",
       "</div>"
      ],
      "text/plain": [
       "         Sales  Ship Mode_1  Ship Mode_2  Ship Mode_3  Ship Mode_4  Segment_1  \\\n",
       "0     261.9600            1            0            0            0          1   \n",
       "1     731.9400            1            0            0            0          1   \n",
       "2      14.6200            1            0            0            0          0   \n",
       "3     957.5775            0            1            0            0          1   \n",
       "4      22.3680            0            1            0            0          1   \n",
       "...        ...          ...          ...          ...          ...        ...   \n",
       "9795    3.7980            0            1            0            0          0   \n",
       "9796   10.3680            0            1            0            0          0   \n",
       "9797  235.1880            0            1            0            0          0   \n",
       "9798   26.3760            0            1            0            0          0   \n",
       "9799   10.3840            0            1            0            0          0   \n",
       "\n",
       "      Segment_2  Segment_3  State_1  State_2  ...  City_12  City_13  City_14  \\\n",
       "0             0          0        1        0  ...        0        0        0   \n",
       "1             0          0        1        0  ...        0        0        0   \n",
       "2             1          0        0        1  ...        0        0        0   \n",
       "3             0          0        0        0  ...        0        0        0   \n",
       "4             0          0        0        0  ...        0        0        0   \n",
       "...         ...        ...      ...      ...  ...      ...      ...      ...   \n",
       "9795          1          0        0        0  ...        0        0        0   \n",
       "9796          1          0        0        0  ...        0        0        0   \n",
       "9797          1          0        0        0  ...        0        0        0   \n",
       "9798          1          0        0        0  ...        0        0        0   \n",
       "9799          1          0        0        0  ...        0        0        0   \n",
       "\n",
       "      City_15  City_16  City_17  City_18  City_19  City_20  City_21  \n",
       "0           0        0        0        0        0        0        0  \n",
       "1           0        0        0        0        0        0        0  \n",
       "2           0        0        0        0        0        0        0  \n",
       "3           0        0        0        0        0        0        0  \n",
       "4           0        0        0        0        0        0        0  \n",
       "...       ...      ...      ...      ...      ...      ...      ...  \n",
       "9795        0        0        0        0        0        0        0  \n",
       "9796        0        0        0        0        0        0        0  \n",
       "9797        0        0        0        0        0        0        0  \n",
       "9798        0        0        0        0        0        0        0  \n",
       "9799        0        0        0        0        0        0        0  \n",
       "\n",
       "[9789 rows x 101 columns]"
      ]
     },
     "execution_count": 13,
     "metadata": {},
     "output_type": "execute_result"
    }
   ],
   "source": [
    "train_data"
   ]
  },
  {
   "cell_type": "code",
   "execution_count": 14,
   "id": "08e5028e",
   "metadata": {},
   "outputs": [
    {
     "name": "stdout",
     "output_type": "stream",
     "text": [
      "RMSE on train data:  435.559042306295\n",
      "RMSE on test data:  610.8373303488651\n"
     ]
    }
   ],
   "source": [
    "# create an object of the RandomForestRegressor\n",
    "model_RFR = RandomForestRegressor(max_depth=10)\n",
    "\n",
    "# fit the model with the training data\n",
    "model_RFR.fit(train_x, train_y)\n",
    "\n",
    "# predict the target on train and test data\n",
    "predict_train = model_RFR.predict(train_x)\n",
    "predict_test = model_RFR.predict(test_x)\n",
    "\n",
    "# Root Mean Squared Error on train and test data\n",
    "print('RMSE on train data: ', mean_squared_error(train_y, predict_train)**(0.5))\n",
    "print('RMSE on test data: ',  mean_squared_error(test_y, predict_test)**(0.5))"
   ]
  },
  {
   "cell_type": "code",
   "execution_count": 20,
   "id": "0d04ef07",
   "metadata": {},
   "outputs": [
    {
     "data": {
      "image/png": "[encoded data removed]",
      "text/plain": [
       "<Figure size 720x504 with 1 Axes>"
      ]
     },
     "metadata": {
      "needs_background": "light"
     },
     "output_type": "display_data"
    }
   ],
   "source": [
    "# plot the 7 most important features \n",
    "plt.figure(figsize=(10,7))\n",
    "feat_importances = pd.Series(model_RFR.feature_importances_, index = train_x.columns)\n",
    "feat_importances.nlargest(5).plot(kind='barh');"
   ]
  },
  {
   "cell_type": "code",
   "execution_count": 21,
   "id": "c2428565",
   "metadata": {},
   "outputs": [
    {
     "name": "stdout",
     "output_type": "stream",
     "text": [
      "RMSE on train data:  529.8174586702029\n",
      "RMSE on test data:  623.7172928421276\n"
     ]
    }
   ],
   "source": [
    "# training data with 7 most important features 'Category'!!!!!!!!!!!!!!!!!!!!!!!\n",
    "train_x_if = train_x[['Sub-Category_17','State_15', 'City_21', 'City_3','Sub-Category_16','Category_2','Sub-Category_17']]\n",
    "# test data with 7 most important features\n",
    "test_x_if = test_x[['Sub-Category_17','State_15', 'City_21', 'City_3','Sub-Category_16','Category_2','Sub-Category_17']]\n",
    "\n",
    "# create an object of the RandfomForestRegressor Model\n",
    "model_RFR_with_if = RandomForestRegressor(max_depth=10,random_state=2)\n",
    "\n",
    "# fit the model with the training data\n",
    "model_RFR_with_if.fit(train_x_if, train_y)\n",
    "\n",
    "# predict the target on the training and test data\n",
    "predict_train_with_if = model_RFR_with_if.predict(train_x_if)\n",
    "predict_test_with_if = model_RFR_with_if.predict(test_x_if)\n",
    "\n",
    "# Root Mean Squared Error on the train and test data\n",
    "print('RMSE on train data: ', mean_squared_error(train_y, predict_train_with_if)**(0.5))\n",
    "print('RMSE on test data: ',  mean_squared_error(test_y, predict_test_with_if)**(0.5))"
   ]
  },
  {
   "cell_type": "markdown",
   "id": "5a08af40",
   "metadata": {},
   "source": [
    "**PIPELINE**"
   ]
  },
  {
   "cell_type": "code",
   "execution_count": 83,
   "id": "2e8feabf",
   "metadata": {},
   "outputs": [
    {
     "data": {
      "text/plain": [
       "((7350, 7), (2450, 7), (7350,), (2450,))"
      ]
     },
     "execution_count": 83,
     "metadata": {},
     "output_type": "execute_result"
    }
   ],
   "source": [
    "# importing required libraries\n",
    "import pandas as pd\n",
    "from sklearn.compose import ColumnTransformer \n",
    "from sklearn.impute import SimpleImputer\n",
    "import category_encoders as ce\n",
    "from sklearn.preprocessing import StandardScaler\n",
    "from sklearn.ensemble import RandomForestRegressor\n",
    "from sklearn.pipeline import Pipeline\n",
    "from sklearn.model_selection import GridSearchCV\n",
    "\n",
    "# read the training data set\n",
    "data = pd.read_csv('train.csv')\n",
    "\n",
    "# top rows of the data\n",
    "data.head()\n",
    "data.drop(columns=['Order ID','Row ID','Order Date', 'Ship Date','Country', 'Customer ID','Customer Name','Product Name','Postal Code','Product ID'],inplace=True)\n",
    "# seperate the independent and target variables\n",
    "train_X1 = data.drop(columns=['Sales'])\n",
    "train_Y1 = data['Sales']\n",
    "\n",
    "# randomly split the data\n",
    "train_x1, test_x1, train_y1, test_y1 = train_test_split(train_X1, train_Y1,test_size=0.25,random_state=42)\n",
    "\n",
    "# shape of train and test splits\n",
    "train_x1.shape, test_x1.shape, train_y1.shape, test_y1.shape"
   ]
  },
  {
   "cell_type": "code",
   "execution_count": 70,
   "id": "99edc6c8",
   "metadata": {},
   "outputs": [],
   "source": [
    "# import the BaseEstimator\n",
    "from sklearn.base import BaseEstimator\n",
    "\n",
    "# define the class OutletTypeEncoder\n",
    "# This will be our custom transformer that will create 3 new binary columns\n",
    "# custom transformer must have methods fit and transform\n",
    "class OutletTypeEncoder(BaseEstimator):\n",
    "\n",
    "    def __init__(self):\n",
    "        pass\n",
    "\n",
    "    def fit(self, documents, y=None):\n",
    "        return self\n",
    "\n",
    "    def transform(self, x_dataset):\n",
    "        x_dataset['Sub-Category_17'] = (x_dataset['Sub-Category'] =='Copiers')*1\n",
    "        x_dataset['Sub-Category_16'] = (x_dataset['Sub-Category'] =='Machines')*1\n",
    "        x_dataset['State_15'] = (x_dataset['State'] == 'Indiana')*1\n",
    "        x_dataset['City_21'] = (x_dataset['City'] == 'Other')*1\n",
    "        x_dataset['City_3'] = (x_dataset['City'] == 'Philadelphia')*1\n",
    "        \n",
    "        col=['Ship Mode','Segment','State', 'Region', 'Category', 'Sub-Category','City']\n",
    "       # if set(col).issubset(x_dataset.columns):\n",
    "        #    x_dataset=pd.DataFrame(OHE.fit_transform(x_dataset[col]))\n",
    "        return x_dataset   \n"
   ]
  },
  {
   "cell_type": "code",
   "execution_count": 84,
   "id": "ae1ffd46",
   "metadata": {},
   "outputs": [],
   "source": [
    "# pre-processsing step\n",
    "# Drop the columns - \n",
    "pre_process = ColumnTransformer(remainder='passthrough',\n",
    "                                transformers=[('drop_columns', 'drop', ['Ship Mode', 'Segment','State', 'Region', 'Category', 'Sub-Category','City'\n",
    "                                                                       ]),\n",
    "                                                          ])"
   ]
  },
  {
   "cell_type": "code",
   "execution_count": 85,
   "id": "bea7dba8",
   "metadata": {},
   "outputs": [],
   "source": [
    "# Define the Pipeline\n",
    "model_pipeline = Pipeline(steps=[('get_outlet_binary_columns', OutletTypeEncoder()), \n",
    "                                 ('pre_processing',pre_process),\n",
    "                                 ('random_forest', RandomForestRegressor())\n",
    "                                 ])"
   ]
  },
  {
   "cell_type": "markdown",
   "id": "5f26bc07",
   "metadata": {},
   "source": [
    "**Grid Search**"
   ]
  },
  {
   "cell_type": "code",
   "execution_count": 134,
   "id": "1d16f96d",
   "metadata": {},
   "outputs": [
    {
     "data": {
      "text/plain": [
       "GridSearchCV(cv=5,\n",
       "             estimator=Pipeline(steps=[('get_outlet_binary_columns',\n",
       "                                        OutletTypeEncoder()),\n",
       "                                       ('pre_processing',\n",
       "                                        ColumnTransformer(remainder='passthrough',\n",
       "                                                          transformers=[('drop_columns',\n",
       "                                                                         'drop',\n",
       "                                                                         ['Ship '\n",
       "                                                                          'Mode',\n",
       "                                                                          'Segment',\n",
       "                                                                          'State',\n",
       "                                                                          'Region',\n",
       "                                                                          'Category',\n",
       "                                                                          'Sub-Category',\n",
       "                                                                          'City'])])),\n",
       "                                       ('random_forest',\n",
       "                                        RandomForestRegressor())]),\n",
       "             param_grid={'random_forest__max_depth': [8, 10, 12],\n",
       "                         'random_forest__random_state': [6, 8, 10, 12, 14, 16,\n",
       "                                                         42]})"
      ]
     },
     "execution_count": 134,
     "metadata": {},
     "output_type": "execute_result"
    }
   ],
   "source": [
    "param_grid = { \n",
    "    'random_forest__max_depth' :[8,10,12],\n",
    "    'random_forest__random_state': [6,8,10,12,14,16,42],\n",
    "    }\n",
    "grid = GridSearchCV(model_pipeline, param_grid = param_grid, cv = 5)\n",
    "grid"
   ]
  },
  {
   "cell_type": "code",
   "execution_count": 135,
   "id": "618f3be5",
   "metadata": {},
   "outputs": [
    {
     "name": "stdout",
     "output_type": "stream",
     "text": [
      "score = 0.14\n",
      "Pipeline(steps=[('get_outlet_binary_columns', OutletTypeEncoder()),\n",
      "                ('pre_processing',\n",
      "                 ColumnTransformer(remainder='passthrough',\n",
      "                                   transformers=[('drop_columns', 'drop',\n",
      "                                                  ['Ship Mode', 'Segment',\n",
      "                                                   'State', 'Region',\n",
      "                                                   'Category', 'Sub-Category',\n",
      "                                                   'City'])])),\n",
      "                ('random_forest',\n",
      "                 RandomForestRegressor(max_depth=8, random_state=8))])\n"
     ]
    }
   ],
   "source": [
    "grid.fit(train_x1, train_y1)\n",
    "\n",
    "print( \"score = %3.2f\" %(grid.score(test_x1, test_y1)))\n",
    "\n",
    "print(grid.best_estimator_)"
   ]
  },
  {
   "cell_type": "code",
   "execution_count": null,
   "id": "74608f75",
   "metadata": {},
   "outputs": [],
   "source": []
  },
  {
   "cell_type": "code",
   "execution_count": 136,
   "id": "174ce5c4",
   "metadata": {},
   "outputs": [
    {
     "data": {
      "text/plain": [
       "Pipeline(steps=[('get_outlet_binary_columns', OutletTypeEncoder()),\n",
       "                ('pre_processing',\n",
       "                 ColumnTransformer(remainder='passthrough',\n",
       "                                   transformers=[('drop_columns', 'drop',\n",
       "                                                  ['Ship Mode', 'Segment',\n",
       "                                                   'State', 'Region',\n",
       "                                                   'Category', 'Sub-Category',\n",
       "                                                   'City'])])),\n",
       "                ('random_forest',\n",
       "                 RandomForestRegressor(max_depth=8, random_state=8))])"
      ]
     },
     "execution_count": 136,
     "metadata": {},
     "output_type": "execute_result"
    }
   ],
   "source": [
    "# Pipeline with the best parametrs\n",
    "\n",
    "model_pipeline = Pipeline(steps=[('get_outlet_binary_columns', OutletTypeEncoder()), \n",
    "                                 ('pre_processing',pre_process),\n",
    "                                 ('random_forest', RandomForestRegressor(max_depth=8,random_state=8))\n",
    "                                 ])\n",
    "\n",
    "# fit the pipeline with the training data\n",
    "model_pipeline.fit(train_x1,train_y1)"
   ]
  },
  {
   "cell_type": "code",
   "execution_count": 137,
   "id": "81022aab",
   "metadata": {},
   "outputs": [
    {
     "data": {
      "text/plain": [
       "array([196.80686531, 196.80686531, 196.80686531, ..., 196.80686531,\n",
       "       196.80686531, 196.80686531])"
      ]
     },
     "execution_count": 137,
     "metadata": {},
     "output_type": "execute_result"
    }
   ],
   "source": [
    "# predict target values on the training data\n",
    "model_pipeline.predict(test_x1)"
   ]
  },
  {
   "cell_type": "markdown",
   "id": "74ba8fa1",
   "metadata": {},
   "source": [
    "# - Exercici 2\n",
    "\n",
    "Agafa un text en anglès que vulguis, i calcula'n la freqüència de les paraules"
   ]
  },
  {
   "cell_type": "code",
   "execution_count": 138,
   "id": "26ac6c9f",
   "metadata": {},
   "outputs": [],
   "source": [
    "import nltk\n",
    "from nltk.tokenize import word_tokenize\n",
    "from nltk.probability import FreqDist\n",
    "import string\n",
    "from nltk.corpus import stopwords\n",
    "# Stemming\n",
    "from nltk.stem import PorterStemmer\n",
    "from nltk.tokenize import sent_tokenize, word_tokenize"
   ]
  },
  {
   "cell_type": "markdown",
   "id": "130c254b",
   "metadata": {},
   "source": [
    "The text about Tarragona from Wikipedia"
   ]
  },
  {
   "cell_type": "code",
   "execution_count": 140,
   "id": "d1390a53",
   "metadata": {},
   "outputs": [
    {
     "name": "stderr",
     "output_type": "stream",
     "text": [
      "[nltk_data] Downloading package punkt to\n",
      "[nltk_data]     C:\\Users\\natas\\AppData\\Roaming\\nltk_data...\n",
      "[nltk_data]   Unzipping tokenizers\\punkt.zip.\n"
     ]
    },
    {
     "data": {
      "text/plain": [
       "True"
      ]
     },
     "execution_count": 140,
     "metadata": {},
     "output_type": "execute_result"
    }
   ],
   "source": [
    "nltk.download('punkt')"
   ]
  },
  {
   "cell_type": "code",
   "execution_count": 141,
   "id": "c4e676ea",
   "metadata": {},
   "outputs": [
    {
     "name": "stdout",
     "output_type": "stream",
     "text": [
      "<FreqDist with 901 samples and 2186 outcomes>\n"
     ]
    }
   ],
   "source": [
    "with open('tarragona.txt', encoding='utf8') as infile:\n",
    "    text=infile.read()\n",
    "    tokenized_word=word_tokenize(text.lower())\n",
    "    #Remover puntuacion\n",
    "    tokenized_word = [word for word in tokenized_word if word not in string.punctuation]\n",
    "    fdist = FreqDist(tokenized_word)\n",
    "    print(fdist)\n",
    "    "
   ]
  },
  {
   "cell_type": "code",
   "execution_count": 142,
   "id": "8620fb88",
   "metadata": {},
   "outputs": [
    {
     "name": "stdout",
     "output_type": "stream",
     "text": [
      "[('the', 219), ('of', 123), ('and', 67), ('in', 46), ('a', 40), ('was', 35), ('tarragona', 31), ('it', 31), ('is', 27), ('by', 27), ('to', 22), ('city', 21), ('roman', 15), ('on', 14), ('for', 12), ('as', 12), ('from', 11), ('which', 11), ('are', 11), ('an', 10), ('or', 9), ('its', 9), ('de', 9), ('with', 8), ('during', 8), ('war', 8), ('spanish', 8), ('plaça', 8), ('mediterranean', 7), ('called', 7)]\n"
     ]
    }
   ],
   "source": [
    "print(fdist.most_common(30))"
   ]
  },
  {
   "cell_type": "code",
   "execution_count": 143,
   "id": "07452d52",
   "metadata": {},
   "outputs": [
    {
     "data": {
      "image/png": "[encoded data removed]",
      "text/plain": [
       "<Figure size 864x576 with 1 Axes>"
      ]
     },
     "metadata": {
      "needs_background": "light"
     },
     "output_type": "display_data"
    }
   ],
   "source": [
    "# Frequency Distribution Plot\n",
    "import matplotlib.pyplot as plt\n",
    "\n",
    "plt.figure(figsize=(12,8))\n",
    "fdist.plot(30,cumulative=False)\n",
    "plt.show()"
   ]
  },
  {
   "cell_type": "markdown",
   "id": "27b84286",
   "metadata": {},
   "source": [
    "# Nivell 2\n",
    "Exercici 1 Treu les stopwords i realitza stemming al teu conjunt de dades."
   ]
  },
  {
   "cell_type": "code",
   "execution_count": 145,
   "id": "de976f55",
   "metadata": {},
   "outputs": [
    {
     "name": "stderr",
     "output_type": "stream",
     "text": [
      "[nltk_data] Downloading package stopwords to\n",
      "[nltk_data]     C:\\Users\\natas\\AppData\\Roaming\\nltk_data...\n",
      "[nltk_data]   Unzipping corpora\\stopwords.zip.\n"
     ]
    },
    {
     "data": {
      "text/plain": [
       "True"
      ]
     },
     "execution_count": 145,
     "metadata": {},
     "output_type": "execute_result"
    }
   ],
   "source": [
    "nltk.download('stopwords')"
   ]
  },
  {
   "cell_type": "code",
   "execution_count": 146,
   "id": "e12b2598",
   "metadata": {},
   "outputs": [
    {
     "name": "stdout",
     "output_type": "stream",
     "text": [
      "{'re', 'mustn', 'll', 'am', \"you've\", 'o', \"aren't\", \"you're\", 'what', 'no', 'have', 'about', 'don', 'because', 'if', 'both', 'was', 'me', \"mustn't\", 'herself', 'whom', 'an', 'after', 'should', 'his', 'against', 'again', 'too', 'mightn', \"it's\", 'does', 'your', 'being', 'at', \"don't\", 'once', 'ain', 'of', \"shouldn't\", 'but', 'and', 'wouldn', 'their', \"mightn't\", 'up', 'same', 'they', 'my', 'hers', 'from', \"wouldn't\", \"weren't\", 'that', 'were', 'other', 'before', 'not', 'now', 'haven', 'then', 'didn', 'her', 'down', 'to', 'ma', \"she's\", \"hadn't\", \"needn't\", 'did', 'in', 'so', 'under', \"wasn't\", 'shan', 'doesn', 'these', \"that'll\", 'do', 'them', 'd', 'each', 'themselves', 'here', 'hasn', 've', 'has', 'y', 'with', \"didn't\", 'on', 'will', 'couldn', \"you'd\", 'having', 'where', 'himself', 'is', 'itself', \"should've\", 'how', 'this', 'as', 'during', 'few', 'hadn', 'shouldn', 'who', 'below', 's', 'by', 'it', 'when', 'than', 'ourselves', \"hasn't\", 'isn', 'weren', \"won't\", 'between', 'are', 'any', \"doesn't\", 'won', 'theirs', 'i', 'yourselves', 'very', 'be', 'most', 'own', 'until', 'all', 'only', 'myself', 'our', 'some', 'further', 'had', 'doing', 'while', 'm', 'we', 'such', \"couldn't\", 'him', 'yourself', 'just', 'above', 'she', 'out', 'nor', 'which', 'a', 'for', 'off', 'those', \"haven't\", 'the', 'its', 'yours', 'aren', 'through', \"shan't\", 'into', 't', 'he', 'more', 'ours', 'been', 'why', 'over', 'you', 'needn', \"isn't\", 'or', 'can', 'there', 'wasn', \"you'll\"}\n"
     ]
    }
   ],
   "source": [
    "stop_words=set(stopwords.words(\"english\"))\n",
    "print(stop_words)"
   ]
  },
  {
   "cell_type": "code",
   "execution_count": 147,
   "id": "e7fb3d00",
   "metadata": {},
   "outputs": [],
   "source": [
    "#removing Stopwords\n",
    "tokenized_word = [word for word in tokenized_word if word not in stop_words]"
   ]
  },
  {
   "cell_type": "code",
   "execution_count": 148,
   "id": "82dab292",
   "metadata": {},
   "outputs": [
    {
     "name": "stdout",
     "output_type": "stream",
     "text": [
      "Filtered Sentence: ['tarragona', 'port', 'city', 'located', 'northeast', 'spain', 'costa', 'daurada', 'mediterranean', 'sea', 'founded', '5th', 'century', 'bc', 'capital', 'province', 'tarragona', 'part', 'tarragonès', 'catalonia', 'geographically', 'bordered', 'north', 'province', 'barcelona', 'province', 'lleida', 'city', 'population', '201,199', '2014', 'origins', 'one', 'catalan', 'legend', 'holds', 'tarragona', 'named', 'tarraho', 'eldest', 'son', 'tubal', 'c.', '2407', 'bc', 'another', 'derived', 'strabo', 'megasthenes', 'attributes', 'name', \"'tearcon\", 'ethiopian', '7th-century', 'bc', 'pharaoh', 'campaigned', 'spain', '3', 'real', 'founding', 'date', 'tarragona', 'unknown', 'city', 'may', 'begun', 'iberian', 'town', 'called', 'kesse', 'kosse', 'named', 'iberian', 'tribe', 'region', 'cossetans', 'though', 'identification', 'tarragona', 'kesse', 'certain', '4', 'william', 'smith', 'suggests', 'city', 'probably', 'founded', 'phoenicians', 'called', 'tarchon', 'according', 'samuel', 'bochart', 'means', 'citadel', 'name', 'probably', 'derived', 'situation', 'high', 'rock', '75–90', '250–300', 'ft', 'sea', 'whence', 'find', 'characterised', 'arce', 'potens', 'tarraco', '5', 'seated', 'river', 'sulcis', 'tulcis', 'modern', 'francolí', 'bay', 'mare', 'internum', 'mediterranean', 'pyrenees', 'river', 'iberus', 'modern', 'ebro', '6', 'livy', 'mentions', 'portus', 'tarraconis', '7', 'according', 'eratosthenes', 'naval', 'station', 'roads', 'ναύσταθμον', '8', 'artemidorus', 'ephesius', 'says', 'probability', 'none', 'scarcely', 'even', 'anchoring', 'place', 'strabo', 'calls', '``', 'harbourless', \"''\", 'ἀλίμενος', '9', 'better', 'reflects', 'present', 'condition', 'though', 'mole', 'constructed', '15th', 'century', 'materials', 'ancient', 'amphitheatre', 'another', 'subsequently', 'irishman', 'named', 'john', 'smith', 'sinnot', 'still', 'affords', 'little', 'protection', 'shipping', '10', 'rome', 'inscribed', 'marble', 'base', 'roman', 'consul', 'tiberius', 'claudius', 'candidus', 'unearthed', 'tarragona', 'british', 'museum', '195–199', 'ad', 'tarraco', 'lies', 'main', 'road', 'along', 'northeastern', 'coast', 'iberian', 'peninsula', '11', 'roman', 'republic', 'city', 'fortified', 'much', 'enlarged', 'roman', 'colony', 'brothers', 'publius', 'cornelius', 'scipio', 'gnaeus', 'cornelius', 'scipio', 'calvus', 'converted', 'fortress', 'arsenal', 'carthaginians', 'city', 'first', 'named', 'colonia', 'iulia', 'urbs', 'triumphalis', 'tarraco', 'capital', 'province', 'hispania', 'citerior', 'subsequently', 'became', 'capital', 'conventus', 'iuridicus', '12', 'province', 'named', 'hispania', 'tarraconensis', '13', 'augustus', 'wintered', 'tarraco', 'cantabrian', 'campaign', 'bestowed', 'many', 'marks', 'honour', 'city', 'among', 'honorary', 'titles', 'colonia', 'victrix', 'togata', 'colonia', 'julia', 'victrix', 'tarraconensis', 'according', 'mela', 'richest', 'town', 'coast', '14', 'strabo', 'represents', 'population', 'equal', 'carthago', 'nova', 'cartagena', '14', 'fertile', 'plain', 'sunny', 'shores', 'celebrated', 'martial', 'poets', 'neighbourhood', 'described', 'producing', 'good', 'wine', 'flax', '15', 'city', 'also', 'minted', 'coins', '16', 'inscribed', 'stone', 'base', 'lost', 'statue', 'tiberius', 'claudius', 'candidus', 'found', 'tarragona', 'nineteenth', 'century', '24-line', 'latin', 'inscription', 'describes', 'governor', 'senator', \"'s\", 'career', 'ally', 'future', 'roman', 'emperor', 'septimius', 'severus', 'fought', 'civil', 'war', 'following', 'assassination', 'commodus', '192', 'ad', 'important', 'marble', 'block', 'purchased', 'british', 'museum', '1994', '17', 'demise', 'roman', 'empire', 'union', 'spain', 'demise', 'western', 'roman', 'empire', 'city', 'captured', 'first', 'vandals', 'visigoths', 'visigothic', 'kingdom', \"'s\", 'rule', 'tarracona', 'ended', 'umayyad', 'conquest', 'hispania', '714.', 'important', 'border', 'city', 'caliphate', 'córdoba', '750', '1013.', 'demise', 'caliphate', 'part', 'taifa', 'zaragoza', '1013', '1110', 'control', 'almoravid', 'dynasty', '1110', '1117.', 'taken', 'county', 'barcelona', '1117.', 'dynastic', 'union', 'aragon', 'barcelona', 'part', 'principality', 'catalonia', 'within', 'crown', 'aragon', '1164', '1714.', 'dynastic', 'union', 'aragon', 'crown', 'castile', 'remained', 'part', 'crown', 'aragon', 'foundation', 'spanish', 'empire', '1516.', 'reapers', 'war', 'tarragona', 'captured', 'catalan', 'insurgents', 'french', 'support', '1641', 'retaken', 'spanish', 'troops', '1644.', 'captured', 'allied', 'portuguese', 'dutch', 'british', 'troops', '1705', 'war', 'spanish', 'succession', 'remained', 'hands', 'treaty', 'utrecht', '1713.', 'war', 'catalans', 'supported', 'unsuccessful', 'claim', 'archduke', 'charles', 'duke', 'teschen', 'victorious', 'bourbon', 'duke', 'anjou', 'became', 'philip', 'v', 'spain', 'signed', 'nueva', 'planta', 'decrees', 'abolished', 'crown', 'aragon', 'well', 'catalan', 'institutions', 'prohibited', 'administrative', 'use', 'catalan', 'language', '16', 'january', '1716.', 'peninsular', 'war', 'peninsular', 'war', 'first', 'siege', 'tarragona', '5', 'may', '29', 'june', '1811', 'louis-gabriel', 'suchet', \"'s\", 'army', 'aragon', 'first', 'french', 'empire', 'laid', 'siege', 'spanish', 'garrison', 'led', 'lieutenant', 'general', 'juan', 'senen', 'de', 'contreras', 'british', 'naval', 'squadron', 'commanded', 'admiral', 'edward', 'codrington', 'harassed', 'french', 'besiegers', 'cannon', 'fire', 'transported', 'large', 'numbers', 'reinforcements', 'city', 'sea', 'nevertheless', 'suchet', \"'s\", 'troops', 'stormed', 'defenses', 'killed', 'captured', 'almost', 'defenders', 'became', 'subprefecture', 'center', \"bouches-de-l'èbre\", 'department', 'french', 'empire', 'second', 'siege', 'tarragona', '3–11', 'june', '1813', 'overwhelming', 'anglo-spanish', 'force', 'command', 'lieutenant', 'general', 'john', 'murray', '8th', 'baronet', 'failed', 'wrest', 'tarragona', 'small', 'franco-italian', 'garrison', 'led', 'brigadier', 'general', 'antoine', 'marc', 'augustin', 'bertoletti', 'murray', 'subsequently', 'removed', 'command', 'indecisive', 'contradictory', 'leadership', 'anglo-spanish', 'forces', 'finally', 'captured', 'tarragona', '19', 'august', 'spanish', 'civil', 'war', 'spanish', 'civil', 'war', 'tarragona', 'hands', 'second', 'spanish', 'republic', 'captured', 'franco', \"'s\", 'nationalist', 'troops', '15', 'january', '1939', 'catalonia', 'offensive', 'main', 'sights', 'ancient', 'remains', 'amphithéâtre', 'tarragona', 'mediterranean', 'sea', 'roman', 'ruins', 'tarraco', 'designated', 'world', 'heritage', 'site', 'unesco', 'part', 'bases', 'large', 'cyclopean', 'walls', 'near', 'cuartel', 'de', 'pilatos', 'thought', 'pre-date', 'romans', 'building', 'mentioned', 'prison', '19th', 'century', 'said', 'palace', 'augustus', 'second', 'century', 'tarragona', 'amphitheatre', 'near', 'seashore', 'extensively', 'used', 'quarry', 'fall', 'western', 'roman', 'empire', 'vestiges', 'remain', 'circus', 'c.', '450', 'metres', '1,480', 'ft', 'long', 'built', 'area', 'called', 'plaça', 'de', 'la', 'font', 'though', 'portions', 'still', 'traced', 'throughout', 'town', 'latin', 'even', 'apparently', 'phoenician', 'inscriptions', 'stones', 'houses', 'mark', 'material', 'used', 'buildings', 'town', 'two', 'ancient', 'monuments', 'little', 'distance', 'town', 'however', 'fared', 'rather', 'better', 'first', 'les', 'ferreres', 'aqueduct', 'spans', 'valley', '4', 'kilometres', '2', 'miles', 'north', 'city', '217', '712', 'ft', 'length', 'loftiest', 'arches', 'two', 'tiers', '26', '85', 'ft', 'high', 'monument', '6', 'km', '4', 'mi', 'along', 'coast', 'road', 'east', 'city', 'commonly', 'called', '``', 'tower', 'scipios', \"''\", 'authority', 'assuming', 'buried', '18', 'roman', 'buildings', 'include', 'roman', 'walls', 'capitol', 'citadel', 'amphitheatre', 'roman', 'circus', 'pretorium', '–', 'tower', 'provincial', 'colonial', 'fora', 'necropolis', 'palace', 'augustus', 'called', 'house', 'pilate', 'so-called', 'tower', 'sepulchre', 'scipios', 'arch', 'sura', 'bara', 'aurelian', 'way', 'city', 'also', 'home', 'national', 'archaeological', 'museum', 'tarragona', 'religious', 'buildings', 'tarragona', 'cathedral', 'dating', '12th–13th', 'centuries', 'combining', 'romanesque', 'gothic', 'architectural', 'elements', 'convent', 'poor', 'clares', 'near', 'walls', 'convent', 'santa', 'teresa', 'church', 'order', 'friars', 'minor', 'capuchin', 'parish', 'church', 'port', 'former', 'convent', 'sant', 'francesc', 'jesuit', 'college', 'turned', 'barracks', 'church', 'however', 'restored', 'convent', 'dominican', 'order', 'town', 'hall', 'archiepiscopal', 'palace', 'situated', 'site', 'ancient', 'capitol', 'one', 'tower', 'still', 'remains', 'rebuilt', '19th', 'century', 'near', 'sea', 'roman', 'amphitheatre', 'remains', 'church', 'called', 'santa', 'maria', 'del', 'miracle', 'holy', 'mary', 'miracle', 'belonged', 'knights', 'templar', 'afterwards', 'used', 'trinitarian', 'order', 'later', 'converted', 'penitentiary', 'demolished', 'around', '1915', '19', 'tarragona', 'cathedral', 'seminary', 'sant', 'pau', 'santa', 'tecla', 'founded', '1570', 'cardinal', 'archbishop', 'gaspar', 'cervantes', 'de', 'gaeta', 'first', 'comply', 'decrees', 'council', 'trent', '1858', 'archbishop', 'josé', 'domingo', 'costa', 'borrás', 'built', 'fourth', 'wing', 'benito', 'villamitjana', 'built', 'new', 'seminary', 'behind', 'cathedral', '1886', 'courtyard', 'stands', 'old', 'chapel', 'sant', 'pau', 'pope', 'leo', 'xiii', 'raised', 'rank', 'pontifical', 'university', '50', 'km', '31.07', 'mi', 'north', 'city', 'poblet', 'monastery', 'founded', '1151', 'ramon', 'berenguer', 'iv', 'count', 'barcelona', 'used', 'sepultures', 'kings', 'modern', 'tarragona', 'plaça', 'del', 'fòrum', 'tarragona', 'home', 'large', 'port', 'rovira', 'virgili', 'university', 'much', 'economic', 'activity', 'comes', 'large', 'number', 'chemical', 'industries', 'located', 'south', 'city', 'main', 'living', 'heritage', 'popular', 'retinue', 'great', 'parade', 'dances', 'bestiary', 'spoken', 'dances', 'human', 'towers', 'specially', 'participate', 'santa', 'tecla', 'festival', 'popular', 'tarragona', 'also', 'catalonia', 'got', 'home', 'called', '``', 'casa', 'de', 'la', 'festa', \"''\", 'festivities', 'house', 'visit', 'year', '20', 'number', 'beaches', 'awarded', 'blue', 'flag', 'designation', 'line', 'mediterranean', 'coast', 'near', 'city', 'tarragona', 'located', 'near', 'resort', 'salou', 'portaventura', 'world', 'portaventura', 'park', 'visited', 'theme', 'park', 'spain', '21', 'ferrari', 'land', 'also', 'portaventura', 'caribe', 'aquatic', 'park', 'city', 'served', 'camp', 'de', 'tarragona', 'railway', 'station', 'located', 'kilometres', 'away', 'reus', 'airport', 'many', 'low-cost', 'destinations', 'charter-flights', 'million', 'passengers', 'per', 'year', 'port', 'export', 'hub', 'spanish', 'car', 'industry', '22', 'reus', 'second', 'city', 'tarragona', 'area', '101,767', 'inhabitants', '2006', 'known', 'commercial', 'activity', 'place', 'architect', 'antoni', 'gaudí', 'born', 'city', 'hosted', '2018', 'mediterranean', 'games', 'one', 'year', 'later', 'planned', 'political', 'economical', 'instability', '23', 'tourism', 'tarragoa', 'one', 'world', 'heritage', 'journeys', 'european', 'union', '24', 'tourism', 'focused', 'key', 'sites', 'mercat', 'central', 'de', 'tarragona', 'central', 'market', 'tarragona', 'la', 'rambla', 'nova', 'main', 'shopping', 'street', 'el', 'serrallo', 'fishing', 'village', 'surrounding', 'beaches', 'golden', 'coast', 'key', 'plazas', 'plaça', 'de', 'la', 'font', 'plaça', 'del', 'fòrum', 'plaça', 'del', 'rei', 'balcó', 'del', 'mediterrani', 'praetorium', 'roman', 'circus', 'roman', 'amphitheatre', 'model', 'roman', 'tarraco', 'cathedral', '25', 'food', 'drink', 'tarragona', 'contains', 'number', 'small', 'bars', 'restaurants', 'cafes', 'serving', 'tapas', 'sandwiches', 'local', 'seafood', 'catalan', 'dishes', 'like', '``', 'pa', 'amb', 'tomàquet', \"''\", '``', 'neules', 'torrons', \"''\", 'many', 'outlets', 'found', 'historic', 'centre', 'including', 'plaça', 'de', 'la', 'font', 'plaça', 'del', 'rei', 'plaça', 'del', 'fòrum', 'neighbourhood', 'el', 'serrallo', 'harbour', 'specialises', 'seafood', 'cuisine', 'chartreuse', 'local', 'drink', 'tarragona', 'originally', 'created', '1605', 'considerd', 'monks', '“', 'elixir', 'long', 'life', '”', 'produced', 'yellow', 'alcohol', 'content', '40º', 'well', 'green', 'content', '55º', '1903', '1989', 'french', 'liqueur', 'made', 'carthusian', 'monks', 'chartreuse', 'distilled', 'tarragona', 'following', 'monks', 'expulsion', 'france', '26', 'chartreuse', 'key', 'part', 'feast', 'santa', 'tecla', '27', 'traditional', 'festival', 'national', 'interest', 'celebrates', 'patroness', 'saint', 'city', '28', 'tarragona', 'home', 'two', 'michelin', 'star', 'restaurants', 'el', 'terrat', 'barquet', '29', 'climate', 'climate', 'tarragona', 'described', 'humid', 'subtropical', 'climate', 'köppen', 'cfa', 'despite', 'location', 'mediterranean', 'region', 'mediterranean', 'climate', 'since', 'august', 'rainfall', 'winter', 'months', 'receive', 'near', 'less', '30', 'mm', '1.2', 'winters', 'mildly', 'cool', 'summers', 'hot', 'sultry', 'rainiest', 'seasons', 'autumn', 'spring']\n",
      "Stemmed Sentence: ['tarragona', 'port', 'citi', 'locat', 'northeast', 'spain', 'costa', 'daurada', 'mediterranean', 'sea', 'found', '5th', 'centuri', 'bc', 'capit', 'provinc', 'tarragona', 'part', 'tarragonè', 'catalonia', 'geograph', 'border', 'north', 'provinc', 'barcelona', 'provinc', 'lleida', 'citi', 'popul', '201,199', '2014', 'origin', 'one', 'catalan', 'legend', 'hold', 'tarragona', 'name', 'tarraho', 'eldest', 'son', 'tubal', 'c.', '2407', 'bc', 'anoth', 'deriv', 'strabo', 'megasthen', 'attribut', 'name', \"'tearcon\", 'ethiopian', '7th-centuri', 'bc', 'pharaoh', 'campaign', 'spain', '3', 'real', 'found', 'date', 'tarragona', 'unknown', 'citi', 'may', 'begun', 'iberian', 'town', 'call', 'kess', 'koss', 'name', 'iberian', 'tribe', 'region', 'cossetan', 'though', 'identif', 'tarragona', 'kess', 'certain', '4', 'william', 'smith', 'suggest', 'citi', 'probabl', 'found', 'phoenician', 'call', 'tarchon', 'accord', 'samuel', 'bochart', 'mean', 'citadel', 'name', 'probabl', 'deriv', 'situat', 'high', 'rock', '75–90', '250–300', 'ft', 'sea', 'whenc', 'find', 'characteris', 'arc', 'poten', 'tarraco', '5', 'seat', 'river', 'sulci', 'tulci', 'modern', 'francolí', 'bay', 'mare', 'internum', 'mediterranean', 'pyrene', 'river', 'iberu', 'modern', 'ebro', '6', 'livi', 'mention', 'portu', 'tarraconi', '7', 'accord', 'eratosthen', 'naval', 'station', 'road', 'ναύσταθμον', '8', 'artemidoru', 'ephesiu', 'say', 'probabl', 'none', 'scarc', 'even', 'anchor', 'place', 'strabo', 'call', '``', 'harbourless', \"''\", 'ἀλίμενος', '9', 'better', 'reflect', 'present', 'condit', 'though', 'mole', 'construct', '15th', 'centuri', 'materi', 'ancient', 'amphitheatr', 'anoth', 'subsequ', 'irishman', 'name', 'john', 'smith', 'sinnot', 'still', 'afford', 'littl', 'protect', 'ship', '10', 'rome', 'inscrib', 'marbl', 'base', 'roman', 'consul', 'tiberiu', 'claudiu', 'candidu', 'unearth', 'tarragona', 'british', 'museum', '195–199', 'ad', 'tarraco', 'lie', 'main', 'road', 'along', 'northeastern', 'coast', 'iberian', 'peninsula', '11', 'roman', 'republ', 'citi', 'fortifi', 'much', 'enlarg', 'roman', 'coloni', 'brother', 'publiu', 'corneliu', 'scipio', 'gnaeu', 'corneliu', 'scipio', 'calvu', 'convert', 'fortress', 'arsen', 'carthaginian', 'citi', 'first', 'name', 'colonia', 'iulia', 'urb', 'triumphali', 'tarraco', 'capit', 'provinc', 'hispania', 'citerior', 'subsequ', 'becam', 'capit', 'conventu', 'iuridicu', '12', 'provinc', 'name', 'hispania', 'tarraconensi', '13', 'augustu', 'winter', 'tarraco', 'cantabrian', 'campaign', 'bestow', 'mani', 'mark', 'honour', 'citi', 'among', 'honorari', 'titl', 'colonia', 'victrix', 'togata', 'colonia', 'julia', 'victrix', 'tarraconensi', 'accord', 'mela', 'richest', 'town', 'coast', '14', 'strabo', 'repres', 'popul', 'equal', 'carthago', 'nova', 'cartagena', '14', 'fertil', 'plain', 'sunni', 'shore', 'celebr', 'martial', 'poet', 'neighbourhood', 'describ', 'produc', 'good', 'wine', 'flax', '15', 'citi', 'also', 'mint', 'coin', '16', 'inscrib', 'stone', 'base', 'lost', 'statu', 'tiberiu', 'claudiu', 'candidu', 'found', 'tarragona', 'nineteenth', 'centuri', '24-line', 'latin', 'inscript', 'describ', 'governor', 'senat', \"'s\", 'career', 'alli', 'futur', 'roman', 'emperor', 'septimiu', 'severu', 'fought', 'civil', 'war', 'follow', 'assassin', 'commodu', '192', 'ad', 'import', 'marbl', 'block', 'purchas', 'british', 'museum', '1994', '17', 'demis', 'roman', 'empir', 'union', 'spain', 'demis', 'western', 'roman', 'empir', 'citi', 'captur', 'first', 'vandal', 'visigoth', 'visigoth', 'kingdom', \"'s\", 'rule', 'tarracona', 'end', 'umayyad', 'conquest', 'hispania', '714.', 'import', 'border', 'citi', 'caliph', 'córdoba', '750', '1013.', 'demis', 'caliph', 'part', 'taifa', 'zaragoza', '1013', '1110', 'control', 'almoravid', 'dynasti', '1110', '1117.', 'taken', 'counti', 'barcelona', '1117.', 'dynast', 'union', 'aragon', 'barcelona', 'part', 'princip', 'catalonia', 'within', 'crown', 'aragon', '1164', '1714.', 'dynast', 'union', 'aragon', 'crown', 'castil', 'remain', 'part', 'crown', 'aragon', 'foundat', 'spanish', 'empir', '1516.', 'reaper', 'war', 'tarragona', 'captur', 'catalan', 'insurg', 'french', 'support', '1641', 'retaken', 'spanish', 'troop', '1644.', 'captur', 'alli', 'portugues', 'dutch', 'british', 'troop', '1705', 'war', 'spanish', 'success', 'remain', 'hand', 'treati', 'utrecht', '1713.', 'war', 'catalan', 'support', 'unsuccess', 'claim', 'archduk', 'charl', 'duke', 'teschen', 'victori', 'bourbon', 'duke', 'anjou', 'becam', 'philip', 'v', 'spain', 'sign', 'nueva', 'planta', 'decre', 'abolish', 'crown', 'aragon', 'well', 'catalan', 'institut', 'prohibit', 'administr', 'use', 'catalan', 'languag', '16', 'januari', '1716.', 'peninsular', 'war', 'peninsular', 'war', 'first', 'sieg', 'tarragona', '5', 'may', '29', 'june', '1811', 'louis-gabriel', 'suchet', \"'s\", 'armi', 'aragon', 'first', 'french', 'empir', 'laid', 'sieg', 'spanish', 'garrison', 'led', 'lieuten', 'gener', 'juan', 'senen', 'de', 'contrera', 'british', 'naval', 'squadron', 'command', 'admir', 'edward', 'codrington', 'harass', 'french', 'besieg', 'cannon', 'fire', 'transport', 'larg', 'number', 'reinforc', 'citi', 'sea', 'nevertheless', 'suchet', \"'s\", 'troop', 'storm', 'defens', 'kill', 'captur', 'almost', 'defend', 'becam', 'subprefectur', 'center', \"bouches-de-l'èbr\", 'depart', 'french', 'empir', 'second', 'sieg', 'tarragona', '3–11', 'june', '1813', 'overwhelm', 'anglo-spanish', 'forc', 'command', 'lieuten', 'gener', 'john', 'murray', '8th', 'baronet', 'fail', 'wrest', 'tarragona', 'small', 'franco-italian', 'garrison', 'led', 'brigadi', 'gener', 'antoin', 'marc', 'augustin', 'bertoletti', 'murray', 'subsequ', 'remov', 'command', 'indecis', 'contradictori', 'leadership', 'anglo-spanish', 'forc', 'final', 'captur', 'tarragona', '19', 'august', 'spanish', 'civil', 'war', 'spanish', 'civil', 'war', 'tarragona', 'hand', 'second', 'spanish', 'republ', 'captur', 'franco', \"'s\", 'nationalist', 'troop', '15', 'januari', '1939', 'catalonia', 'offens', 'main', 'sight', 'ancient', 'remain', 'amphithéâtr', 'tarragona', 'mediterranean', 'sea', 'roman', 'ruin', 'tarraco', 'design', 'world', 'heritag', 'site', 'unesco', 'part', 'base', 'larg', 'cyclopean', 'wall', 'near', 'cuartel', 'de', 'pilato', 'thought', 'pre-dat', 'roman', 'build', 'mention', 'prison', '19th', 'centuri', 'said', 'palac', 'augustu', 'second', 'centuri', 'tarragona', 'amphitheatr', 'near', 'seashor', 'extens', 'use', 'quarri', 'fall', 'western', 'roman', 'empir', 'vestig', 'remain', 'circu', 'c.', '450', 'metr', '1,480', 'ft', 'long', 'built', 'area', 'call', 'plaça', 'de', 'la', 'font', 'though', 'portion', 'still', 'trace', 'throughout', 'town', 'latin', 'even', 'appar', 'phoenician', 'inscript', 'stone', 'hous', 'mark', 'materi', 'use', 'build', 'town', 'two', 'ancient', 'monument', 'littl', 'distanc', 'town', 'howev', 'fare', 'rather', 'better', 'first', 'le', 'ferrer', 'aqueduct', 'span', 'valley', '4', 'kilometr', '2', 'mile', 'north', 'citi', '217', '712', 'ft', 'length', 'loftiest', 'arch', 'two', 'tier', '26', '85', 'ft', 'high', 'monument', '6', 'km', '4', 'mi', 'along', 'coast', 'road', 'east', 'citi', 'commonli', 'call', '``', 'tower', 'scipio', \"''\", 'author', 'assum', 'buri', '18', 'roman', 'build', 'includ', 'roman', 'wall', 'capitol', 'citadel', 'amphitheatr', 'roman', 'circu', 'pretorium', '–', 'tower', 'provinci', 'coloni', 'fora', 'necropoli', 'palac', 'augustu', 'call', 'hous', 'pilat', 'so-cal', 'tower', 'sepulchr', 'scipio', 'arch', 'sura', 'bara', 'aurelian', 'way', 'citi', 'also', 'home', 'nation', 'archaeolog', 'museum', 'tarragona', 'religi', 'build', 'tarragona', 'cathedr', 'date', '12th–13th', 'centuri', 'combin', 'romanesqu', 'gothic', 'architectur', 'element', 'convent', 'poor', 'clare', 'near', 'wall', 'convent', 'santa', 'teresa', 'church', 'order', 'friar', 'minor', 'capuchin', 'parish', 'church', 'port', 'former', 'convent', 'sant', 'francesc', 'jesuit', 'colleg', 'turn', 'barrack', 'church', 'howev', 'restor', 'convent', 'dominican', 'order', 'town', 'hall', 'archiepiscop', 'palac', 'situat', 'site', 'ancient', 'capitol', 'one', 'tower', 'still', 'remain', 'rebuilt', '19th', 'centuri', 'near', 'sea', 'roman', 'amphitheatr', 'remain', 'church', 'call', 'santa', 'maria', 'del', 'miracl', 'holi', 'mari', 'miracl', 'belong', 'knight', 'templar', 'afterward', 'use', 'trinitarian', 'order', 'later', 'convert', 'penitentiari', 'demolish', 'around', '1915', '19', 'tarragona', 'cathedr', 'seminari', 'sant', 'pau', 'santa', 'tecla', 'found', '1570', 'cardin', 'archbishop', 'gaspar', 'cervant', 'de', 'gaeta', 'first', 'compli', 'decre', 'council', 'trent', '1858', 'archbishop', 'josé', 'domingo', 'costa', 'borrá', 'built', 'fourth', 'wing', 'benito', 'villamitjana', 'built', 'new', 'seminari', 'behind', 'cathedr', '1886', 'courtyard', 'stand', 'old', 'chapel', 'sant', 'pau', 'pope', 'leo', 'xiii', 'rais', 'rank', 'pontif', 'univers', '50', 'km', '31.07', 'mi', 'north', 'citi', 'poblet', 'monasteri', 'found', '1151', 'ramon', 'berengu', 'iv', 'count', 'barcelona', 'use', 'sepultur', 'king', 'modern', 'tarragona', 'plaça', 'del', 'fòrum', 'tarragona', 'home', 'larg', 'port', 'rovira', 'virgili', 'univers', 'much', 'econom', 'activ', 'come', 'larg', 'number', 'chemic', 'industri', 'locat', 'south', 'citi', 'main', 'live', 'heritag', 'popular', 'retinu', 'great', 'parad', 'danc', 'bestiari', 'spoken', 'danc', 'human', 'tower', 'special', 'particip', 'santa', 'tecla', 'festiv', 'popular', 'tarragona', 'also', 'catalonia', 'got', 'home', 'call', '``', 'casa', 'de', 'la', 'festa', \"''\", 'festiv', 'hous', 'visit', 'year', '20', 'number', 'beach', 'award', 'blue', 'flag', 'design', 'line', 'mediterranean', 'coast', 'near', 'citi', 'tarragona', 'locat', 'near', 'resort', 'salou', 'portaventura', 'world', 'portaventura', 'park', 'visit', 'theme', 'park', 'spain', '21', 'ferrari', 'land', 'also', 'portaventura', 'carib', 'aquat', 'park', 'citi', 'serv', 'camp', 'de', 'tarragona', 'railway', 'station', 'locat', 'kilometr', 'away', 'reu', 'airport', 'mani', 'low-cost', 'destin', 'charter-flight', 'million', 'passeng', 'per', 'year', 'port', 'export', 'hub', 'spanish', 'car', 'industri', '22', 'reu', 'second', 'citi', 'tarragona', 'area', '101,767', 'inhabit', '2006', 'known', 'commerci', 'activ', 'place', 'architect', 'antoni', 'gaudí', 'born', 'citi', 'host', '2018', 'mediterranean', 'game', 'one', 'year', 'later', 'plan', 'polit', 'econom', 'instabl', '23', 'tourism', 'tarragoa', 'one', 'world', 'heritag', 'journey', 'european', 'union', '24', 'tourism', 'focus', 'key', 'site', 'mercat', 'central', 'de', 'tarragona', 'central', 'market', 'tarragona', 'la', 'rambla', 'nova', 'main', 'shop', 'street', 'el', 'serrallo', 'fish', 'villag', 'surround', 'beach', 'golden', 'coast', 'key', 'plaza', 'plaça', 'de', 'la', 'font', 'plaça', 'del', 'fòrum', 'plaça', 'del', 'rei', 'balcó', 'del', 'mediterrani', 'praetorium', 'roman', 'circu', 'roman', 'amphitheatr', 'model', 'roman', 'tarraco', 'cathedr', '25', 'food', 'drink', 'tarragona', 'contain', 'number', 'small', 'bar', 'restaur', 'cafe', 'serv', 'tapa', 'sandwich', 'local', 'seafood', 'catalan', 'dish', 'like', '``', 'pa', 'amb', 'tomàquet', \"''\", '``', 'neul', 'torron', \"''\", 'mani', 'outlet', 'found', 'histor', 'centr', 'includ', 'plaça', 'de', 'la', 'font', 'plaça', 'del', 'rei', 'plaça', 'del', 'fòrum', 'neighbourhood', 'el', 'serrallo', 'harbour', 'specialis', 'seafood', 'cuisin', 'chartreus', 'local', 'drink', 'tarragona', 'origin', 'creat', '1605', 'considerd', 'monk', '“', 'elixir', 'long', 'life', '”', 'produc', 'yellow', 'alcohol', 'content', '40º', 'well', 'green', 'content', '55º', '1903', '1989', 'french', 'liqueur', 'made', 'carthusian', 'monk', 'chartreus', 'distil', 'tarragona', 'follow', 'monk', 'expuls', 'franc', '26', 'chartreus', 'key', 'part', 'feast', 'santa', 'tecla', '27', 'tradit', 'festiv', 'nation', 'interest', 'celebr', 'patro', 'saint', 'citi', '28', 'tarragona', 'home', 'two', 'michelin', 'star', 'restaur', 'el', 'terrat', 'barquet', '29', 'climat', 'climat', 'tarragona', 'describ', 'humid', 'subtrop', 'climat', 'köppen', 'cfa', 'despit', 'locat', 'mediterranean', 'region', 'mediterranean', 'climat', 'sinc', 'august', 'rainfal', 'winter', 'month', 'receiv', 'near', 'less', '30', 'mm', '1.2', 'winter', 'mildli', 'cool', 'summer', 'hot', 'sultri', 'rainiest', 'season', 'autumn', 'spring']\n"
     ]
    }
   ],
   "source": [
    "#Stemming\n",
    "ps = PorterStemmer()\n",
    "\n",
    "stemmed_words=[]\n",
    "for w in tokenized_word:\n",
    "    stemmed_words.append(ps.stem(w))\n",
    "\n",
    "print(\"Filtered Sentence:\",tokenized_word)\n",
    "print(\"Stemmed Sentence:\",stemmed_words)"
   ]
  },
  {
   "cell_type": "code",
   "execution_count": 152,
   "id": "bc13fac4",
   "metadata": {},
   "outputs": [
    {
     "name": "stderr",
     "output_type": "stream",
     "text": [
      "[nltk_data] Downloading package wordnet to\n",
      "[nltk_data]     C:\\Users\\natas\\AppData\\Roaming\\nltk_data...\n",
      "[nltk_data]   Package wordnet is already up-to-date!\n",
      "[nltk_data] Downloading package omw-1.4 to\n",
      "[nltk_data]     C:\\Users\\natas\\AppData\\Roaming\\nltk_data...\n",
      "[nltk_data]   Unzipping corpora\\omw-1.4.zip.\n"
     ]
    },
    {
     "data": {
      "text/plain": [
       "True"
      ]
     },
     "execution_count": 152,
     "metadata": {},
     "output_type": "execute_result"
    }
   ],
   "source": [
    "nltk.download('wordnet')\n",
    "nltk.download('omw-1.4')"
   ]
  },
  {
   "cell_type": "code",
   "execution_count": 153,
   "id": "fb33146e",
   "metadata": {},
   "outputs": [
    {
     "name": "stdout",
     "output_type": "stream",
     "text": [
      "Lemmatized Word: fly\n",
      "Stemmed Word: fli\n"
     ]
    }
   ],
   "source": [
    "#Lexicon Normalization\n",
    "#performing stemming and Lemmatization\n",
    "\n",
    "from nltk.stem.wordnet import WordNetLemmatizer\n",
    "lem = WordNetLemmatizer()\n",
    "\n",
    "from nltk.stem.porter import PorterStemmer\n",
    "stem = PorterStemmer()\n",
    "\n",
    "word = \"flying\"\n",
    "print(\"Lemmatized Word:\",lem.lemmatize(word,\"v\"))\n",
    "print(\"Stemmed Word:\",stem.stem(word))"
   ]
  },
  {
   "cell_type": "code",
   "execution_count": 154,
   "id": "6c74f462",
   "metadata": {},
   "outputs": [
    {
     "name": "stdout",
     "output_type": "stream",
     "text": [
      "[('tarragona', 31), ('city', 21), ('roman', 15), ('de', 9), ('war', 8), ('spanish', 8), ('plaça', 8), ('mediterranean', 7), ('called', 7), ('near', 7), ('del', 7), ('century', 6), ('part', 6), ('town', 6), ('tarraco', 6), ('first', 6), ('empire', 6), ('captured', 6), ('aragon', 6), ('spain', 5), ('sea', 5), ('province', 5), ('catalan', 5), ('named', 5), ('``', 5), (\"''\", 5), ('amphitheatre', 5), ('coast', 5), (\"'s\", 5), ('french', 5)]\n"
     ]
    }
   ],
   "source": [
    "fdist_new = FreqDist(tokenized_word)\n",
    "print(fdist_new.most_common(30))"
   ]
  },
  {
   "cell_type": "markdown",
   "id": "c4fef0fb",
   "metadata": {},
   "source": [
    "# Nivell 3\n",
    "Exercici 1 Realitza sentiment analysis al teu conjunt de dades."
   ]
  },
  {
   "cell_type": "code",
   "execution_count": 156,
   "id": "8979d7db",
   "metadata": {},
   "outputs": [
    {
     "name": "stderr",
     "output_type": "stream",
     "text": [
      "[nltk_data] Downloading package vader_lexicon to\n",
      "[nltk_data]     C:\\Users\\natas\\AppData\\Roaming\\nltk_data...\n"
     ]
    },
    {
     "data": {
      "text/plain": [
       "True"
      ]
     },
     "execution_count": 156,
     "metadata": {},
     "output_type": "execute_result"
    }
   ],
   "source": [
    "nltk.download('vader_lexicon')"
   ]
  },
  {
   "cell_type": "code",
   "execution_count": 157,
   "id": "3100d127",
   "metadata": {},
   "outputs": [
    {
     "data": {
      "text/plain": [
       "{'neg': 0.048, 'neu': 0.898, 'pos': 0.054, 'compound': 0.6223}"
      ]
     },
     "execution_count": 157,
     "metadata": {},
     "output_type": "execute_result"
    }
   ],
   "source": [
    "from nltk.sentiment import SentimentIntensityAnalyzer\n",
    "sia = SentimentIntensityAnalyzer()\n",
    "sia.polarity_scores(text)"
   ]
  },
  {
   "cell_type": "code",
   "execution_count": null,
   "id": "024fb4de",
   "metadata": {},
   "outputs": [],
   "source": []
  }
 ],
 "metadata": {
  "kernelspec": {
   "display_name": "Python 3",
   "language": "python",
   "name": "python3"
  },
  "language_info": {
   "codemirror_mode": {
    "name": "ipython",
    "version": 3
   },
   "file_extension": ".py",
   "mimetype": "text/x-python",
   "name": "python",
   "nbconvert_exporter": "python",
   "pygments_lexer": "ipython3",
   "version": "3.9.2"
  }
 },
 "nbformat": 4,
 "nbformat_minor": 5
}
