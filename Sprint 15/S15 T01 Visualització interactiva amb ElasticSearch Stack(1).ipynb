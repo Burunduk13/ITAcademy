{
 "cells": [
  {
   "cell_type": "markdown",
   "id": "c6b4fc21",
   "metadata": {},
   "source": [
    "# Nivell 1\n",
    "- Exercici 1\n",
    "Descarrega't Kibana i mostra algunes gràfiques utilitzant conjunts de dades d'Exemple."
   ]
  },
  {
   "cell_type": "markdown",
   "id": "9ba34baa",
   "metadata": {},
   "source": [
    "![Title](city_cat.png)"
   ]
  },
  {
   "cell_type": "code",
   "execution_count": null,
   "id": "e29c3101",
   "metadata": {},
   "outputs": [],
   "source": []
  },
  {
   "cell_type": "code",
   "execution_count": null,
   "id": "b19dbb99",
   "metadata": {},
   "outputs": [],
   "source": []
  },
  {
   "cell_type": "markdown",
   "id": "9c76d6e0",
   "metadata": {},
   "source": [
    "![Title](day_cat.png)"
   ]
  },
  {
   "cell_type": "code",
   "execution_count": null,
   "id": "44013cd6",
   "metadata": {},
   "outputs": [],
   "source": []
  },
  {
   "cell_type": "code",
   "execution_count": null,
   "id": "2069bc04",
   "metadata": {},
   "outputs": [],
   "source": []
  },
  {
   "cell_type": "markdown",
   "id": "9b239573",
   "metadata": {},
   "source": [
    "# Nivell 2\n",
    "- Exercici 1\n",
    "Implementa un dashboard que visualitzi interactivament les dades que triïs."
   ]
  },
  {
   "cell_type": "markdown",
   "id": "1a91085e",
   "metadata": {},
   "source": [
    "![Title](proba1.png)"
   ]
  },
  {
   "cell_type": "markdown",
   "id": "c61a7a70",
   "metadata": {},
   "source": [
    "![Title](year.png)"
   ]
  },
  {
   "cell_type": "markdown",
   "id": "a918cca2",
   "metadata": {},
   "source": [
    "# Nivell 3\n",
    "- Exercici 1\n",
    "Implementa un dashboard que generi gràfics utilitzant cadascun dels diferents tipus de gràfics que ofereix Kibana"
   ]
  },
  {
   "cell_type": "markdown",
   "id": "cc93bde7",
   "metadata": {},
   "source": [
    "![Title](Last.png)"
   ]
  },
  {
   "cell_type": "code",
   "execution_count": null,
   "id": "09395e5e",
   "metadata": {},
   "outputs": [],
   "source": []
  }
 ],
 "metadata": {
  "kernelspec": {
   "display_name": "Python 3 (ipykernel)",
   "language": "python",
   "name": "python3"
  },
  "language_info": {
   "codemirror_mode": {
    "name": "ipython",
    "version": 3
   },
   "file_extension": ".py",
   "mimetype": "text/x-python",
   "name": "python",
   "nbconvert_exporter": "python",
   "pygments_lexer": "ipython3",
   "version": "3.9.6"
  }
 },
 "nbformat": 4,
 "nbformat_minor": 5
}
